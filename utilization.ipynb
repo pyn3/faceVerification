{
 "cells": [
  {
   "cell_type": "code",
   "execution_count": 1,
   "metadata": {},
   "outputs": [],
   "source": [
    "# import libraries\n",
    "import pandas as pd\n",
    "import numpy as np\n",
    "from sklearn import metrics\n"
   ]
  },
  {
   "cell_type": "code",
   "execution_count": 2,
   "metadata": {},
   "outputs": [],
   "source": [
    "def calculate_accuracy(threshold, dist, actual_issame):\n",
    "    # If distance is less than threshold, then prediction is set to True\n",
    "    predict_issame = np.less(dist, threshold)\n",
    "\n",
    "    true_positives = np.sum(np.logical_and(predict_issame, actual_issame))\n",
    "    false_positives = np.sum(np.logical_and(predict_issame, np.logical_not(actual_issame)))\n",
    "    true_negatives = np.sum(np.logical_and(np.logical_not(predict_issame), np.logical_not(actual_issame)))\n",
    "    false_negatives = np.sum(np.logical_and(np.logical_not(predict_issame), actual_issame))\n",
    "\n",
    "    # For dealing with Divide By Zero exception\n",
    "    true_positive_rate = 0 if (true_positives + false_negatives == 0) else float(true_positives) / float(\n",
    "        true_positives + false_negatives)\n",
    "\n",
    "    false_positive_rate = 0 if (false_positives + true_negatives == 0) else float(false_positives) / float(\n",
    "        false_positives + true_negatives)\n",
    "\n",
    "    precision = 0 if (true_positives + false_positives) == 0 else float(true_positives) / float(\n",
    "        true_positives + false_positives)\n",
    "\n",
    "    recall = 0 if (true_positives + false_negatives) == 0 else float(true_positives) / float(\n",
    "        true_positives + false_negatives)\n",
    "\n",
    "    accuracy = float(true_positives + true_negatives) / dist.size\n",
    "\n",
    "    #     return true_positive_rate, false_positive_rate, precision, recall, accuracy\n",
    "    return [true_positive_rate, false_positive_rate, accuracy]\n",
    "\n",
    "    return acc\n",
    "def plot_cf_matrix(actual, pred):\n",
    "    cf = metrics.confusion_matrix(actual, pred)\n",
    "    cf = metrics.ConfusionMatrixDisplay(cf, display_labels = ['False', 'True']).plot()\n",
    "    return cf\n",
    "def cal_acc_2_df(df1: pd.DataFrame(), df2: pd.DataFrame()):\n",
    "    df1_acc = calculate_accuracy(df1['threshold'], df1['distance'], df1['label'])\n",
    "    df2_acc = calculate_accuracy(df2['threshold'], df2['distance'], df2['label'])\n",
    "\n",
    "    print(f'Accuracy of similarity of {df1.model.value_counts().index.item()}: {round(df1_acc, 4)}')\n",
    "    print(f'Accuracy of similarity of {df2.model.value_counts().index.item()}: {round(df2_acc, 4)}')\n",
    "    return df1_acc, df2_acc"
   ]
  },
  {
   "cell_type": "code",
   "execution_count": 3,
   "metadata": {},
   "outputs": [],
   "source": [
    "VGG_Face1_5_fold = pd.read_csv('./VGG-Face1_5_fold.csv')\n",
    "VGG_Face2_5_fold = pd.read_csv('./VGG-Face2_5_fold.csv')\n",
    "VGG_Face3_5_fold = pd.read_csv('./VGG-Face3.0_5_fold.csv')\n",
    "VGG_Face4_5_fold = pd.read_csv('./VGG-Face4.0_5_fold.csv')\n",
    "VGG_Face5_5_fold = pd.read_csv('./VGG-Face5_5_fold.csv')"
   ]
  },
  {
   "cell_type": "code",
   "execution_count": 36,
   "metadata": {},
   "outputs": [
    {
     "data": {
      "text/plain": [
       "[0.9013761467889908, 0.18830275229357799, 0.8565366972477064]"
      ]
     },
     "execution_count": 36,
     "metadata": {},
     "output_type": "execute_result"
    }
   ],
   "source": [
    "vgg_face = pd.concat([VGG_Face1_5_fold, VGG_Face2_5_fold, VGG_Face3_5_fold, VGG_Face4_5_fold, VGG_Face5_5_fold])\n",
    "vgg_face = vgg_face.drop(['Unnamed: 0'], axis=1)\n",
    "calculate_accuracy(vgg_face['threshold'], vgg_face['distance'],vgg_face['label'])"
   ]
  },
  {
   "cell_type": "code",
   "execution_count": 37,
   "metadata": {},
   "outputs": [
    {
     "data": {
      "text/plain": [
       "<sklearn.metrics._plot.confusion_matrix.ConfusionMatrixDisplay at 0x1fdf0100df0>"
      ]
     },
     "execution_count": 37,
     "metadata": {},
     "output_type": "execute_result"
    },
    {
     "data": {
      "image/png": "[encoded data removed]",
      "text/plain": [
       "<Figure size 432x288 with 2 Axes>"
      ]
     },
     "metadata": {
      "needs_background": "light"
     },
     "output_type": "display_data"
    }
   ],
   "source": [
    "plot_cf_matrix(vgg_face['verified'],vgg_face['label'])"
   ]
  },
  {
   "cell_type": "code",
   "execution_count": 38,
   "metadata": {},
   "outputs": [],
   "source": [
    "facenet1_same = pd.read_csv('./Facenet1_5_fold.csv')\n",
    "facenet2_same = pd.read_csv('./Facenet2_5_fold.csv')\n",
    "facenet3_same = pd.read_csv('./Facenet3_5_fold.csv')\n",
    "facenet4_same = pd.read_csv('./Facenet4_5_fold.csv')\n",
    "facenet5_same = pd.read_csv('./Facenet5_5_fold.csv')"
   ]
  },
  {
   "cell_type": "code",
   "execution_count": 39,
   "metadata": {},
   "outputs": [
    {
     "data": {
      "text/plain": [
       "[0.36559633027522936, 0.04151376146788991, 0.6620412844036697]"
      ]
     },
     "execution_count": 39,
     "metadata": {},
     "output_type": "execute_result"
    }
   ],
   "source": [
    "facenet_same = pd.concat([facenet1_same, facenet2_same, facenet3_same, facenet4_same, facenet5_same])\n",
    "facenet_same = facenet_same.drop(['Unnamed: 0'], axis=1)\n",
    "calculate_accuracy(facenet_same['threshold'], facenet_same['distance'],facenet_same['label'])"
   ]
  },
  {
   "cell_type": "code",
   "execution_count": 40,
   "metadata": {},
   "outputs": [
    {
     "data": {
      "text/plain": [
       "<sklearn.metrics._plot.confusion_matrix.ConfusionMatrixDisplay at 0x1fdf227d790>"
      ]
     },
     "execution_count": 40,
     "metadata": {},
     "output_type": "execute_result"
    },
    {
     "data": {
      "image/png": "[encoded data removed]",
      "text/plain": [
       "<Figure size 432x288 with 2 Axes>"
      ]
     },
     "metadata": {
      "needs_background": "light"
     },
     "output_type": "display_data"
    }
   ],
   "source": [
    "plot_cf_matrix(facenet_same['verified'],facenet_same['label'])"
   ]
  },
  {
   "cell_type": "code",
   "execution_count": 5,
   "metadata": {},
   "outputs": [
    {
     "data": {
      "text/html": [
       "<div>\n",
       "<style scoped>\n",
       "    .dataframe tbody tr th:only-of-type {\n",
       "        vertical-align: middle;\n",
       "    }\n",
       "\n",
       "    .dataframe tbody tr th {\n",
       "        vertical-align: top;\n",
       "    }\n",
       "\n",
       "    .dataframe thead th {\n",
       "        text-align: right;\n",
       "    }\n",
       "</style>\n",
       "<table border=\"1\" class=\"dataframe\">\n",
       "  <thead>\n",
       "    <tr style=\"text-align: right;\">\n",
       "      <th></th>\n",
       "      <th>Unnamed: 0</th>\n",
       "      <th>verified</th>\n",
       "      <th>distance</th>\n",
       "      <th>threshold</th>\n",
       "      <th>model</th>\n",
       "      <th>detector_backend</th>\n",
       "      <th>similarity_metric</th>\n",
       "      <th>identity1</th>\n",
       "      <th>identity2</th>\n",
       "      <th>label</th>\n",
       "      <th>time</th>\n",
       "    </tr>\n",
       "  </thead>\n",
       "  <tbody>\n",
       "    <tr>\n",
       "      <th>0</th>\n",
       "      <td>0</td>\n",
       "      <td>False</td>\n",
       "      <td>1.176590</td>\n",
       "      <td>1.04</td>\n",
       "      <td>Facenet512</td>\n",
       "      <td>opencv</td>\n",
       "      <td>euclidean_l2</td>\n",
       "      <td>183664</td>\n",
       "      <td>183664</td>\n",
       "      <td>True</td>\n",
       "      <td>6.28</td>\n",
       "    </tr>\n",
       "    <tr>\n",
       "      <th>1</th>\n",
       "      <td>1</td>\n",
       "      <td>False</td>\n",
       "      <td>1.138289</td>\n",
       "      <td>1.04</td>\n",
       "      <td>Facenet512</td>\n",
       "      <td>opencv</td>\n",
       "      <td>euclidean_l2</td>\n",
       "      <td>110034</td>\n",
       "      <td>175846</td>\n",
       "      <td>False</td>\n",
       "      <td>0.20</td>\n",
       "    </tr>\n",
       "    <tr>\n",
       "      <th>2</th>\n",
       "      <td>2</td>\n",
       "      <td>False</td>\n",
       "      <td>1.161977</td>\n",
       "      <td>1.04</td>\n",
       "      <td>Facenet512</td>\n",
       "      <td>opencv</td>\n",
       "      <td>euclidean_l2</td>\n",
       "      <td>110034</td>\n",
       "      <td>184341</td>\n",
       "      <td>False</td>\n",
       "      <td>0.19</td>\n",
       "    </tr>\n",
       "    <tr>\n",
       "      <th>3</th>\n",
       "      <td>3</td>\n",
       "      <td>False</td>\n",
       "      <td>1.317254</td>\n",
       "      <td>1.04</td>\n",
       "      <td>Facenet512</td>\n",
       "      <td>opencv</td>\n",
       "      <td>euclidean_l2</td>\n",
       "      <td>198030</td>\n",
       "      <td>172865</td>\n",
       "      <td>False</td>\n",
       "      <td>0.23</td>\n",
       "    </tr>\n",
       "    <tr>\n",
       "      <th>4</th>\n",
       "      <td>4</td>\n",
       "      <td>False</td>\n",
       "      <td>1.359445</td>\n",
       "      <td>1.04</td>\n",
       "      <td>Facenet512</td>\n",
       "      <td>opencv</td>\n",
       "      <td>euclidean_l2</td>\n",
       "      <td>121502</td>\n",
       "      <td>115235</td>\n",
       "      <td>False</td>\n",
       "      <td>0.21</td>\n",
       "    </tr>\n",
       "    <tr>\n",
       "      <th>...</th>\n",
       "      <td>...</td>\n",
       "      <td>...</td>\n",
       "      <td>...</td>\n",
       "      <td>...</td>\n",
       "      <td>...</td>\n",
       "      <td>...</td>\n",
       "      <td>...</td>\n",
       "      <td>...</td>\n",
       "      <td>...</td>\n",
       "      <td>...</td>\n",
       "      <td>...</td>\n",
       "    </tr>\n",
       "    <tr>\n",
       "      <th>1739</th>\n",
       "      <td>1739</td>\n",
       "      <td>False</td>\n",
       "      <td>1.110126</td>\n",
       "      <td>1.04</td>\n",
       "      <td>Facenet512</td>\n",
       "      <td>opencv</td>\n",
       "      <td>euclidean_l2</td>\n",
       "      <td>5751</td>\n",
       "      <td>175989</td>\n",
       "      <td>False</td>\n",
       "      <td>0.25</td>\n",
       "    </tr>\n",
       "    <tr>\n",
       "      <th>1740</th>\n",
       "      <td>1740</td>\n",
       "      <td>False</td>\n",
       "      <td>1.195264</td>\n",
       "      <td>1.04</td>\n",
       "      <td>Facenet512</td>\n",
       "      <td>opencv</td>\n",
       "      <td>euclidean_l2</td>\n",
       "      <td>5751</td>\n",
       "      <td>196589</td>\n",
       "      <td>False</td>\n",
       "      <td>0.25</td>\n",
       "    </tr>\n",
       "    <tr>\n",
       "      <th>1741</th>\n",
       "      <td>1741</td>\n",
       "      <td>False</td>\n",
       "      <td>1.124571</td>\n",
       "      <td>1.04</td>\n",
       "      <td>Facenet512</td>\n",
       "      <td>opencv</td>\n",
       "      <td>euclidean_l2</td>\n",
       "      <td>105906</td>\n",
       "      <td>105906</td>\n",
       "      <td>True</td>\n",
       "      <td>0.26</td>\n",
       "    </tr>\n",
       "    <tr>\n",
       "      <th>1742</th>\n",
       "      <td>1742</td>\n",
       "      <td>False</td>\n",
       "      <td>1.133729</td>\n",
       "      <td>1.04</td>\n",
       "      <td>Facenet512</td>\n",
       "      <td>opencv</td>\n",
       "      <td>euclidean_l2</td>\n",
       "      <td>105182</td>\n",
       "      <td>195936</td>\n",
       "      <td>False</td>\n",
       "      <td>0.24</td>\n",
       "    </tr>\n",
       "    <tr>\n",
       "      <th>1743</th>\n",
       "      <td>1743</td>\n",
       "      <td>False</td>\n",
       "      <td>1.457318</td>\n",
       "      <td>1.04</td>\n",
       "      <td>Facenet512</td>\n",
       "      <td>opencv</td>\n",
       "      <td>euclidean_l2</td>\n",
       "      <td>187489</td>\n",
       "      <td>116277</td>\n",
       "      <td>False</td>\n",
       "      <td>0.25</td>\n",
       "    </tr>\n",
       "  </tbody>\n",
       "</table>\n",
       "<p>8720 rows × 11 columns</p>\n",
       "</div>"
      ],
      "text/plain": [
       "      Unnamed: 0  verified  distance  threshold       model detector_backend  \\\n",
       "0              0     False  1.176590       1.04  Facenet512           opencv   \n",
       "1              1     False  1.138289       1.04  Facenet512           opencv   \n",
       "2              2     False  1.161977       1.04  Facenet512           opencv   \n",
       "3              3     False  1.317254       1.04  Facenet512           opencv   \n",
       "4              4     False  1.359445       1.04  Facenet512           opencv   \n",
       "...          ...       ...       ...        ...         ...              ...   \n",
       "1739        1739     False  1.110126       1.04  Facenet512           opencv   \n",
       "1740        1740     False  1.195264       1.04  Facenet512           opencv   \n",
       "1741        1741     False  1.124571       1.04  Facenet512           opencv   \n",
       "1742        1742     False  1.133729       1.04  Facenet512           opencv   \n",
       "1743        1743     False  1.457318       1.04  Facenet512           opencv   \n",
       "\n",
       "     similarity_metric  identity1  identity2  label  time  \n",
       "0         euclidean_l2     183664     183664   True  6.28  \n",
       "1         euclidean_l2     110034     175846  False  0.20  \n",
       "2         euclidean_l2     110034     184341  False  0.19  \n",
       "3         euclidean_l2     198030     172865  False  0.23  \n",
       "4         euclidean_l2     121502     115235  False  0.21  \n",
       "...                ...        ...        ...    ...   ...  \n",
       "1739      euclidean_l2       5751     175989  False  0.25  \n",
       "1740      euclidean_l2       5751     196589  False  0.25  \n",
       "1741      euclidean_l2     105906     105906   True  0.26  \n",
       "1742      euclidean_l2     105182     195936  False  0.24  \n",
       "1743      euclidean_l2     187489     116277  False  0.25  \n",
       "\n",
       "[8720 rows x 11 columns]"
      ]
     },
     "execution_count": 5,
     "metadata": {},
     "output_type": "execute_result"
    }
   ],
   "source": [
    "facenet512_1_same = pd.read_csv('./Facenet5121_5_fold.csv')\n",
    "facenet512_2_same = pd.read_csv('./Facenet5122_5_fold.csv')\n",
    "facenet512_3_same = pd.read_csv('./Facenet5123_5_fold.csv')\n",
    "facenet512_4_same = pd.read_csv('./Facenet5124_5_fold.csv')\n",
    "facenet512_5_same = pd.read_csv('./Facenet5125_5_fold.csv')\n",
    "facenet512_same = pd.concat([facenet512_1_same,facenet512_2_same, facenet512_3_same, facenet512_4_same, facenet512_5_same], axis = 0)\n",
    "facenet512_same"
   ]
  },
  {
   "cell_type": "code",
   "execution_count": 6,
   "metadata": {},
   "outputs": [
    {
     "data": {
      "text/plain": [
       "<sklearn.metrics._plot.confusion_matrix.ConfusionMatrixDisplay at 0x288a2f96f10>"
      ]
     },
     "execution_count": 6,
     "metadata": {},
     "output_type": "execute_result"
    },
    {
     "data": {
      "image/png": "[encoded data removed]",
      "text/plain": [
       "<Figure size 432x288 with 2 Axes>"
      ]
     },
     "metadata": {
      "needs_background": "light"
     },
     "output_type": "display_data"
    }
   ],
   "source": [
    "plot_cf_matrix(facenet512_same['verified'],facenet512_same['label'])"
   ]
  }
 ],
 "metadata": {
  "kernelspec": {
   "display_name": "Python 3 (ipykernel)",
   "language": "python",
   "name": "python3"
  },
  "language_info": {
   "codemirror_mode": {
    "name": "ipython",
    "version": 3
   },
   "file_extension": ".py",
   "mimetype": "text/x-python",
   "name": "python",
   "nbconvert_exporter": "python",
   "pygments_lexer": "ipython3",
   "version": "3.9.0"
  }
 },
 "nbformat": 4,
 "nbformat_minor": 1
}
