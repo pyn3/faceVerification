{
 "cells": [
  {
   "cell_type": "code",
   "execution_count": 1,
   "metadata": {
    "collapsed": true
   },
   "outputs": [],
   "source": [
    "# import libaries\n",
    "\n",
    "import numpy as np\n",
    "import torch\n",
    "import random\n",
    "import torch.nn as nn\n",
    "import sys\n",
    "import pandas as pd\n",
    "from PIL import Image\n",
    "\n",
    "from tqdm.notebook import tqdm\n",
    "import os\n",
    "import matplotlib.pyplot as plt\n",
    "from torchvision import transforms\n",
    "from torch import optim\n",
    "import torch.nn.functional as F\n",
    "from torch.utils.data import Dataset, DataLoader\n",
    "\n",
    "from torchinfo import summary"
   ]
  },
  {
   "cell_type": "code",
   "execution_count": 2,
   "metadata": {
    "collapsed": false
   },
   "outputs": [
    {
     "name": "stdout",
     "output_type": "stream",
     "text": [
      "Python version: 3.9.0 (tags/v3.9.0:9cf6752, Oct  5 2020, 15:34:40) [MSC v.1927 64 bit (AMD64)]\n",
      "CUDA Available: True\n",
      "GPU Name: NVIDIA GeForce RTX 2070\n",
      "GPU Properties:\n",
      " _CudaDeviceProperties(name='NVIDIA GeForce RTX 2070', major=7, minor=5, total_memory=8191MB, multi_processor_count=36)\n",
      "Sat Jan 28 17:33:23 2023       \n",
      "+-----------------------------------------------------------------------------+\n",
      "| NVIDIA-SMI 526.98       Driver Version: 526.98       CUDA Version: 12.0     |\n",
      "|-------------------------------+----------------------+----------------------+\n",
      "| GPU  Name            TCC/WDDM | Bus-Id        Disp.A | Volatile Uncorr. ECC |\n",
      "| Fan  Temp  Perf  Pwr:Usage/Cap|         Memory-Usage | GPU-Util  Compute M. |\n",
      "|                               |                      |               MIG M. |\n",
      "|===============================+======================+======================|\n",
      "|   0  NVIDIA GeForce ... WDDM  | 00000000:01:00.0  On |                  N/A |\n",
      "|  0%   36C    P2    52W / 175W |    461MiB /  8192MiB |      1%      Default |\n",
      "|                               |                      |                  N/A |\n",
      "+-------------------------------+----------------------+----------------------+\n",
      "                                                                               \n",
      "+-----------------------------------------------------------------------------+\n",
      "| Processes:                                                                  |\n",
      "|  GPU   GI   CI        PID   Type   Process name                  GPU Memory |\n",
      "|        ID   ID                                                   Usage      |\n",
      "|=============================================================================|\n",
      "|    0   N/A  N/A      2020    C+G   ...e\\PhoneExperienceHost.exe    N/A      |\n",
      "|    0   N/A  N/A      4532    C+G   ...8wekyb3d8bbwe\\GameBar.exe    N/A      |\n",
      "|    0   N/A  N/A      6844    C+G   ...bbwe\\Microsoft.Photos.exe    N/A      |\n",
      "|    0   N/A  N/A      9032    C+G   C:\\Windows\\explorer.exe         N/A      |\n",
      "|    0   N/A  N/A      9684      C   ...ython\\Python39\\python.exe    N/A      |\n",
      "|    0   N/A  N/A     10260    C+G   ...2txyewy\\TextInputHost.exe    N/A      |\n",
      "|    0   N/A  N/A     11508    C+G   ...ge\\Application\\msedge.exe    N/A      |\n",
      "|    0   N/A  N/A     12152    C+G   ...5n1h2txyewy\\SearchApp.exe    N/A      |\n",
      "|    0   N/A  N/A     14328    C+G   ...artMenuExperienceHost.exe    N/A      |\n",
      "|    0   N/A  N/A     16488    C+G   ...8bbwe\\WindowsTerminal.exe    N/A      |\n",
      "|    0   N/A  N/A     17336    C+G   ...wekyb3d8bbwe\\Video.UI.exe    N/A      |\n",
      "|    0   N/A  N/A     18044    C+G   ...perience\\NVIDIA Share.exe    N/A      |\n",
      "|    0   N/A  N/A     18424    C+G   ...cw5n1h2txyewy\\LockApp.exe    N/A      |\n",
      "+-----------------------------------------------------------------------------+\n"
     ]
    }
   ],
   "source": [
    "print('Python version:', sys.version)\n",
    "print('CUDA Available:', torch.cuda.is_available())\n",
    "\n",
    "if torch.cuda.is_available():\n",
    "    print('GPU Name:', torch.cuda.get_device_name())\n",
    "    print('GPU Properties:\\n', torch.cuda.get_device_properties('cuda'))\n",
    "    device = \"cuda\"\n",
    "    torch.cuda.set_per_process_memory_fraction(0.95, 0)\n",
    "    torch.cuda.empty_cache()\n",
    "else:\n",
    "    print(\"Cuda is not available, please use cpu instead\")\n",
    "    device = \"cpu\"\n",
    "!nvidia-smi"
   ]
  },
  {
   "cell_type": "code",
   "execution_count": 90,
   "metadata": {
    "collapsed": false
   },
   "outputs": [],
   "source": [
    "train_df = pd.read_csv('./digiface_csv_files/digi_train.csv')\n",
    "train_df['identity'] = train_df['identity'].astype(str)\n",
    "train_df = train_df.groupby('identity')['path'].apply(list).reset_index()\n",
    "# train_df.head(3)"
   ]
  },
  {
   "cell_type": "code",
   "execution_count": 91,
   "metadata": {
    "collapsed": false
   },
   "outputs": [],
   "source": [
    "train_df_copy = train_df.copy()"
   ]
  },
  {
   "cell_type": "code",
   "execution_count": 100,
   "metadata": {
    "collapsed": false
   },
   "outputs": [
    {
     "name": "stdout",
     "output_type": "stream",
     "text": [
      "identity                                                    0\n",
      "path        [digiFace1M\\subjects_0-1999_72_imgs\\0\\22.png, ...\n",
      "Name: 0, dtype: object\n",
      "digiFace1M\\subjects_0-1999_72_imgs\\0\\22.png\n",
      "digiFace1M\\subjects_0-1999_72_imgs\\0\\49.png\n",
      "digiFace1M\\subjects_0-1999_72_imgs\\0\\42.png\n",
      "digiFace1M\\subjects_0-1999_72_imgs\\0\\66.png\n",
      "digiFace1M\\subjects_0-1999_72_imgs\\0\\45.png\n",
      "digiFace1M\\subjects_0-1999_72_imgs\\0\\3.png\n",
      "digiFace1M\\subjects_0-1999_72_imgs\\0\\2.png\n",
      "digiFace1M\\subjects_0-1999_72_imgs\\0\\54.png\n",
      "digiFace1M\\subjects_0-1999_72_imgs\\0\\11.png\n",
      "digiFace1M\\subjects_0-1999_72_imgs\\0\\65.png\n",
      "digiFace1M\\subjects_0-1999_72_imgs\\0\\69.png\n",
      "digiFace1M\\subjects_0-1999_72_imgs\\0\\29.png\n",
      "digiFace1M\\subjects_0-1999_72_imgs\\0\\53.png\n",
      "digiFace1M\\subjects_0-1999_72_imgs\\0\\51.png\n",
      "digiFace1M\\subjects_0-1999_72_imgs\\0\\27.png\n",
      "digiFace1M\\subjects_0-1999_72_imgs\\0\\35.png\n",
      "digiFace1M\\subjects_0-1999_72_imgs\\0\\64.png\n",
      "digiFace1M\\subjects_0-1999_72_imgs\\0\\38.png\n",
      "digiFace1M\\subjects_0-1999_72_imgs\\0\\71.png\n",
      "digiFace1M\\subjects_0-1999_72_imgs\\0\\19.png\n",
      "digiFace1M\\subjects_0-1999_72_imgs\\0\\17.png\n",
      "digiFace1M\\subjects_0-1999_72_imgs\\0\\40.png\n",
      "digiFace1M\\subjects_0-1999_72_imgs\\0\\52.png\n",
      "digiFace1M\\subjects_0-1999_72_imgs\\0\\12.png\n",
      "digiFace1M\\subjects_0-1999_72_imgs\\0\\7.png\n",
      "digiFace1M\\subjects_0-1999_72_imgs\\0\\1.png\n",
      "digiFace1M\\subjects_0-1999_72_imgs\\0\\56.png\n",
      "digiFace1M\\subjects_0-1999_72_imgs\\0\\28.png\n",
      "digiFace1M\\subjects_0-1999_72_imgs\\0\\26.png\n",
      "digiFace1M\\subjects_0-1999_72_imgs\\0\\50.png\n",
      "digiFace1M\\subjects_0-1999_72_imgs\\0\\62.png\n",
      "digiFace1M\\subjects_0-1999_72_imgs\\0\\67.png\n",
      "digiFace1M\\subjects_0-1999_72_imgs\\0\\61.png\n",
      "digiFace1M\\subjects_0-1999_72_imgs\\0\\63.png\n",
      "digiFace1M\\subjects_0-1999_72_imgs\\0\\13.png\n",
      "digiFace1M\\subjects_0-1999_72_imgs\\0\\30.png\n",
      "digiFace1M\\subjects_0-1999_72_imgs\\0\\36.png\n",
      "digiFace1M\\subjects_0-1999_72_imgs\\0\\41.png\n",
      "digiFace1M\\subjects_0-1999_72_imgs\\0\\6.png\n",
      "digiFace1M\\subjects_0-1999_72_imgs\\0\\58.png\n",
      "digiFace1M\\subjects_0-1999_72_imgs\\0\\47.png\n",
      "digiFace1M\\subjects_0-1999_72_imgs\\0\\48.png\n",
      "digiFace1M\\subjects_0-1999_72_imgs\\0\\4.png\n",
      "digiFace1M\\subjects_0-1999_72_imgs\\0\\24.png\n",
      "digiFace1M\\subjects_0-1999_72_imgs\\0\\5.png\n",
      "digiFace1M\\subjects_0-1999_72_imgs\\0\\23.png\n",
      "digiFace1M\\subjects_0-1999_72_imgs\\0\\18.png\n",
      "digiFace1M\\subjects_0-1999_72_imgs\\0\\34.png\n",
      "digiFace1M\\subjects_0-1999_72_imgs\\0\\59.png\n",
      "digiFace1M\\subjects_0-1999_72_imgs\\0\\25.png\n"
     ]
    }
   ],
   "source": [
    "label_to_indices = dict()\n",
    "\n",
    "for i, row in train_df_copy.iterrows():\n",
    "    # get identity of each row\n",
    "    row_identity = row['identity']\n",
    "    # append each identity to numberical value\n",
    "    label_to_indices[row_identity] = i\n",
    "    # loop imgs in each identity\n",
    "    print(row)\n",
    "    for img_name in row['path']:\n",
    "        print(img_name)\n",
    "        # concatenate the directoru and image name\n",
    "        # path_to_image = train_dir+img_name\n",
    "        # # open image and convert to RGB\n",
    "        # img = Image.open(path_to_image).convert('RGB')\n",
    "        #\n",
    "        # images.append(img)\n",
    "        # labels.append(i)\n",
    "    break"
   ]
  },
  {
   "cell_type": "code",
   "execution_count": 45,
   "metadata": {
    "collapsed": false
   },
   "outputs": [
    {
     "data": {
      "text/plain": [
       "[2, 3, 4, 5, 6]"
      ]
     },
     "execution_count": 45,
     "metadata": {},
     "output_type": "execute_result"
    }
   ],
   "source": [
    "seed = 41\n",
    "# Define custom dataset\n",
    "class FaceDataset(Dataset):\n",
    "    def __init__(self, training_csv = None, training_dir = None, transform = None):\n",
    "        # set random seed for FaceDataset\n",
    "        np.random.seed(seed)\n",
    "        random.seed(seed)\n",
    "        # create contructors\n",
    "        self.unique_img_name = None\n",
    "        self.data = dict()\n",
    "        self.image = list()\n",
    "        self.identities = list()\n",
    "        # read csv file\n",
    "        self.train_df = pd.read_csv(training_csv)\n",
    "        #get the length of entire dataset\n",
    "        self.len_train = len(self.train_df)\n",
    "        # set the transformation\n",
    "        self.transform = transform\n",
    "        # set the train directory\n",
    "        self.train_dir = training_dir\n",
    "        # group each identity together and create list of each identity imgs\n",
    "        self.train_df = self.train_df.groupby('identity')['filename'].apply(list).reset_index()\n",
    "        # load imgs\n",
    "        self.load_imgs(self.train_df)\n",
    "\n",
    "    def __len__(self):\n",
    "        return len(self.image)\n",
    "\n",
    "    # get each pair of images -> 1: same identity, 0: different identity\n",
    "    # if index is even -> same pair\n",
    "    # if index is odd -> random identity\n",
    "    def __getitem__(self, idx):\n",
    "        anc = None\n",
    "        img2 = None\n",
    "        label = None\n",
    "        if idx % 2 == 0:\n",
    "            # random pick the identity\n",
    "            random_identity = np.random.choice(self.unique_img_name, size = 1)[0]\n",
    "            random_img = random.sample(self.data[random_identity], 2)\n",
    "            img1 = random_img[0]\n",
    "            img2 = random_img[1]\n",
    "            label = 1\n",
    "        else:\n",
    "            random_identity = np.random.choice(self.unique_img_name, size = 2)\n",
    "            img1 = random.choice(self.data[random_identity[0]])\n",
    "            img2 = random.choice(self.data[random_identity[1]])\n",
    "            label = 0\n",
    "        #         return self.train_df\n",
    "        return img1, img2, torch.from_numpy(np.array([label], dtype = np.float64))\n",
    "\n",
    "    def load_imgs(self, df):\n",
    "        # iterate thought each row\n",
    "        for _, row in df.iterrows():\n",
    "            # get identity of each row\n",
    "            row_identities = row['identity']\n",
    "            # check if not identity is in self.data\n",
    "            if row_identities not in self.data:\n",
    "                # create key in self.data as new identity\n",
    "                self.data[row_identities] = list()\n",
    "            # loop imgs in each identity\n",
    "            for img_name in row['filenames']:\n",
    "                # concatenate the directoru and image name\n",
    "                path_to_image = self.train_dir+img_name\n",
    "                # open image and convert to RGB\n",
    "                img = Image.open(path_to_image).convert('RGB')\n",
    "                # check img transformations\n",
    "                if self.transform == None:\n",
    "                    # self.transform is not define, convert the img to tensor\n",
    "                    convert_tensor = transforms.ToTensor()\n",
    "                    img = convert_tensor(img)\n",
    "                else:\n",
    "                    # transforms img\n",
    "                    img = self.transform(img)\n",
    "\n",
    "                self.data[row_identities].append(img)\n",
    "                self.image.append(img)\n",
    "                self.identities.append(img_name)\n",
    "\n",
    "        self.unique_img_name = np.array(list(self.data.keys()))\n",
    "\n",
    "    def rotate_imgs(self, path_to_img):\n",
    "        img = Image.open(path_to_img).convert('RGB')\n",
    "        is_rotate = random.choice([True,False])\n",
    "        angle_rotation = [90,180,270,360]\n",
    "        if is_rotate:\n",
    "            degree = random.choice(angle_rotation)\n",
    "            img = img.rotate(degree)\n",
    "        return img\n"
   ]
  },
  {
   "cell_type": "code",
   "execution_count": null,
   "metadata": {
    "collapsed": false
   },
   "outputs": [],
   "source": [
    "seed = 41\n",
    "\n",
    "class digiFace_ds(Dataset):\n",
    "    def __init__(self, path_csv, path_dir, transform = None):\n",
    "        # set seed for randomness\n",
    "        np.random.seed(seed)\n",
    "        random.seed(seed)\n",
    "        #\n",
    "    def load_imgs(self, df):\n",
    "        # loop though each row\n",
    "        for _, row in df.iterrows():\n",
    "            # get identity\n",
    "            row_iden = row['identity']"
   ]
  },
  {
   "cell_type": "code",
   "execution_count": 48,
   "metadata": {
    "collapsed": false
   },
   "outputs": [
    {
     "data": {
      "text/plain": [
       "Animal\n",
       "Falcon    [380.0, 370.0]\n",
       "Parrot      [24.0, 26.0]\n",
       "Name: Max Speed, dtype: object"
      ]
     },
     "execution_count": 48,
     "metadata": {},
     "output_type": "execute_result"
    }
   ],
   "source": [
    "df = pd.DataFrame({'Animal': ['Falcon', 'Falcon',\n",
    "                              'Parrot', 'Parrot'],\n",
    "                   'Max Speed': [380., 370., 24., 26.]})\n",
    "df.groupby(['Animal'])['Max Speed'].apply(list)"
   ]
  },
  {
   "cell_type": "code",
   "execution_count": 13,
   "metadata": {
    "collapsed": false
   },
   "outputs": [
    {
     "ename": "KeyError",
     "evalue": "'identity'",
     "output_type": "error",
     "traceback": [
      "\u001b[1;31m---------------------------------------------------------------------------\u001b[0m",
      "\u001b[1;31mKeyError\u001b[0m                                  Traceback (most recent call last)",
      "\u001b[1;32mc:\\users\\pie31\\appdata\\local\\programs\\python\\python39\\lib\\site-packages\\pandas\\core\\indexes\\base.py\u001b[0m in \u001b[0;36mget_loc\u001b[1;34m(self, key, method, tolerance)\u001b[0m\n\u001b[0;32m   3799\u001b[0m             \u001b[1;32mtry\u001b[0m\u001b[1;33m:\u001b[0m\u001b[1;33m\u001b[0m\u001b[1;33m\u001b[0m\u001b[0m\n\u001b[1;32m-> 3800\u001b[1;33m                 \u001b[1;32mreturn\u001b[0m \u001b[0mself\u001b[0m\u001b[1;33m.\u001b[0m\u001b[0m_engine\u001b[0m\u001b[1;33m.\u001b[0m\u001b[0mget_loc\u001b[0m\u001b[1;33m(\u001b[0m\u001b[0mcasted_key\u001b[0m\u001b[1;33m)\u001b[0m\u001b[1;33m\u001b[0m\u001b[1;33m\u001b[0m\u001b[0m\n\u001b[0m\u001b[0;32m   3801\u001b[0m             \u001b[1;32mexcept\u001b[0m \u001b[0mKeyError\u001b[0m \u001b[1;32mas\u001b[0m \u001b[0merr\u001b[0m\u001b[1;33m:\u001b[0m\u001b[1;33m\u001b[0m\u001b[1;33m\u001b[0m\u001b[0m\n",
      "\u001b[1;32mc:\\users\\pie31\\appdata\\local\\programs\\python\\python39\\lib\\site-packages\\pandas\\_libs\\index.pyx\u001b[0m in \u001b[0;36mpandas._libs.index.IndexEngine.get_loc\u001b[1;34m()\u001b[0m\n",
      "\u001b[1;32mc:\\users\\pie31\\appdata\\local\\programs\\python\\python39\\lib\\site-packages\\pandas\\_libs\\index.pyx\u001b[0m in \u001b[0;36mpandas._libs.index.IndexEngine.get_loc\u001b[1;34m()\u001b[0m\n",
      "\u001b[1;32mpandas\\_libs\\hashtable_class_helper.pxi\u001b[0m in \u001b[0;36mpandas._libs.hashtable.PyObjectHashTable.get_item\u001b[1;34m()\u001b[0m\n",
      "\u001b[1;32mpandas\\_libs\\hashtable_class_helper.pxi\u001b[0m in \u001b[0;36mpandas._libs.hashtable.PyObjectHashTable.get_item\u001b[1;34m()\u001b[0m\n",
      "\u001b[1;31mKeyError\u001b[0m: 'identity'",
      "\nThe above exception was the direct cause of the following exception:\n",
      "\u001b[1;31mKeyError\u001b[0m                                  Traceback (most recent call last)",
      "\u001b[1;32m~\\AppData\\Local\\Temp/ipykernel_15336/1117990360.py\u001b[0m in \u001b[0;36m<module>\u001b[1;34m\u001b[0m\n\u001b[0;32m      5\u001b[0m \u001b[1;32mfor\u001b[0m \u001b[0m_\u001b[0m\u001b[1;33m,\u001b[0m \u001b[0mrow\u001b[0m \u001b[1;32min\u001b[0m \u001b[0mtrain_df\u001b[0m\u001b[1;33m.\u001b[0m\u001b[0miterrows\u001b[0m\u001b[1;33m(\u001b[0m\u001b[1;33m)\u001b[0m\u001b[1;33m:\u001b[0m\u001b[1;33m\u001b[0m\u001b[1;33m\u001b[0m\u001b[0m\n\u001b[0;32m      6\u001b[0m     \u001b[1;31m# get row identity\u001b[0m\u001b[1;33m\u001b[0m\u001b[1;33m\u001b[0m\u001b[1;33m\u001b[0m\u001b[0m\n\u001b[1;32m----> 7\u001b[1;33m     \u001b[0mrow_id\u001b[0m \u001b[1;33m=\u001b[0m \u001b[0mrow\u001b[0m\u001b[1;33m[\u001b[0m\u001b[1;34m'identity'\u001b[0m\u001b[1;33m]\u001b[0m\u001b[1;33m\u001b[0m\u001b[1;33m\u001b[0m\u001b[0m\n\u001b[0m\u001b[0;32m      8\u001b[0m     \u001b[0mprint\u001b[0m\u001b[1;33m(\u001b[0m\u001b[0mrow_id\u001b[0m\u001b[1;33m)\u001b[0m\u001b[1;33m\u001b[0m\u001b[1;33m\u001b[0m\u001b[0m\n\u001b[0;32m      9\u001b[0m \u001b[1;33m\u001b[0m\u001b[0m\n",
      "\u001b[1;32mc:\\users\\pie31\\appdata\\local\\programs\\python\\python39\\lib\\site-packages\\pandas\\core\\series.py\u001b[0m in \u001b[0;36m__getitem__\u001b[1;34m(self, key)\u001b[0m\n\u001b[0;32m    980\u001b[0m \u001b[1;33m\u001b[0m\u001b[0m\n\u001b[0;32m    981\u001b[0m         \u001b[1;32melif\u001b[0m \u001b[0mkey_is_scalar\u001b[0m\u001b[1;33m:\u001b[0m\u001b[1;33m\u001b[0m\u001b[1;33m\u001b[0m\u001b[0m\n\u001b[1;32m--> 982\u001b[1;33m             \u001b[1;32mreturn\u001b[0m \u001b[0mself\u001b[0m\u001b[1;33m.\u001b[0m\u001b[0m_get_value\u001b[0m\u001b[1;33m(\u001b[0m\u001b[0mkey\u001b[0m\u001b[1;33m)\u001b[0m\u001b[1;33m\u001b[0m\u001b[1;33m\u001b[0m\u001b[0m\n\u001b[0m\u001b[0;32m    983\u001b[0m \u001b[1;33m\u001b[0m\u001b[0m\n\u001b[0;32m    984\u001b[0m         \u001b[1;32mif\u001b[0m \u001b[0mis_hashable\u001b[0m\u001b[1;33m(\u001b[0m\u001b[0mkey\u001b[0m\u001b[1;33m)\u001b[0m\u001b[1;33m:\u001b[0m\u001b[1;33m\u001b[0m\u001b[1;33m\u001b[0m\u001b[0m\n",
      "\u001b[1;32mc:\\users\\pie31\\appdata\\local\\programs\\python\\python39\\lib\\site-packages\\pandas\\core\\series.py\u001b[0m in \u001b[0;36m_get_value\u001b[1;34m(self, label, takeable)\u001b[0m\n\u001b[0;32m   1090\u001b[0m \u001b[1;33m\u001b[0m\u001b[0m\n\u001b[0;32m   1091\u001b[0m         \u001b[1;31m# Similar to Index.get_value, but we do not fall back to positional\u001b[0m\u001b[1;33m\u001b[0m\u001b[1;33m\u001b[0m\u001b[1;33m\u001b[0m\u001b[0m\n\u001b[1;32m-> 1092\u001b[1;33m         \u001b[0mloc\u001b[0m \u001b[1;33m=\u001b[0m \u001b[0mself\u001b[0m\u001b[1;33m.\u001b[0m\u001b[0mindex\u001b[0m\u001b[1;33m.\u001b[0m\u001b[0mget_loc\u001b[0m\u001b[1;33m(\u001b[0m\u001b[0mlabel\u001b[0m\u001b[1;33m)\u001b[0m\u001b[1;33m\u001b[0m\u001b[1;33m\u001b[0m\u001b[0m\n\u001b[0m\u001b[0;32m   1093\u001b[0m         \u001b[1;32mreturn\u001b[0m \u001b[0mself\u001b[0m\u001b[1;33m.\u001b[0m\u001b[0mindex\u001b[0m\u001b[1;33m.\u001b[0m\u001b[0m_get_values_for_loc\u001b[0m\u001b[1;33m(\u001b[0m\u001b[0mself\u001b[0m\u001b[1;33m,\u001b[0m \u001b[0mloc\u001b[0m\u001b[1;33m,\u001b[0m \u001b[0mlabel\u001b[0m\u001b[1;33m)\u001b[0m\u001b[1;33m\u001b[0m\u001b[1;33m\u001b[0m\u001b[0m\n\u001b[0;32m   1094\u001b[0m \u001b[1;33m\u001b[0m\u001b[0m\n",
      "\u001b[1;32mc:\\users\\pie31\\appdata\\local\\programs\\python\\python39\\lib\\site-packages\\pandas\\core\\indexes\\base.py\u001b[0m in \u001b[0;36mget_loc\u001b[1;34m(self, key, method, tolerance)\u001b[0m\n\u001b[0;32m   3800\u001b[0m                 \u001b[1;32mreturn\u001b[0m \u001b[0mself\u001b[0m\u001b[1;33m.\u001b[0m\u001b[0m_engine\u001b[0m\u001b[1;33m.\u001b[0m\u001b[0mget_loc\u001b[0m\u001b[1;33m(\u001b[0m\u001b[0mcasted_key\u001b[0m\u001b[1;33m)\u001b[0m\u001b[1;33m\u001b[0m\u001b[1;33m\u001b[0m\u001b[0m\n\u001b[0;32m   3801\u001b[0m             \u001b[1;32mexcept\u001b[0m \u001b[0mKeyError\u001b[0m \u001b[1;32mas\u001b[0m \u001b[0merr\u001b[0m\u001b[1;33m:\u001b[0m\u001b[1;33m\u001b[0m\u001b[1;33m\u001b[0m\u001b[0m\n\u001b[1;32m-> 3802\u001b[1;33m                 \u001b[1;32mraise\u001b[0m \u001b[0mKeyError\u001b[0m\u001b[1;33m(\u001b[0m\u001b[0mkey\u001b[0m\u001b[1;33m)\u001b[0m \u001b[1;32mfrom\u001b[0m \u001b[0merr\u001b[0m\u001b[1;33m\u001b[0m\u001b[1;33m\u001b[0m\u001b[0m\n\u001b[0m\u001b[0;32m   3803\u001b[0m             \u001b[1;32mexcept\u001b[0m \u001b[0mTypeError\u001b[0m\u001b[1;33m:\u001b[0m\u001b[1;33m\u001b[0m\u001b[1;33m\u001b[0m\u001b[0m\n\u001b[0;32m   3804\u001b[0m                 \u001b[1;31m# If we have a listlike key, _check_indexing_error will raise\u001b[0m\u001b[1;33m\u001b[0m\u001b[1;33m\u001b[0m\u001b[1;33m\u001b[0m\u001b[0m\n",
      "\u001b[1;31mKeyError\u001b[0m: 'identity'"
     ]
    }
   ],
   "source": [
    "count = 0\n",
    "data = dict()\n",
    "\n",
    "for _, row in train_df.iterrows():\n",
    "    # get row identity\n",
    "    row_id = row['identity']\n",
    "    print(row_id)\n",
    "\n",
    "\n",
    "\n",
    "    if count == 2:\n",
    "        break\n",
    "    count += 1"
   ]
  }
 ],
 "metadata": {
  "kernelspec": {
   "display_name": "Python 3",
   "language": "python",
   "name": "python3"
  },
  "language_info": {
   "codemirror_mode": {
    "name": "ipython",
    "version": 2
   },
   "file_extension": ".py",
   "mimetype": "text/x-python",
   "name": "python",
   "nbconvert_exporter": "python",
   "pygments_lexer": "ipython2",
   "version": "2.7.6"
  }
 },
 "nbformat": 4,
 "nbformat_minor": 0
}
