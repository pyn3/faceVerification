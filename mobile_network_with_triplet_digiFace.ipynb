{
 "cells": [
  {
   "cell_type": "code",
   "execution_count": 1,
   "id": "d0cefa12",
   "metadata": {},
   "outputs": [],
   "source": [
    "# import libaries\n",
    "\n",
    "from PIL import Image\n",
    "from tqdm.notebook import tqdm\n",
    "import numpy as np\n",
    "import random\n",
    "import sys\n",
    "import pandas as pd\n",
    "import matplotlib.pyplot as plt\n",
    "\n",
    "from torch.utils.data import Dataset, DataLoader, SubsetRandomSampler\n",
    "from torchinfo import summary\n",
    "from torchvision import transforms\n",
    "from torch import optim\n",
    "import torch\n",
    "import torch.nn as nn\n",
    "import torch.nn.functional as F\n",
    "\n",
    "from sklearn.model_selection import KFold"
   ]
  },
  {
   "cell_type": "code",
   "execution_count": 2,
   "id": "022d45fb",
   "metadata": {},
   "outputs": [
    {
     "name": "stdout",
     "output_type": "stream",
     "text": [
      "Python version: 3.9.0 (tags/v3.9.0:9cf6752, Oct  5 2020, 15:34:40) [MSC v.1927 64 bit (AMD64)]\n",
      "CUDA Available: True\n",
      "GPU Name: NVIDIA GeForce RTX 2070\n",
      "GPU Properties:\n",
      " _CudaDeviceProperties(name='NVIDIA GeForce RTX 2070', major=7, minor=5, total_memory=8191MB, multi_processor_count=36)\n",
      "Sat Feb 18 11:47:29 2023       \n",
      "+-----------------------------------------------------------------------------+\n",
      "| NVIDIA-SMI 526.98       Driver Version: 526.98       CUDA Version: 12.0     |\n",
      "|-------------------------------+----------------------+----------------------+\n",
      "| GPU  Name            TCC/WDDM | Bus-Id        Disp.A | Volatile Uncorr. ECC |\n",
      "| Fan  Temp  Perf  Pwr:Usage/Cap|         Memory-Usage | GPU-Util  Compute M. |\n",
      "|                               |                      |               MIG M. |\n",
      "|===============================+======================+======================|\n",
      "|   0  NVIDIA GeForce ... WDDM  | 00000000:01:00.0  On |                  N/A |\n",
      "|  0%   40C    P2    48W / 175W |    966MiB /  8192MiB |      0%      Default |\n",
      "|                               |                      |                  N/A |\n",
      "+-------------------------------+----------------------+----------------------+\n",
      "                                                                               \n",
      "+-----------------------------------------------------------------------------+\n",
      "| Processes:                                                                  |\n",
      "|  GPU   GI   CI        PID   Type   Process name                  GPU Memory |\n",
      "|        ID   ID                                                   Usage      |\n",
      "|=============================================================================|\n",
      "|    0   N/A  N/A       252    C+G   ...e31\\Documents\\AnyDesk.exe    N/A      |\n",
      "|    0   N/A  N/A      3668    C+G   ...2txyewy\\TextInputHost.exe    N/A      |\n",
      "|    0   N/A  N/A      4424    C+G   ...artMenuExperienceHost.exe    N/A      |\n",
      "|    0   N/A  N/A      4464    C+G   ...perience\\NVIDIA Share.exe    N/A      |\n",
      "|    0   N/A  N/A      4904    C+G   ...5n1h2txyewy\\SearchApp.exe    N/A      |\n",
      "|    0   N/A  N/A      5368    C+G   ...e\\PhoneExperienceHost.exe    N/A      |\n",
      "|    0   N/A  N/A      5736    C+G   ...in7x64\\steamwebhelper.exe    N/A      |\n",
      "|    0   N/A  N/A      7336      C   ...ython\\Python39\\python.exe    N/A      |\n",
      "|    0   N/A  N/A      9212    C+G   ...y\\ShellExperienceHost.exe    N/A      |\n",
      "|    0   N/A  N/A     10136    C+G   C:\\Windows\\explorer.exe         N/A      |\n",
      "|    0   N/A  N/A     10572    C+G   ...perience\\NVIDIA Share.exe    N/A      |\n",
      "|    0   N/A  N/A     12060    C+G   ...8bbwe\\WindowsTerminal.exe    N/A      |\n",
      "|    0   N/A  N/A     15060    C+G   ...wekyb3d8bbwe\\Video.UI.exe    N/A      |\n",
      "|    0   N/A  N/A     16620    C+G   ...8wekyb3d8bbwe\\GameBar.exe    N/A      |\n",
      "|    0   N/A  N/A     16828    C+G   ...ge\\Application\\msedge.exe    N/A      |\n",
      "|    0   N/A  N/A     16972      C   ...ython\\Python39\\python.exe    N/A      |\n",
      "+-----------------------------------------------------------------------------+\n"
     ]
    }
   ],
   "source": [
    "print('Python version:', sys.version)\n",
    "print('CUDA Available:', torch.cuda.is_available())\n",
    "\n",
    "if torch.cuda.is_available():\n",
    "    print('GPU Name:', torch.cuda.get_device_name())\n",
    "    print('GPU Properties:\\n', torch.cuda.get_device_properties('cuda'))\n",
    "    device = \"cuda\"\n",
    "    torch.cuda.set_per_process_memory_fraction(0.95, 0)\n",
    "    torch.cuda.empty_cache()\n",
    "else:\n",
    "    print(\"Cuda is not available, please use cpu instead\")\n",
    "    device = \"cpu\"\n",
    "!nvidia-smi"
   ]
  },
  {
   "cell_type": "code",
   "execution_count": 3,
   "id": "d03cfbb9",
   "metadata": {},
   "outputs": [],
   "source": [
    "seed = 41\n",
    "# Define custom dataset\n",
    "class FaceDataset(Dataset):\n",
    "    def __init__(self, df = None, num_sample = None, transform = None, num_img_pool = 10):\n",
    "        # set random seed for FaceDataset\n",
    "        np.random.seed(seed)\n",
    "        random.seed(seed)\n",
    "        # create constructors\n",
    "        self.unique_img_name = None\n",
    "        self.data = dict()\n",
    "        self.images = list()\n",
    "        # label to indices\n",
    "        self.label_to_indices = dict()\n",
    "        self.labels = list()\n",
    "        # read csv file\n",
    "        self.df = df\n",
    "        # set the transformation\n",
    "        self.transform = transform\n",
    "        # drop last n row from dataframe\n",
    "        self.df = self.df.head(num_sample)\n",
    "        #get the length of entire dataset\n",
    "        self.len_ = len(self.df)\n",
    "        # load imgs\n",
    "        self.load_imgs(self.df, num_imgs = num_img_pool, max = num_sample)\n",
    "\n",
    "    def __len__(self):\n",
    "        return self.len_\n",
    "\n",
    "    # get each pair of images -> 1: same identity, 0: different identity \n",
    "    # if index is even -> same pair \n",
    "    # if index is odd -> random identity\n",
    "    def __getitem__(self, idx):\n",
    "        anchor_img = self.images[idx]\n",
    "        anchor_label = self.labels[idx]\n",
    "\n",
    "        pos_idx = np.random.choice(np.arange(len(self.images))[self.labels == anchor_label])\n",
    "        neg_idx = np.random.choice(np.arange(len(self.images))[self.labels != anchor_label])\n",
    "\n",
    "        pos_img = self.images[pos_idx]\n",
    "        neg_img = self.images[neg_idx]\n",
    "\n",
    "        pos_label = self.labels[pos_idx]\n",
    "        neg_label = self.labels[neg_idx]\n",
    "\n",
    "        if self.transform is None:\n",
    "            img_to_tensor = transforms.ToTensor()\n",
    "            anchor_img = img_to_tensor(anchor_img)\n",
    "            pos_img = img_to_tensor(pos_img)\n",
    "            neg_img = img_to_tensor(neg_img)\n",
    "        else:\n",
    "            anchor_img = self.transform(anchor_img)\n",
    "            pos_img = self.transform(pos_img)\n",
    "            neg_img = self.transform(neg_img)\n",
    "\n",
    "        return anchor_img, pos_img, neg_img\n",
    "\n",
    "    # load imgs from pandas to memory and define the maximum number of images\n",
    "    def load_imgs(self, df, num_imgs, max):\n",
    "        # iterate thought each row\n",
    "        for i, row in tqdm(df.iterrows(), total = max):\n",
    "            # get identity of each row\n",
    "            row_identity = row['identity']\n",
    "            # append each identity to numberical value\n",
    "            self.label_to_indices[int(row_identity)] = i\n",
    "            count_img = 0\n",
    "            # loop imgs in each identity\n",
    "            for img_name in row['path']:\n",
    "                if count_img > num_imgs:\n",
    "                    break\n",
    "                # concatenate the directoru and image name\n",
    "                # path_to_image = self.dir+img_name\n",
    "                path_to_image = img_name\n",
    "                # open image and convert to RGB\n",
    "                img = Image.open(path_to_image).convert('RGB')\n",
    "\n",
    "                self.images.append(img)\n",
    "                self.labels.append(i)\n",
    "                count_img += 1\n",
    "            # print('Added img '+ str(row_identity))\n",
    "        self.labels = np.array(self.labels)"
   ]
  },
  {
   "cell_type": "markdown",
   "id": "7e85575a",
   "metadata": {},
   "source": [
    "# Preperation of dataset"
   ]
  },
  {
   "cell_type": "code",
   "execution_count": 4,
   "id": "0a0c9d80",
   "metadata": {},
   "outputs": [
    {
     "data": {
      "text/html": [
       "<div>\n",
       "<style scoped>\n",
       "    .dataframe tbody tr th:only-of-type {\n",
       "        vertical-align: middle;\n",
       "    }\n",
       "\n",
       "    .dataframe tbody tr th {\n",
       "        vertical-align: top;\n",
       "    }\n",
       "\n",
       "    .dataframe thead th {\n",
       "        text-align: right;\n",
       "    }\n",
       "</style>\n",
       "<table border=\"1\" class=\"dataframe\">\n",
       "  <thead>\n",
       "    <tr style=\"text-align: right;\">\n",
       "      <th></th>\n",
       "      <th>identity</th>\n",
       "      <th>path</th>\n",
       "    </tr>\n",
       "  </thead>\n",
       "  <tbody>\n",
       "    <tr>\n",
       "      <th>0</th>\n",
       "      <td>0</td>\n",
       "      <td>[digiFace1M\\subjects_0-1999_72_imgs\\0\\20.png, ...</td>\n",
       "    </tr>\n",
       "    <tr>\n",
       "      <th>1</th>\n",
       "      <td>1</td>\n",
       "      <td>[digiFace1M\\subjects_0-1999_72_imgs\\1\\66.png, ...</td>\n",
       "    </tr>\n",
       "    <tr>\n",
       "      <th>2</th>\n",
       "      <td>2</td>\n",
       "      <td>[digiFace1M\\subjects_0-1999_72_imgs\\2\\29.png, ...</td>\n",
       "    </tr>\n",
       "    <tr>\n",
       "      <th>3</th>\n",
       "      <td>3</td>\n",
       "      <td>[digiFace1M\\subjects_0-1999_72_imgs\\3\\42.png, ...</td>\n",
       "    </tr>\n",
       "    <tr>\n",
       "      <th>4</th>\n",
       "      <td>4</td>\n",
       "      <td>[digiFace1M\\subjects_0-1999_72_imgs\\4\\33.png, ...</td>\n",
       "    </tr>\n",
       "    <tr>\n",
       "      <th>...</th>\n",
       "      <td>...</td>\n",
       "      <td>...</td>\n",
       "    </tr>\n",
       "    <tr>\n",
       "      <th>72661</th>\n",
       "      <td>199994</td>\n",
       "      <td>[digiFace1M\\subjects_166666-199998_5_imgs\\1999...</td>\n",
       "    </tr>\n",
       "    <tr>\n",
       "      <th>72662</th>\n",
       "      <td>199995</td>\n",
       "      <td>[digiFace1M\\subjects_166666-199998_5_imgs\\1999...</td>\n",
       "    </tr>\n",
       "    <tr>\n",
       "      <th>72663</th>\n",
       "      <td>199996</td>\n",
       "      <td>[digiFace1M\\subjects_166666-199998_5_imgs\\1999...</td>\n",
       "    </tr>\n",
       "    <tr>\n",
       "      <th>72664</th>\n",
       "      <td>199997</td>\n",
       "      <td>[digiFace1M\\subjects_166666-199998_5_imgs\\1999...</td>\n",
       "    </tr>\n",
       "    <tr>\n",
       "      <th>72665</th>\n",
       "      <td>199998</td>\n",
       "      <td>[digiFace1M\\subjects_166666-199998_5_imgs\\1999...</td>\n",
       "    </tr>\n",
       "  </tbody>\n",
       "</table>\n",
       "<p>72666 rows × 2 columns</p>\n",
       "</div>"
      ],
      "text/plain": [
       "       identity                                               path\n",
       "0             0  [digiFace1M\\subjects_0-1999_72_imgs\\0\\20.png, ...\n",
       "1             1  [digiFace1M\\subjects_0-1999_72_imgs\\1\\66.png, ...\n",
       "2             2  [digiFace1M\\subjects_0-1999_72_imgs\\2\\29.png, ...\n",
       "3             3  [digiFace1M\\subjects_0-1999_72_imgs\\3\\42.png, ...\n",
       "4             4  [digiFace1M\\subjects_0-1999_72_imgs\\4\\33.png, ...\n",
       "...         ...                                                ...\n",
       "72661    199994  [digiFace1M\\subjects_166666-199998_5_imgs\\1999...\n",
       "72662    199995  [digiFace1M\\subjects_166666-199998_5_imgs\\1999...\n",
       "72663    199996  [digiFace1M\\subjects_166666-199998_5_imgs\\1999...\n",
       "72664    199997  [digiFace1M\\subjects_166666-199998_5_imgs\\1999...\n",
       "72665    199998  [digiFace1M\\subjects_166666-199998_5_imgs\\1999...\n",
       "\n",
       "[72666 rows x 2 columns]"
      ]
     },
     "execution_count": 4,
     "metadata": {},
     "output_type": "execute_result"
    }
   ],
   "source": [
    "ds_df = pd.read_csv('./digiface_csv_files/digi_all.csv')\n",
    "ds_df = ds_df.groupby('identity')['path'].apply(list).reset_index()\n",
    "ds_df"
   ]
  },
  {
   "cell_type": "code",
   "execution_count": 5,
   "id": "84a5f52d",
   "metadata": {},
   "outputs": [
    {
     "name": "stdout",
     "output_type": "stream",
     "text": [
      "Train Size: 50866\n",
      "Val Size: 13080\n",
      "Test Size: 8720\n"
     ]
    },
    {
     "data": {
      "text/html": [
       "<div>\n",
       "<style scoped>\n",
       "    .dataframe tbody tr th:only-of-type {\n",
       "        vertical-align: middle;\n",
       "    }\n",
       "\n",
       "    .dataframe tbody tr th {\n",
       "        vertical-align: top;\n",
       "    }\n",
       "\n",
       "    .dataframe thead th {\n",
       "        text-align: right;\n",
       "    }\n",
       "</style>\n",
       "<table border=\"1\" class=\"dataframe\">\n",
       "  <thead>\n",
       "    <tr style=\"text-align: right;\">\n",
       "      <th></th>\n",
       "      <th>identity</th>\n",
       "      <th>path</th>\n",
       "    </tr>\n",
       "  </thead>\n",
       "  <tbody>\n",
       "    <tr>\n",
       "      <th>26344</th>\n",
       "      <td>120344</td>\n",
       "      <td>[digiFace1M\\subjects_100000-133332_5_imgs\\1203...</td>\n",
       "    </tr>\n",
       "    <tr>\n",
       "      <th>61833</th>\n",
       "      <td>189166</td>\n",
       "      <td>[digiFace1M\\subjects_166666-199998_5_imgs\\1891...</td>\n",
       "    </tr>\n",
       "    <tr>\n",
       "      <th>46921</th>\n",
       "      <td>174254</td>\n",
       "      <td>[digiFace1M\\subjects_166666-199998_5_imgs\\1742...</td>\n",
       "    </tr>\n",
       "    <tr>\n",
       "      <th>4873</th>\n",
       "      <td>8873</td>\n",
       "      <td>[digiFace1M\\subjects_8000-9999_72_imgs\\8873\\54...</td>\n",
       "    </tr>\n",
       "    <tr>\n",
       "      <th>19875</th>\n",
       "      <td>113875</td>\n",
       "      <td>[digiFace1M\\subjects_100000-133332_5_imgs\\1138...</td>\n",
       "    </tr>\n",
       "  </tbody>\n",
       "</table>\n",
       "</div>"
      ],
      "text/plain": [
       "       identity                                               path\n",
       "26344    120344  [digiFace1M\\subjects_100000-133332_5_imgs\\1203...\n",
       "61833    189166  [digiFace1M\\subjects_166666-199998_5_imgs\\1891...\n",
       "46921    174254  [digiFace1M\\subjects_166666-199998_5_imgs\\1742...\n",
       "4873       8873  [digiFace1M\\subjects_8000-9999_72_imgs\\8873\\54...\n",
       "19875    113875  [digiFace1M\\subjects_100000-133332_5_imgs\\1138..."
      ]
     },
     "execution_count": 5,
     "metadata": {},
     "output_type": "execute_result"
    }
   ],
   "source": [
    "from sklearn.model_selection import train_test_split\n",
    "\n",
    "# splitting each dataset\n",
    "train_df, eval_df = train_test_split(ds_df, test_size= 0.3, shuffle = True, random_state = seed)\n",
    "val_df, test_df = train_test_split(eval_df, test_size = 0.4, shuffle = True, random_state = seed)\n",
    "\n",
    "# print to check size of each dataset\n",
    "print(f'Train Size: {len(train_df)}')\n",
    "print(f'Val Size: {len(val_df)}')\n",
    "print(f'Test Size: {len(test_df)}')\n",
    "\n",
    "train_df.head(5)"
   ]
  },
  {
   "cell_type": "code",
   "execution_count": 6,
   "id": "7799a1c1",
   "metadata": {},
   "outputs": [
    {
     "name": "stdout",
     "output_type": "stream",
     "text": [
      "------------Started Loading Train Set------------\n"
     ]
    },
    {
     "data": {
      "application/vnd.jupyter.widget-view+json": {
       "model_id": "def796abab534fc58e81918dfb36bfd2",
       "version_major": 2,
       "version_minor": 0
      },
      "text/plain": [
       "  0%|          | 0/6000 [00:00<?, ?it/s]"
      ]
     },
     "metadata": {},
     "output_type": "display_data"
    },
    {
     "name": "stdout",
     "output_type": "stream",
     "text": [
      "Total Train Set:  6000\n",
      "-----------Finished Loading Train Set------------\n",
      "\n",
      "\n",
      "------------Started Loading Validation Set------------\n"
     ]
    },
    {
     "data": {
      "application/vnd.jupyter.widget-view+json": {
       "model_id": "0c5e07ffba9e47668d1678b41e1ecb97",
       "version_major": 2,
       "version_minor": 0
      },
      "text/plain": [
       "  0%|          | 0/3000 [00:00<?, ?it/s]"
      ]
     },
     "metadata": {},
     "output_type": "display_data"
    },
    {
     "name": "stdout",
     "output_type": "stream",
     "text": [
      "Total Train Set:  3000\n",
      "-----------Finished Loading Validation Set------------\n"
     ]
    }
   ],
   "source": [
    "# define image size\n",
    "img_size = 112\n",
    "\n",
    "# define transformation for test set\n",
    "train_transform = transforms.Compose([\n",
    "    transforms.Resize((256, 256)),\n",
    "    transforms.CenterCrop(img_size),\n",
    "    transforms.RandomHorizontalFlip(p=0.6),\n",
    "    transforms.ToTensor(),\n",
    "    transforms.Normalize(mean=[0.485, 0.456, 0.406],\n",
    "                         std=[0.229, 0.224, 0.225])\n",
    "])\n",
    "\n",
    "\n",
    "# define transformation for validation set\n",
    "val_transform = transforms.Compose([\n",
    "    transforms.Resize((256, 256)),\n",
    "    transforms.CenterCrop(img_size),\n",
    "    transforms.ToTensor(),\n",
    "    transforms.Normalize(mean=[0.485, 0.456, 0.406],\n",
    "                         std=[0.229, 0.224, 0.225])\n",
    "])\n",
    "\n",
    "\n",
    "# define batch size\n",
    "train_batch_size = 64\n",
    "val_batch_size = 64\n",
    "print('------------Started Loading Train Set------------')\n",
    "# create dataloader for train set\n",
    "train_triplet_dataset = FaceDataset(df = train_df, num_sample = 6000, transform = train_transform)\n",
    "train_triplet_dataloader = DataLoader(train_triplet_dataset, batch_size=train_batch_size, shuffle=True, pin_memory=True)\n",
    "print('Total Train Set: ', train_triplet_dataset.__len__())\n",
    "print('-----------Finished Loading Train Set------------')\n",
    "\n",
    "print('\\n')\n",
    "\n",
    "print('------------Started Loading Validation Set------------')\n",
    "# create dataloader for validation set\n",
    "val_triplet_dataset = FaceDataset(df = val_df,num_sample = 3000, transform = val_transform)\n",
    "val_triplet_dataloader = DataLoader(val_triplet_dataset, batch_size=val_batch_size, shuffle=True, pin_memory=True)\n",
    "print('Total Train Set: ', val_triplet_dataset.__len__())\n",
    "print('-----------Finished Loading Validation Set------------')\n"
   ]
  },
  {
   "cell_type": "code",
   "execution_count": 7,
   "id": "32f89ec3",
   "metadata": {},
   "outputs": [
    {
     "data": {
      "text/plain": [
       "47"
      ]
     },
     "execution_count": 7,
     "metadata": {},
     "output_type": "execute_result"
    }
   ],
   "source": [
    "len(val_triplet_dataloader)"
   ]
  },
  {
   "cell_type": "markdown",
   "id": "0ec1c881",
   "metadata": {},
   "source": [
    "# Triplet Network"
   ]
  },
  {
   "cell_type": "code",
   "execution_count": 8,
   "id": "aa2ff8da",
   "metadata": {},
   "outputs": [],
   "source": [
    "from torch.nn import Linear, Conv2d, BatchNorm1d, BatchNorm2d, PReLU, ReLU, ReLU6, Sigmoid, Dropout2d\\\n",
    "    ,Dropout, AvgPool2d, MaxPool2d, AdaptiveAvgPool2d, Sequential, Module, Parameter\n",
    "\n",
    "class Flatten(Module):\n",
    "    def forward(self, input):\n",
    "        return input.view(input.size(0), -1)\n",
    "\n",
    "def l2_norm(input,axis=1):\n",
    "    norm = torch.norm(input,2,axis,True)\n",
    "    output = torch.div(input, norm)\n",
    "    return output\n",
    "\n",
    "class h_sigmoid(Module):\n",
    "    def __init__(self, inplace=True):\n",
    "        super(h_sigmoid, self).__init__()\n",
    "        self.relu = ReLU6(inplace=inplace)\n",
    "\n",
    "    def forward(self, x):\n",
    "        return self.relu(x + 3) / 6\n",
    "\n",
    "\n",
    "class h_swish(Module):\n",
    "    def __init__(self, inplace=True):\n",
    "        super(h_swish, self).__init__()\n",
    "        self.sigmoid = h_sigmoid(inplace=inplace)\n",
    "\n",
    "    def forward(self, x):\n",
    "        return x * self.sigmoid(x)\n",
    "\n",
    "\n",
    "class SELayer(Module):\n",
    "    def __init__(self, channel, reduction=4):\n",
    "        super(SELayer, self).__init__()\n",
    "        self.avg_pool = AdaptiveAvgPool2d(1)\n",
    "        self.fc = Sequential(\n",
    "            Linear(channel, channel // reduction),\n",
    "            ReLU(inplace=True),\n",
    "            Linear(channel // reduction, channel),\n",
    "            h_sigmoid()\n",
    "        )\n",
    "\n",
    "    def forward(self, x):\n",
    "        b, c, _, _ = x.size()\n",
    "        y = self.avg_pool(x).view(b, c)\n",
    "        y = self.fc(y).view(b, c, 1, 1)\n",
    "        return x * y\n",
    "\n",
    "class PermutationBlock(Module):\n",
    "    def __init__(self, groups):\n",
    "        super(PermutationBlock, self).__init__()\n",
    "        self.groups = groups\n",
    "\n",
    "    def forward(self, input):\n",
    "        n, c, h, w = input.size()\n",
    "        G = self.groups\n",
    "        output = input.view(n, G, c // G, h, w).permute(0, 2, 1, 3, 4).contiguous().view(n, c, h, w)\n",
    "        return output\n",
    "\n",
    "class Conv_block(Module):\n",
    "    def __init__(self, in_c, out_c, kernel=(1, 1), stride=(1, 1), padding=(0, 0), groups=1):\n",
    "        super(Conv_block, self).__init__()\n",
    "        self.conv = Conv2d(in_c, out_channels=out_c, kernel_size=kernel, groups=groups, stride=stride, padding=padding, bias=False)\n",
    "        self.bn = BatchNorm2d(out_c)\n",
    "        self.prelu = PReLU(out_c)\n",
    "    def forward(self, x):\n",
    "        x = self.conv(x)\n",
    "        x = self.bn(x)\n",
    "        x = self.prelu(x)\n",
    "        return x\n",
    "\n",
    "class Linear_block(Module):\n",
    "    def __init__(self, in_c, out_c, kernel=(1, 1), stride=(1, 1), padding=(0, 0), groups=1):\n",
    "        super(Linear_block, self).__init__()\n",
    "        self.conv = Conv2d(in_c, out_channels=out_c, kernel_size=kernel, groups=groups, stride=stride, padding=padding, bias=False)\n",
    "        self.bn = BatchNorm2d(out_c)\n",
    "    def forward(self, x):\n",
    "        x = self.conv(x)\n",
    "        x = self.bn(x)\n",
    "        return x\n",
    "\n",
    "class Depth_Wise(Module):\n",
    "    def __init__(self, in_c, out_c, residual = False, kernel=(3, 3), stride=(2, 2), padding=(1, 1), groups=1):\n",
    "        super(Depth_Wise, self).__init__()\n",
    "        self.conv = Conv_block(in_c, out_c=groups, kernel=(1, 1), padding=(0, 0), stride=(1, 1))\n",
    "        self.conv_dw = Conv_block(groups, groups, groups=groups, kernel=kernel, padding=padding, stride=stride)\n",
    "        self.project = Linear_block(groups, out_c, kernel=(1, 1), padding=(0, 0), stride=(1, 1))\n",
    "        self.residual = residual\n",
    "    def forward(self, x):\n",
    "        if self.residual:\n",
    "            short_cut = x\n",
    "        x = self.conv(x)\n",
    "        x = self.conv_dw(x)\n",
    "        x = self.project(x)\n",
    "        if self.residual:\n",
    "            output = short_cut + x\n",
    "        else:\n",
    "            output = x\n",
    "        return output\n",
    "\n",
    "class Residual(Module):\n",
    "    def __init__(self, c, num_block, groups, kernel=(3, 3), stride=(1, 1), padding=(1, 1)):\n",
    "        super(Residual, self).__init__()\n",
    "        modules = []\n",
    "        for _ in range(num_block):\n",
    "            modules.append(Depth_Wise(c, c, residual=True, kernel=kernel, padding=padding, stride=stride, groups=groups))\n",
    "        self.model = Sequential(*modules)\n",
    "    def forward(self, x):\n",
    "        return self.model(x)\n",
    "\n",
    "class LinearScheduler(nn.Module):\n",
    "    def __init__(self, dropblock, start_value, stop_value, nr_steps):\n",
    "        super(LinearScheduler, self).__init__()\n",
    "        self.dropblock = dropblock\n",
    "        self.i = 0\n",
    "        self.drop_values = np.linspace(start=start_value, stop=stop_value, num=nr_steps)\n",
    "\n",
    "    def forward(self, x):\n",
    "        return self.dropblock(x)\n",
    "\n",
    "    def step(self):\n",
    "        if self.i < len(self.drop_values):\n",
    "            self.dropblock.drop_prob = self.drop_values[self.i]\n",
    "\n",
    "        self.i += 1\n",
    "\n",
    "class DropBlock2D(nn.Module):\n",
    "    r\"\"\"Randomly zeroes 2D spatial blocks of the input tensor.\n",
    "    As described in the paper\n",
    "    `DropBlock: A regularization method for convolutional networks`_ ,\n",
    "    dropping whole blocks of feature map allows to remove semantic\n",
    "    information as compared to regular dropout.\n",
    "    Args:\n",
    "        drop_prob (float): probability of an element to be dropped.\n",
    "        block_size (int): size of the block to drop\n",
    "    Shape:\n",
    "        - Input: `(N, C, H, W)`\n",
    "        - Output: `(N, C, H, W)`\n",
    "    .. _DropBlock: A regularization method for convolutional networks:\n",
    "       https://arxiv.org/abs/1810.12890\n",
    "    \"\"\"\n",
    "\n",
    "    def __init__(self, drop_prob, block_size):\n",
    "        super(DropBlock2D, self).__init__()\n",
    "\n",
    "        self.drop_prob = drop_prob\n",
    "        self.block_size = block_size\n",
    "\n",
    "    def forward(self, x):\n",
    "        # shape: (bsize, channels, height, width)\n",
    "\n",
    "        assert x.dim() == 4, \\\n",
    "            \"Expected input with 4 dimensions (bsize, channels, height, width)\"\n",
    "\n",
    "        if not self.training or self.drop_prob == 0.:\n",
    "            return x\n",
    "        else:\n",
    "            # get gamma value\n",
    "            gamma = self._compute_gamma(x)\n",
    "\n",
    "            # sample mask\n",
    "            mask = (torch.rand(x.shape[0], *x.shape[2:]) < gamma).float()\n",
    "\n",
    "            # place mask on input device\n",
    "            mask = mask.to(x.device)\n",
    "\n",
    "            # compute block mask\n",
    "            block_mask = self._compute_block_mask(mask)\n",
    "\n",
    "            # apply block mask\n",
    "            out = x * block_mask[:, None, :, :]\n",
    "\n",
    "            # scale output\n",
    "            out = out * block_mask.numel() / block_mask.sum()\n",
    "\n",
    "            return out\n",
    "\n",
    "    def _compute_block_mask(self, mask):\n",
    "        block_mask = F.max_pool2d(input=mask[:, None, :, :],\n",
    "                                  kernel_size=(self.block_size, self.block_size),\n",
    "                                  stride=(1, 1),\n",
    "                                  padding=self.block_size // 2)\n",
    "\n",
    "        if self.block_size % 2 == 0:\n",
    "            block_mask = block_mask[:, :, :-1, :-1]\n",
    "\n",
    "        block_mask = 1 - block_mask.squeeze(1)\n",
    "\n",
    "        return block_mask\n",
    "\n",
    "    def _compute_gamma(self, x):\n",
    "        return self.drop_prob / (self.block_size ** 2)\n"
   ]
  },
  {
   "cell_type": "code",
   "execution_count": 9,
   "id": "2b43d1d5",
   "metadata": {},
   "outputs": [],
   "source": [
    "\n",
    "class MobileFaceNet(Module):\n",
    "    def __init__(self, embedding_size=512):\n",
    "        super(MobileFaceNet, self).__init__()\n",
    "        self.conv1 = Conv_block(3, 64, kernel=(3, 3), stride=(2, 2), padding=(1, 1))\n",
    "        self.conv2_dw = Conv_block(64, 64, kernel=(3, 3), stride=(1, 1), padding=(1, 1), groups=64)\n",
    "        self.conv_23 = Depth_Wise(64, 64, kernel=(3, 3), stride=(2, 2), padding=(1, 1), groups=128)\n",
    "        self.conv_3 = Residual(64, num_block=4, groups=128, kernel=(3, 3), stride=(1, 1), padding=(1, 1))\n",
    "        self.conv_34 = Depth_Wise(64, 128, kernel=(3, 3), stride=(2, 2), padding=(1, 1), groups=256)\n",
    "        self.conv_4 = Residual(128, num_block=6, groups=256, kernel=(3, 3), stride=(1, 1), padding=(1, 1))\n",
    "        self.conv_45 = Depth_Wise(128, 128, kernel=(3, 3), stride=(2, 2), padding=(1, 1), groups=512)\n",
    "        self.conv_5 = Residual(128, num_block=2, groups=256, kernel=(3, 3), stride=(1, 1), padding=(1, 1))\n",
    "        self.conv_6_sep = Conv_block(128, 512, kernel=(1, 1), stride=(1, 1), padding=(0, 0))\n",
    "        self.conv_6_dw = Linear_block(512, 512, groups=512, kernel=(7,7), stride=(1, 1), padding=(0, 0))\n",
    "        self.conv_6_flatten = Flatten()\n",
    "        self.linear = Linear(512, embedding_size, bias=False)\n",
    "        self.bn = BatchNorm1d(embedding_size)\n",
    "        self.dropblock = DropBlock2D(block_size=3, drop_prob=0.3)\n",
    "        self.dropout = Dropout2d(0.3)\n",
    "\n",
    "    def forward_once(self,x):\n",
    "        out = self.conv1(x)\n",
    "\n",
    "        out = self.conv2_dw(out)\n",
    "\n",
    "        out = self.conv_23(out)\n",
    "\n",
    "        out = self.conv_3(out)\n",
    "\n",
    "        out = self.conv_34(out)\n",
    "\n",
    "        out = self.conv_4(out)\n",
    "\n",
    "        # out = self.dropblock(out)\n",
    "\n",
    "        out = self.conv_45(out)\n",
    "\n",
    "        out = self.conv_5(out)\n",
    "\n",
    "        out = self.conv_6_sep(out)\n",
    "\n",
    "        out = self.dropblock(out)\n",
    "\n",
    "        out = self.conv_6_dw(out)\n",
    "\n",
    "        out = self.dropblock(out)\n",
    "\n",
    "        out = self.conv_6_flatten(out)\n",
    "\n",
    "        out = self.linear(out)\n",
    "\n",
    "        out = self.bn(out)\n",
    "        return l2_norm(out)\n",
    "\n",
    "    def forward(self, anchor_img, positive_img, negative_img):\n",
    "        anchor = self.forward_once(anchor_img)\n",
    "        positive = self.forward_once(positive_img)\n",
    "        negative = self.forward_once(negative_img)\n",
    "        return anchor, positive, negative\n"
   ]
  },
  {
   "cell_type": "code",
   "execution_count": 10,
   "id": "aee11b9c",
   "metadata": {},
   "outputs": [
    {
     "name": "stdout",
     "output_type": "stream",
     "text": [
      "===============================================================================================\n",
      "Layer (type:depth-idx)                        Output Shape              Param #\n",
      "===============================================================================================\n",
      "MobileFaceNet                                 [32, 512]                 --\n",
      "├─Conv_block: 1-1                             [32, 64, 56, 56]          --\n",
      "│    └─Conv2d: 2-1                            [32, 64, 56, 56]          1,728\n",
      "│    └─BatchNorm2d: 2-2                       [32, 64, 56, 56]          128\n",
      "│    └─PReLU: 2-3                             [32, 64, 56, 56]          64\n",
      "├─Conv_block: 1-2                             [32, 64, 56, 56]          --\n",
      "│    └─Conv2d: 2-4                            [32, 64, 56, 56]          576\n",
      "│    └─BatchNorm2d: 2-5                       [32, 64, 56, 56]          128\n",
      "│    └─PReLU: 2-6                             [32, 64, 56, 56]          64\n",
      "├─Depth_Wise: 1-3                             [32, 64, 28, 28]          --\n",
      "│    └─Conv_block: 2-7                        [32, 128, 56, 56]         --\n",
      "│    │    └─Conv2d: 3-1                       [32, 128, 56, 56]         8,192\n",
      "│    │    └─BatchNorm2d: 3-2                  [32, 128, 56, 56]         256\n",
      "│    │    └─PReLU: 3-3                        [32, 128, 56, 56]         128\n",
      "│    └─Conv_block: 2-8                        [32, 128, 28, 28]         --\n",
      "│    │    └─Conv2d: 3-4                       [32, 128, 28, 28]         1,152\n",
      "│    │    └─BatchNorm2d: 3-5                  [32, 128, 28, 28]         256\n",
      "│    │    └─PReLU: 3-6                        [32, 128, 28, 28]         128\n",
      "│    └─Linear_block: 2-9                      [32, 64, 28, 28]          --\n",
      "│    │    └─Conv2d: 3-7                       [32, 64, 28, 28]          8,192\n",
      "│    │    └─BatchNorm2d: 3-8                  [32, 64, 28, 28]          128\n",
      "├─Residual: 1-4                               [32, 64, 28, 28]          --\n",
      "│    └─Sequential: 2-10                       [32, 64, 28, 28]          --\n",
      "│    │    └─Depth_Wise: 3-9                   [32, 64, 28, 28]          18,432\n",
      "│    │    └─Depth_Wise: 3-10                  [32, 64, 28, 28]          18,432\n",
      "│    │    └─Depth_Wise: 3-11                  [32, 64, 28, 28]          18,432\n",
      "│    │    └─Depth_Wise: 3-12                  [32, 64, 28, 28]          18,432\n",
      "├─Depth_Wise: 1-5                             [32, 128, 14, 14]         --\n",
      "│    └─Conv_block: 2-11                       [32, 256, 28, 28]         --\n",
      "│    │    └─Conv2d: 3-13                      [32, 256, 28, 28]         16,384\n",
      "│    │    └─BatchNorm2d: 3-14                 [32, 256, 28, 28]         512\n",
      "│    │    └─PReLU: 3-15                       [32, 256, 28, 28]         256\n",
      "│    └─Conv_block: 2-12                       [32, 256, 14, 14]         --\n",
      "│    │    └─Conv2d: 3-16                      [32, 256, 14, 14]         2,304\n",
      "│    │    └─BatchNorm2d: 3-17                 [32, 256, 14, 14]         512\n",
      "│    │    └─PReLU: 3-18                       [32, 256, 14, 14]         256\n",
      "│    └─Linear_block: 2-13                     [32, 128, 14, 14]         --\n",
      "│    │    └─Conv2d: 3-19                      [32, 128, 14, 14]         32,768\n",
      "│    │    └─BatchNorm2d: 3-20                 [32, 128, 14, 14]         256\n",
      "├─Residual: 1-6                               [32, 128, 14, 14]         --\n",
      "│    └─Sequential: 2-14                       [32, 128, 14, 14]         --\n",
      "│    │    └─Depth_Wise: 3-21                  [32, 128, 14, 14]         69,632\n",
      "│    │    └─Depth_Wise: 3-22                  [32, 128, 14, 14]         69,632\n",
      "│    │    └─Depth_Wise: 3-23                  [32, 128, 14, 14]         69,632\n",
      "│    │    └─Depth_Wise: 3-24                  [32, 128, 14, 14]         69,632\n",
      "│    │    └─Depth_Wise: 3-25                  [32, 128, 14, 14]         69,632\n",
      "│    │    └─Depth_Wise: 3-26                  [32, 128, 14, 14]         69,632\n",
      "├─Depth_Wise: 1-7                             [32, 128, 7, 7]           --\n",
      "│    └─Conv_block: 2-15                       [32, 512, 14, 14]         --\n",
      "│    │    └─Conv2d: 3-27                      [32, 512, 14, 14]         65,536\n",
      "│    │    └─BatchNorm2d: 3-28                 [32, 512, 14, 14]         1,024\n",
      "│    │    └─PReLU: 3-29                       [32, 512, 14, 14]         512\n",
      "│    └─Conv_block: 2-16                       [32, 512, 7, 7]           --\n",
      "│    │    └─Conv2d: 3-30                      [32, 512, 7, 7]           4,608\n",
      "│    │    └─BatchNorm2d: 3-31                 [32, 512, 7, 7]           1,024\n",
      "│    │    └─PReLU: 3-32                       [32, 512, 7, 7]           512\n",
      "│    └─Linear_block: 2-17                     [32, 128, 7, 7]           --\n",
      "│    │    └─Conv2d: 3-33                      [32, 128, 7, 7]           65,536\n",
      "│    │    └─BatchNorm2d: 3-34                 [32, 128, 7, 7]           256\n",
      "├─Residual: 1-8                               [32, 128, 7, 7]           --\n",
      "│    └─Sequential: 2-18                       [32, 128, 7, 7]           --\n",
      "│    │    └─Depth_Wise: 3-35                  [32, 128, 7, 7]           69,632\n",
      "│    │    └─Depth_Wise: 3-36                  [32, 128, 7, 7]           69,632\n",
      "├─Conv_block: 1-9                             [32, 512, 7, 7]           --\n",
      "│    └─Conv2d: 2-19                           [32, 512, 7, 7]           65,536\n",
      "│    └─BatchNorm2d: 2-20                      [32, 512, 7, 7]           1,024\n",
      "│    └─PReLU: 2-21                            [32, 512, 7, 7]           512\n",
      "├─DropBlock2D: 1-10                           [32, 512, 7, 7]           --\n",
      "├─Linear_block: 1-11                          [32, 512, 1, 1]           --\n",
      "│    └─Conv2d: 2-22                           [32, 512, 1, 1]           25,088\n",
      "│    └─BatchNorm2d: 2-23                      [32, 512, 1, 1]           1,024\n",
      "├─DropBlock2D: 1-12                           [32, 512, 1, 1]           --\n",
      "├─Flatten: 1-13                               [32, 512]                 --\n",
      "├─Linear: 1-14                                [32, 512]                 262,144\n",
      "├─BatchNorm1d: 1-15                           [32, 512]                 1,024\n",
      "├─Conv_block: 1-16                            [32, 64, 56, 56]          (recursive)\n",
      "│    └─Conv2d: 2-24                           [32, 64, 56, 56]          (recursive)\n",
      "│    └─BatchNorm2d: 2-25                      [32, 64, 56, 56]          (recursive)\n",
      "│    └─PReLU: 2-26                            [32, 64, 56, 56]          (recursive)\n",
      "├─Conv_block: 1-17                            [32, 64, 56, 56]          (recursive)\n",
      "│    └─Conv2d: 2-27                           [32, 64, 56, 56]          (recursive)\n",
      "│    └─BatchNorm2d: 2-28                      [32, 64, 56, 56]          (recursive)\n",
      "│    └─PReLU: 2-29                            [32, 64, 56, 56]          (recursive)\n",
      "├─Depth_Wise: 1-18                            [32, 64, 28, 28]          (recursive)\n",
      "│    └─Conv_block: 2-30                       [32, 128, 56, 56]         (recursive)\n",
      "│    │    └─Conv2d: 3-37                      [32, 128, 56, 56]         (recursive)\n",
      "│    │    └─BatchNorm2d: 3-38                 [32, 128, 56, 56]         (recursive)\n",
      "│    │    └─PReLU: 3-39                       [32, 128, 56, 56]         (recursive)\n",
      "│    └─Conv_block: 2-31                       [32, 128, 28, 28]         (recursive)\n",
      "│    │    └─Conv2d: 3-40                      [32, 128, 28, 28]         (recursive)\n",
      "│    │    └─BatchNorm2d: 3-41                 [32, 128, 28, 28]         (recursive)\n",
      "│    │    └─PReLU: 3-42                       [32, 128, 28, 28]         (recursive)\n",
      "│    └─Linear_block: 2-32                     [32, 64, 28, 28]          (recursive)\n",
      "│    │    └─Conv2d: 3-43                      [32, 64, 28, 28]          (recursive)\n",
      "│    │    └─BatchNorm2d: 3-44                 [32, 64, 28, 28]          (recursive)\n",
      "├─Residual: 1-19                              [32, 64, 28, 28]          (recursive)\n",
      "│    └─Sequential: 2-33                       [32, 64, 28, 28]          (recursive)\n",
      "│    │    └─Depth_Wise: 3-45                  [32, 64, 28, 28]          (recursive)\n",
      "│    │    └─Depth_Wise: 3-46                  [32, 64, 28, 28]          (recursive)\n",
      "│    │    └─Depth_Wise: 3-47                  [32, 64, 28, 28]          (recursive)\n",
      "│    │    └─Depth_Wise: 3-48                  [32, 64, 28, 28]          (recursive)\n",
      "├─Depth_Wise: 1-20                            [32, 128, 14, 14]         (recursive)\n",
      "│    └─Conv_block: 2-34                       [32, 256, 28, 28]         (recursive)\n",
      "│    │    └─Conv2d: 3-49                      [32, 256, 28, 28]         (recursive)\n",
      "│    │    └─BatchNorm2d: 3-50                 [32, 256, 28, 28]         (recursive)\n",
      "│    │    └─PReLU: 3-51                       [32, 256, 28, 28]         (recursive)\n",
      "│    └─Conv_block: 2-35                       [32, 256, 14, 14]         (recursive)\n",
      "│    │    └─Conv2d: 3-52                      [32, 256, 14, 14]         (recursive)\n",
      "│    │    └─BatchNorm2d: 3-53                 [32, 256, 14, 14]         (recursive)\n",
      "│    │    └─PReLU: 3-54                       [32, 256, 14, 14]         (recursive)\n",
      "│    └─Linear_block: 2-36                     [32, 128, 14, 14]         (recursive)\n",
      "│    │    └─Conv2d: 3-55                      [32, 128, 14, 14]         (recursive)\n",
      "│    │    └─BatchNorm2d: 3-56                 [32, 128, 14, 14]         (recursive)\n",
      "├─Residual: 1-21                              [32, 128, 14, 14]         (recursive)\n",
      "│    └─Sequential: 2-37                       [32, 128, 14, 14]         (recursive)\n",
      "│    │    └─Depth_Wise: 3-57                  [32, 128, 14, 14]         (recursive)\n",
      "│    │    └─Depth_Wise: 3-58                  [32, 128, 14, 14]         (recursive)\n",
      "│    │    └─Depth_Wise: 3-59                  [32, 128, 14, 14]         (recursive)\n",
      "│    │    └─Depth_Wise: 3-60                  [32, 128, 14, 14]         (recursive)\n",
      "│    │    └─Depth_Wise: 3-61                  [32, 128, 14, 14]         (recursive)\n",
      "│    │    └─Depth_Wise: 3-62                  [32, 128, 14, 14]         (recursive)\n",
      "├─Depth_Wise: 1-22                            [32, 128, 7, 7]           (recursive)\n",
      "│    └─Conv_block: 2-38                       [32, 512, 14, 14]         (recursive)\n",
      "│    │    └─Conv2d: 3-63                      [32, 512, 14, 14]         (recursive)\n",
      "│    │    └─BatchNorm2d: 3-64                 [32, 512, 14, 14]         (recursive)\n",
      "│    │    └─PReLU: 3-65                       [32, 512, 14, 14]         (recursive)\n",
      "│    └─Conv_block: 2-39                       [32, 512, 7, 7]           (recursive)\n",
      "│    │    └─Conv2d: 3-66                      [32, 512, 7, 7]           (recursive)\n",
      "│    │    └─BatchNorm2d: 3-67                 [32, 512, 7, 7]           (recursive)\n",
      "│    │    └─PReLU: 3-68                       [32, 512, 7, 7]           (recursive)\n",
      "│    └─Linear_block: 2-40                     [32, 128, 7, 7]           (recursive)\n",
      "│    │    └─Conv2d: 3-69                      [32, 128, 7, 7]           (recursive)\n",
      "│    │    └─BatchNorm2d: 3-70                 [32, 128, 7, 7]           (recursive)\n",
      "├─Residual: 1-23                              [32, 128, 7, 7]           (recursive)\n",
      "│    └─Sequential: 2-41                       [32, 128, 7, 7]           (recursive)\n",
      "│    │    └─Depth_Wise: 3-71                  [32, 128, 7, 7]           (recursive)\n",
      "│    │    └─Depth_Wise: 3-72                  [32, 128, 7, 7]           (recursive)\n",
      "├─Conv_block: 1-24                            [32, 512, 7, 7]           (recursive)\n",
      "│    └─Conv2d: 2-42                           [32, 512, 7, 7]           (recursive)\n",
      "│    └─BatchNorm2d: 2-43                      [32, 512, 7, 7]           (recursive)\n",
      "│    └─PReLU: 2-44                            [32, 512, 7, 7]           (recursive)\n",
      "├─DropBlock2D: 1-25                           [32, 512, 7, 7]           --\n",
      "├─Linear_block: 1-26                          [32, 512, 1, 1]           (recursive)\n",
      "│    └─Conv2d: 2-45                           [32, 512, 1, 1]           (recursive)\n",
      "│    └─BatchNorm2d: 2-46                      [32, 512, 1, 1]           (recursive)\n",
      "├─DropBlock2D: 1-27                           [32, 512, 1, 1]           --\n",
      "├─Flatten: 1-28                               [32, 512]                 --\n",
      "├─Linear: 1-29                                [32, 512]                 (recursive)\n",
      "├─BatchNorm1d: 1-30                           [32, 512]                 (recursive)\n",
      "├─Conv_block: 1-31                            [32, 64, 56, 56]          (recursive)\n",
      "│    └─Conv2d: 2-47                           [32, 64, 56, 56]          (recursive)\n",
      "│    └─BatchNorm2d: 2-48                      [32, 64, 56, 56]          (recursive)\n",
      "│    └─PReLU: 2-49                            [32, 64, 56, 56]          (recursive)\n",
      "├─Conv_block: 1-32                            [32, 64, 56, 56]          (recursive)\n",
      "│    └─Conv2d: 2-50                           [32, 64, 56, 56]          (recursive)\n",
      "│    └─BatchNorm2d: 2-51                      [32, 64, 56, 56]          (recursive)\n",
      "│    └─PReLU: 2-52                            [32, 64, 56, 56]          (recursive)\n",
      "├─Depth_Wise: 1-33                            [32, 64, 28, 28]          (recursive)\n",
      "│    └─Conv_block: 2-53                       [32, 128, 56, 56]         (recursive)\n",
      "│    │    └─Conv2d: 3-73                      [32, 128, 56, 56]         (recursive)\n",
      "│    │    └─BatchNorm2d: 3-74                 [32, 128, 56, 56]         (recursive)\n",
      "│    │    └─PReLU: 3-75                       [32, 128, 56, 56]         (recursive)\n",
      "│    └─Conv_block: 2-54                       [32, 128, 28, 28]         (recursive)\n",
      "│    │    └─Conv2d: 3-76                      [32, 128, 28, 28]         (recursive)\n",
      "│    │    └─BatchNorm2d: 3-77                 [32, 128, 28, 28]         (recursive)\n",
      "│    │    └─PReLU: 3-78                       [32, 128, 28, 28]         (recursive)\n",
      "│    └─Linear_block: 2-55                     [32, 64, 28, 28]          (recursive)\n",
      "│    │    └─Conv2d: 3-79                      [32, 64, 28, 28]          (recursive)\n",
      "│    │    └─BatchNorm2d: 3-80                 [32, 64, 28, 28]          (recursive)\n",
      "├─Residual: 1-34                              [32, 64, 28, 28]          (recursive)\n",
      "│    └─Sequential: 2-56                       [32, 64, 28, 28]          (recursive)\n",
      "│    │    └─Depth_Wise: 3-81                  [32, 64, 28, 28]          (recursive)\n",
      "│    │    └─Depth_Wise: 3-82                  [32, 64, 28, 28]          (recursive)\n",
      "│    │    └─Depth_Wise: 3-83                  [32, 64, 28, 28]          (recursive)\n",
      "│    │    └─Depth_Wise: 3-84                  [32, 64, 28, 28]          (recursive)\n",
      "├─Depth_Wise: 1-35                            [32, 128, 14, 14]         (recursive)\n",
      "│    └─Conv_block: 2-57                       [32, 256, 28, 28]         (recursive)\n",
      "│    │    └─Conv2d: 3-85                      [32, 256, 28, 28]         (recursive)\n",
      "│    │    └─BatchNorm2d: 3-86                 [32, 256, 28, 28]         (recursive)\n",
      "│    │    └─PReLU: 3-87                       [32, 256, 28, 28]         (recursive)\n",
      "│    └─Conv_block: 2-58                       [32, 256, 14, 14]         (recursive)\n",
      "│    │    └─Conv2d: 3-88                      [32, 256, 14, 14]         (recursive)\n",
      "│    │    └─BatchNorm2d: 3-89                 [32, 256, 14, 14]         (recursive)\n",
      "│    │    └─PReLU: 3-90                       [32, 256, 14, 14]         (recursive)\n",
      "│    └─Linear_block: 2-59                     [32, 128, 14, 14]         (recursive)\n",
      "│    │    └─Conv2d: 3-91                      [32, 128, 14, 14]         (recursive)\n",
      "│    │    └─BatchNorm2d: 3-92                 [32, 128, 14, 14]         (recursive)\n",
      "├─Residual: 1-36                              [32, 128, 14, 14]         (recursive)\n",
      "│    └─Sequential: 2-60                       [32, 128, 14, 14]         (recursive)\n",
      "│    │    └─Depth_Wise: 3-93                  [32, 128, 14, 14]         (recursive)\n",
      "│    │    └─Depth_Wise: 3-94                  [32, 128, 14, 14]         (recursive)\n",
      "│    │    └─Depth_Wise: 3-95                  [32, 128, 14, 14]         (recursive)\n",
      "│    │    └─Depth_Wise: 3-96                  [32, 128, 14, 14]         (recursive)\n",
      "│    │    └─Depth_Wise: 3-97                  [32, 128, 14, 14]         (recursive)\n",
      "│    │    └─Depth_Wise: 3-98                  [32, 128, 14, 14]         (recursive)\n",
      "├─Depth_Wise: 1-37                            [32, 128, 7, 7]           (recursive)\n",
      "│    └─Conv_block: 2-61                       [32, 512, 14, 14]         (recursive)\n",
      "│    │    └─Conv2d: 3-99                      [32, 512, 14, 14]         (recursive)\n",
      "│    │    └─BatchNorm2d: 3-100                [32, 512, 14, 14]         (recursive)\n",
      "│    │    └─PReLU: 3-101                      [32, 512, 14, 14]         (recursive)\n",
      "│    └─Conv_block: 2-62                       [32, 512, 7, 7]           (recursive)\n",
      "│    │    └─Conv2d: 3-102                     [32, 512, 7, 7]           (recursive)\n",
      "│    │    └─BatchNorm2d: 3-103                [32, 512, 7, 7]           (recursive)\n",
      "│    │    └─PReLU: 3-104                      [32, 512, 7, 7]           (recursive)\n",
      "│    └─Linear_block: 2-63                     [32, 128, 7, 7]           (recursive)\n",
      "│    │    └─Conv2d: 3-105                     [32, 128, 7, 7]           (recursive)\n",
      "│    │    └─BatchNorm2d: 3-106                [32, 128, 7, 7]           (recursive)\n",
      "├─Residual: 1-38                              [32, 128, 7, 7]           (recursive)\n",
      "│    └─Sequential: 2-64                       [32, 128, 7, 7]           (recursive)\n",
      "│    │    └─Depth_Wise: 3-107                 [32, 128, 7, 7]           (recursive)\n",
      "│    │    └─Depth_Wise: 3-108                 [32, 128, 7, 7]           (recursive)\n",
      "├─Conv_block: 1-39                            [32, 512, 7, 7]           (recursive)\n",
      "│    └─Conv2d: 2-65                           [32, 512, 7, 7]           (recursive)\n",
      "│    └─BatchNorm2d: 2-66                      [32, 512, 7, 7]           (recursive)\n",
      "│    └─PReLU: 2-67                            [32, 512, 7, 7]           (recursive)\n",
      "├─DropBlock2D: 1-40                           [32, 512, 7, 7]           --\n",
      "├─Linear_block: 1-41                          [32, 512, 1, 1]           (recursive)\n",
      "│    └─Conv2d: 2-68                           [32, 512, 1, 1]           (recursive)\n",
      "│    └─BatchNorm2d: 2-69                      [32, 512, 1, 1]           (recursive)\n",
      "├─DropBlock2D: 1-42                           [32, 512, 1, 1]           --\n",
      "├─Flatten: 1-43                               [32, 512]                 --\n",
      "├─Linear: 1-44                                [32, 512]                 (recursive)\n",
      "├─BatchNorm1d: 1-45                           [32, 512]                 (recursive)\n",
      "===============================================================================================\n",
      "Total params: 1,200,512\n",
      "Trainable params: 1,200,512\n",
      "Non-trainable params: 0\n",
      "Total mult-adds (G): 21.23\n",
      "===============================================================================================\n",
      "Input size (MB): 14.45\n",
      "Forward/backward pass size (MB): 2347.96\n",
      "Params size (MB): 4.80\n",
      "Estimated Total Size (MB): 2367.21\n",
      "===============================================================================================\n"
     ]
    }
   ],
   "source": [
    "# triplet_model = TripletNetwork()\n",
    "triplet_model = MobileFaceNet()\n",
    "print(summary(triplet_model, input_size=[(32,3,112,112),(32,3,112,112),(32,3,112,112)]))"
   ]
  },
  {
   "cell_type": "code",
   "execution_count": 11,
   "id": "f9e2b3e7",
   "metadata": {},
   "outputs": [],
   "source": [
    "import math\n",
    "class Arcface(Module):\n",
    "    # implementation of additive margin softmax loss in https://arxiv.org/abs/1801.05599\n",
    "    def __init__(self, embedding_size=512,  classnum=51332,  s=64., m=0.5):\n",
    "        super(Arcface, self).__init__()\n",
    "        self.classnum = classnum\n",
    "        self.kernel = Parameter(torch.Tensor(embedding_size,classnum))\n",
    "        # initial kernel\n",
    "        self.kernel.data.uniform_(-1, 1).renorm_(2,1,1e-5).mul_(1e5)\n",
    "        self.m = m # the margin value, default is 0.5\n",
    "        self.s = s # scalar value default is 64, see normface https://arxiv.org/abs/1704.06369\n",
    "        self.cos_m = math.cos(m)\n",
    "        self.sin_m = math.sin(m)\n",
    "        self.mm = self.sin_m * m  # issue 1\n",
    "        self.threshold = math.cos(math.pi - m)\n",
    "        print('Arcface head')\n",
    "\n",
    "    def forward(self, embbedings, label):\n",
    "        # weights norm\n",
    "        nB = len(embbedings)\n",
    "        kernel_norm = l2_norm(self.kernel,axis=0)\n",
    "        # cos(theta+m)\n",
    "        cos_theta = torch.mm(embbedings,kernel_norm)\n",
    "#         output = torch.mm(embbedings,kernel_norm)\n",
    "        cos_theta = cos_theta.clamp(-1,1) # for numerical stability\n",
    "        cos_theta_2 = torch.pow(cos_theta, 2)\n",
    "        sin_theta_2 = 1 - cos_theta_2\n",
    "        sin_theta = torch.sqrt(sin_theta_2)\n",
    "        cos_theta_m = (cos_theta * self.cos_m - sin_theta * self.sin_m)\n",
    "        # this condition controls the theta+m should in range [0, pi]\n",
    "        #      0<=theta+m<=pi\n",
    "        #     -m<=theta<=pi-m\n",
    "        cond_v = cos_theta - self.threshold\n",
    "        cond_mask = cond_v <= 0\n",
    "        keep_val = (cos_theta - self.mm) # when theta not in [0,pi], use cosface instead\n",
    "        cos_theta_m[cond_mask] = keep_val[cond_mask]\n",
    "        output = cos_theta * 1.0 # a little bit hacky way to prevent in_place operation on cos_theta\n",
    "        idx_ = torch.arange(0, nB, dtype=torch.long)\n",
    "        output[idx_, label] = cos_theta_m[idx_, label]\n",
    "        output *= self.s # scale up in order to make softmax work, first introduced in normface\n",
    "        return output"
   ]
  },
  {
   "cell_type": "code",
   "execution_count": 12,
   "id": "69562b44",
   "metadata": {},
   "outputs": [],
   "source": [
    "class TripletLoss(nn.Module):\n",
    "    def __init__(self, margin):\n",
    "        super(TripletLoss, self).__init__()\n",
    "        self.margin = margin\n",
    "\n",
    "    def forward(self, anchor, positive, negative, size_average=True):\n",
    "        # calculate Euclidean's distance\n",
    "        distance_positive = (anchor - positive).pow(2).sum(1)\n",
    "        distance_negative = (anchor - negative).pow(2).sum(1)\n",
    "        # distance_positive = F.pairwise_distance(anchor, positive).view((-1, 1))\n",
    "        # distance_negative = F.pairwise_distance(anchor, negative).view((-1, 1))\n",
    "        losses = F.relu(distance_positive - distance_negative + self.margin)\n",
    "        return torch.mean(losses)"
   ]
  },
  {
   "cell_type": "code",
   "execution_count": 13,
   "id": "94a3dfbe",
   "metadata": {},
   "outputs": [],
   "source": [
    "class EarlyStopping:\n",
    "    def __init__(self, patient=5, min_delta=0):\n",
    "\n",
    "        self.patient = patient\n",
    "        self.min_delta = min_delta\n",
    "        self.counter = 0\n",
    "        self.early_stop = False\n",
    "\n",
    "    def __call__(self, train_loss, validation_loss):\n",
    "        if (validation_loss - train_loss) > self.min_delta:\n",
    "            self.counter +=1\n",
    "            if self.counter >= self.patient:\n",
    "                self.early_stop = True\n",
    "\n",
    "    def check_early_stop(self):\n",
    "        return self.early_stop"
   ]
  },
  {
   "cell_type": "code",
   "execution_count": 14,
   "id": "65b3ccf8",
   "metadata": {},
   "outputs": [],
   "source": [
    "def calculate_accuracy(threshold, dist, actual_issame):\n",
    "    predict_issame = np.less(dist, threshold)\n",
    "    tp = np.sum(np.logical_and(predict_issame, actual_issame))\n",
    "    tn = np.sum(np.logical_and(np.logical_not(predict_issame), np.logical_not(actual_issame)))\n",
    "\n",
    "    acc = float(tp + tn) / dist.size\n",
    "\n",
    "    return acc"
   ]
  },
  {
   "cell_type": "code",
   "execution_count": 15,
   "id": "74c46123",
   "metadata": {},
   "outputs": [],
   "source": [
    "model_config = {\n",
    "    'margin': 1.2,\n",
    "    'lr': 1e-3,\n",
    "    'patience': 5,\n",
    "    'factor': 0.1,\n",
    "    'min_lr': 1e-10,\n",
    "    'threshold': 1e-3\n",
    "}\n",
    "criterion = TripletLoss(margin = model_config['margin'])\n",
    "optimizer = optim.Adam(triplet_model.parameters(), lr=model_config['lr'])\n",
    "scheduler = optim.lr_scheduler.ReduceLROnPlateau(optimizer, 'min', patience=model_config['patience'], factor=model_config['factor'], min_lr=model_config['min_lr'], threshold=model_config['threshold'], verbose=True)\n",
    "\n",
    "# early_stop = EarlyStopping(patient=5, min_delta=0.001)"
   ]
  },
  {
   "cell_type": "code",
   "execution_count": 16,
   "id": "70f53461",
   "metadata": {},
   "outputs": [],
   "source": [
    "from sklearn.model_selection import KFold\n",
    "\n",
    "split = 5\n",
    "k_fold = KFold(n_splits = 5, shuffle = True)\n",
    "# history_fold = {\n",
    "#     avg\n",
    "# }"
   ]
  },
  {
   "cell_type": "code",
   "execution_count": 17,
   "id": "a6a8ac6b",
   "metadata": {},
   "outputs": [],
   "source": [
    "def train_nn(load_weight_pth = None, save_weight_pth = None, num_epochs = 200 , load_weight = False):\n",
    "    load_weight_path  = './weights/triplet_mobilenetwork_100_epochs_.pth' if (load_weight_pth == None) else load_weight_pth\n",
    "    save_weight_path = './weights/triplet_mobilenetwork_200_epochs_.pth' if (load_weight_pth == None) else save_weight_pth\n",
    "\n",
    "    # throw model to compute in the device\n",
    "    triplet_model.to(device=device)\n",
    "    total_train_loss = list()\n",
    "    total_val_loss = list()\n",
    "\n",
    "    total_train_acc = list()\n",
    "    total_val_acc = list()\n",
    "\n",
    "    best_val_loss = 0\n",
    "    best_train_loss = 0\n",
    "    previous_lr = 0\n",
    "\n",
    "    # load weight\n",
    "    if bool(load_weight_path) & load_weight:\n",
    "        triplet_model.load_state_dict(torch.load(load_weight_path))\n",
    "        print('Congratulations, Weight has been loaded!')\n",
    "\n",
    "    # for fold, (train_ids, valid_ids) in enumerate(k_fold.splits(train_triplet_dataset)):\n",
    "    #     print(f'Fold: {fold}')\n",
    "    #     train_subsampler = SubsetRandomSampler(train_ids)\n",
    "    #     val_subsampler = SubsetRandomSampler(valid_ids)\n",
    "    #\n",
    "    #     train_triplet_dataloader = DataLoader(train_triplet_dataset, batch_size=train_batch_size, shuffle=True, pin_memory=True)\n",
    "    # iterate though each epoch\n",
    "    for epoch in tqdm(range(num_epochs)):\n",
    "        print(f'Epoch:{epoch+1}/{num_epochs}')\n",
    "        # epoch_train_loss = list()\n",
    "        epoch_train_acc = np.array([])\n",
    "        # epoch_val_loss = list()\n",
    "        epoch_val_acc = np.array([])\n",
    "\n",
    "        train_loss = 0\n",
    "        val_loss = 0\n",
    "\n",
    "        # switch to train mode\n",
    "        triplet_model.train()\n",
    "        with torch.set_grad_enabled(True):\n",
    "            # loop though each item in dataloader\n",
    "            for anchor_img, pos_img, neg_img in tqdm(train_triplet_dataloader):\n",
    "\n",
    "                threshold_list = np.full(anchor_img.shape[0], model_config['margin'])\n",
    "                is_same = np.full(anchor_img.shape[0], 1)\n",
    "\n",
    "                # throw img to compute in the device\n",
    "                anchor_img = anchor_img.to(device)\n",
    "                pos_img = pos_img.to(device)\n",
    "                neg_img = neg_img.to(device)\n",
    "                # clear gradient to prevent gradient vanish\n",
    "                optimizer.zero_grad()\n",
    "                # train model\n",
    "                output1, output2, output3 = triplet_model(anchor_img, pos_img, neg_img)\n",
    "\n",
    "                # cal distance positive\n",
    "                distance_positive = (output1 - output2).pow(2).sum(1)\n",
    "                # compute loss from criterion\n",
    "                loss = criterion(output1, output2, output3)\n",
    "                # backward propagate\n",
    "                loss.backward()\n",
    "                # update parameters\n",
    "                optimizer.step()\n",
    "                # append train loss to epoch_train_loss\n",
    "                train_loss += loss.item() * anchor_img.size(0)\n",
    "\n",
    "                epoch_train_acc = np.append(epoch_train_acc,[calculate_accuracy(threshold_list,distance_positive.cpu().data.numpy(),is_same)])\n",
    "\n",
    "        # calculate loss\n",
    "        current_train_loss = train_loss / len(train_triplet_dataloader.sampler)\n",
    "        total_train_loss.append(current_train_loss)\n",
    "\n",
    "        # switch mode to eval\n",
    "        triplet_model.eval()\n",
    "        with torch.no_grad():\n",
    "            for anchor_img, pos_img, neg_img in val_triplet_dataloader:\n",
    "\n",
    "                threshold_list = np.full(anchor_img.shape[0], model_config['margin'])\n",
    "                is_same = np.full(anchor_img.shape[0], 1)\n",
    "\n",
    "                # throw img to compute in the device\n",
    "                anchor_img = anchor_img.to(device)\n",
    "                pos_img = pos_img.to(device)\n",
    "                neg_img = neg_img.to(device)\n",
    "                # clear gradient to prevent gradient vanish\n",
    "                optimizer.zero_grad()\n",
    "                # compute the out in eval mode\n",
    "                output1, output2, output3 = triplet_model(anchor_img, pos_img, neg_img)\n",
    "                # cal distance positive\n",
    "                distance_positive = (output1 - output2).pow(2).sum(1)\n",
    "                # compute loss in eval mode\n",
    "                loss = criterion(output1, output2, output3)\n",
    "                # calculate loss for each feature\n",
    "                val_loss += loss.item() * anchor_img.size(0)\n",
    "\n",
    "                # epoch_val_acc.append(calculate_accuracy(threshold_list,distance_positive.cpu().data.numpy(),is_same)[0])\n",
    "                epoch_val_acc = np.append(epoch_val_acc,[calculate_accuracy(threshold_list,distance_positive.cpu().data.numpy(),is_same)])\n",
    "\n",
    "        # calculate loss for each batch\n",
    "        current_val_loss = val_loss / len(val_triplet_dataloader.sampler)\n",
    "        total_val_loss.append(current_val_loss)\n",
    "\n",
    "        total_train_acc.append(epoch_train_acc.mean())\n",
    "        total_val_acc.append(epoch_val_acc.mean())\n",
    "    # get learning rate from model\n",
    "        optim_lr = optimizer.param_groups[0]['lr']\n",
    "\n",
    "        # append current validation loss to list\n",
    "        if (best_val_loss == 0) | (best_train_loss == 0):\n",
    "            best_val_loss = current_val_loss\n",
    "            best_train_loss = current_train_loss\n",
    "\n",
    "        # find the best val loss\n",
    "        if best_val_loss >= current_val_loss:\n",
    "            best_val_loss = current_val_loss\n",
    "\n",
    "        # find the best train loss\n",
    "        if best_train_loss >= current_train_loss:\n",
    "            best_train_loss = current_train_loss\n",
    "\n",
    "        print(f'train loss: {current_train_loss}')\n",
    "        print(f'val loss: {current_val_loss}')\n",
    "        print(f'Learning rate: {optim_lr:.8f}')\n",
    "        print(f'acc train: {epoch_train_acc.mean()}')\n",
    "        print(f'acc val: {epoch_val_acc.mean()}')\n",
    "        if (optim_lr < previous_lr) | (optim_lr > previous_lr):\n",
    "            print('LEARNING RATE HAS CHANGED!')\n",
    "        print('-------------------------------------------------------------')\n",
    "\n",
    "        # replace the previous lr with the current lr\n",
    "        previous_lr = optim_lr\n",
    "        scheduler.step(current_train_loss)\n",
    "\n",
    "    print('Best Validation loss',best_val_loss)\n",
    "    print('Best Train loss', best_train_loss)\n",
    "\n",
    "    # save model weights\n",
    "    torch.save(triplet_model.state_dict(), save_weight_path)\n",
    "    torch.cuda.empty_cache()\n",
    "    return total_train_loss, total_val_loss, total_train_acc, total_val_acc"
   ]
  },
  {
   "cell_type": "code",
   "execution_count": null,
   "id": "26b30ad6",
   "metadata": {},
   "outputs": [],
   "source": []
  },
  {
   "cell_type": "code",
   "execution_count": 18,
   "id": "69eb88ef",
   "metadata": {},
   "outputs": [
    {
     "data": {
      "application/vnd.jupyter.widget-view+json": {
       "model_id": "a1c0c5d972df4d0e8d8280bde8063aab",
       "version_major": 2,
       "version_minor": 0
      },
      "text/plain": [
       "  0%|          | 0/120 [00:00<?, ?it/s]"
      ]
     },
     "metadata": {},
     "output_type": "display_data"
    },
    {
     "name": "stdout",
     "output_type": "stream",
     "text": [
      "Epoch:1/120\n"
     ]
    },
    {
     "data": {
      "application/vnd.jupyter.widget-view+json": {
       "model_id": "28c70113745a4a7cad9fb7bc3341c34b",
       "version_major": 2,
       "version_minor": 0
      },
      "text/plain": [
       "  0%|          | 0/94 [00:00<?, ?it/s]"
      ]
     },
     "metadata": {},
     "output_type": "display_data"
    },
    {
     "name": "stdout",
     "output_type": "stream",
     "text": [
      "train loss: 0.7801557566324869\n",
      "val loss: 0.5722194215456645\n",
      "Learning rate: 0.00100000\n",
      "acc train: 0.42774822695035464\n",
      "acc val: 0.65625\n",
      "LEARNING RATE HAS CHANGED!\n",
      "-------------------------------------------------------------\n",
      "Epoch:2/120\n"
     ]
    },
    {
     "data": {
      "application/vnd.jupyter.widget-view+json": {
       "model_id": "d34905f09db647408890c3bf8afd29ad",
       "version_major": 2,
       "version_minor": 0
      },
      "text/plain": [
       "  0%|          | 0/94 [00:00<?, ?it/s]"
      ]
     },
     "metadata": {},
     "output_type": "display_data"
    },
    {
     "name": "stdout",
     "output_type": "stream",
     "text": [
      "train loss: 0.6131229261557262\n",
      "val loss: 0.5439039573669434\n",
      "Learning rate: 0.00100000\n",
      "acc train: 0.6346963652482269\n",
      "acc val: 0.7066394376899695\n",
      "-------------------------------------------------------------\n",
      "Epoch:3/120\n"
     ]
    },
    {
     "data": {
      "application/vnd.jupyter.widget-view+json": {
       "model_id": "573f5ef7ed714603a9c7d94343533ca7",
       "version_major": 2,
       "version_minor": 0
      },
      "text/plain": [
       "  0%|          | 0/94 [00:00<?, ?it/s]"
      ]
     },
     "metadata": {},
     "output_type": "display_data"
    },
    {
     "name": "stdout",
     "output_type": "stream",
     "text": [
      "train loss: 0.5333196069399516\n",
      "val loss: 0.526369498093923\n",
      "Learning rate: 0.00100000\n",
      "acc train: 0.6869459219858156\n",
      "acc val: 0.7301006838905776\n",
      "-------------------------------------------------------------\n",
      "Epoch:4/120\n"
     ]
    },
    {
     "data": {
      "application/vnd.jupyter.widget-view+json": {
       "model_id": "cf15db969f2f4b86a435dee3c6841d50",
       "version_major": 2,
       "version_minor": 0
      },
      "text/plain": [
       "  0%|          | 0/94 [00:00<?, ?it/s]"
      ]
     },
     "metadata": {},
     "output_type": "display_data"
    },
    {
     "name": "stdout",
     "output_type": "stream",
     "text": [
      "train loss: 0.5197906551361084\n",
      "val loss: 0.4718895117441813\n",
      "Learning rate: 0.00100000\n",
      "acc train: 0.7077238475177305\n",
      "acc val: 0.7616831306990882\n",
      "-------------------------------------------------------------\n",
      "Epoch:5/120\n"
     ]
    },
    {
     "data": {
      "application/vnd.jupyter.widget-view+json": {
       "model_id": "8472dab491454fce8053e2f65b0a101b",
       "version_major": 2,
       "version_minor": 0
      },
      "text/plain": [
       "  0%|          | 0/94 [00:00<?, ?it/s]"
      ]
     },
     "metadata": {},
     "output_type": "display_data"
    },
    {
     "name": "stdout",
     "output_type": "stream",
     "text": [
      "train loss: 0.47430268017450966\n",
      "val loss: 0.4468213476339976\n",
      "Learning rate: 0.00100000\n",
      "acc train: 0.7461768617021277\n",
      "acc val: 0.7604958206686929\n",
      "-------------------------------------------------------------\n",
      "Epoch:6/120\n"
     ]
    },
    {
     "data": {
      "application/vnd.jupyter.widget-view+json": {
       "model_id": "3d6ac6017ee54f65a17c751bb5690cae",
       "version_major": 2,
       "version_minor": 0
      },
      "text/plain": [
       "  0%|          | 0/94 [00:00<?, ?it/s]"
      ]
     },
     "metadata": {},
     "output_type": "display_data"
    },
    {
     "name": "stdout",
     "output_type": "stream",
     "text": [
      "train loss: 0.4280830322901408\n",
      "val loss: 0.450054496606191\n",
      "Learning rate: 0.00100000\n",
      "acc train: 0.770279255319149\n",
      "acc val: 0.7809650455927052\n",
      "-------------------------------------------------------------\n",
      "Epoch:7/120\n"
     ]
    },
    {
     "data": {
      "application/vnd.jupyter.widget-view+json": {
       "model_id": "fb2f83d93145416b893233c73937bac9",
       "version_major": 2,
       "version_minor": 0
      },
      "text/plain": [
       "  0%|          | 0/94 [00:00<?, ?it/s]"
      ]
     },
     "metadata": {},
     "output_type": "display_data"
    },
    {
     "name": "stdout",
     "output_type": "stream",
     "text": [
      "train loss: 0.4136760705312093\n",
      "val loss: 0.4082140560944875\n",
      "Learning rate: 0.00100000\n",
      "acc train: 0.7750443262411348\n",
      "acc val: 0.8205262158054711\n",
      "-------------------------------------------------------------\n",
      "Epoch:8/120\n"
     ]
    },
    {
     "data": {
      "application/vnd.jupyter.widget-view+json": {
       "model_id": "f33c320058ce43fc8917dfff820d11ee",
       "version_major": 2,
       "version_minor": 0
      },
      "text/plain": [
       "  0%|          | 0/94 [00:00<?, ?it/s]"
      ]
     },
     "metadata": {},
     "output_type": "display_data"
    },
    {
     "name": "stdout",
     "output_type": "stream",
     "text": [
      "train loss: 0.4035920976003011\n",
      "val loss: 0.3732845861911774\n",
      "Learning rate: 0.00100000\n",
      "acc train: 0.7711103723404256\n",
      "acc val: 0.8189114741641337\n",
      "-------------------------------------------------------------\n",
      "Epoch:9/120\n"
     ]
    },
    {
     "data": {
      "application/vnd.jupyter.widget-view+json": {
       "model_id": "9bfb50a1de2545b7a358a410ee6fa5f1",
       "version_major": 2,
       "version_minor": 0
      },
      "text/plain": [
       "  0%|          | 0/94 [00:00<?, ?it/s]"
      ]
     },
     "metadata": {},
     "output_type": "display_data"
    },
    {
     "name": "stdout",
     "output_type": "stream",
     "text": [
      "train loss: 0.3923598749637604\n",
      "val loss: 0.37618178041776024\n",
      "Learning rate: 0.00100000\n",
      "acc train: 0.7889516843971631\n",
      "acc val: 0.8372435410334347\n",
      "-------------------------------------------------------------\n",
      "Epoch:10/120\n"
     ]
    },
    {
     "data": {
      "application/vnd.jupyter.widget-view+json": {
       "model_id": "03ff0b9e411c43edaf3522b455d32b28",
       "version_major": 2,
       "version_minor": 0
      },
      "text/plain": [
       "  0%|          | 0/94 [00:00<?, ?it/s]"
      ]
     },
     "metadata": {},
     "output_type": "display_data"
    },
    {
     "name": "stdout",
     "output_type": "stream",
     "text": [
      "train loss: 0.3610591322580973\n",
      "val loss: 0.35707572929064435\n",
      "Learning rate: 0.00100000\n",
      "acc train: 0.8211436170212766\n",
      "acc val: 0.823518237082067\n",
      "-------------------------------------------------------------\n",
      "Epoch:11/120\n"
     ]
    },
    {
     "data": {
      "application/vnd.jupyter.widget-view+json": {
       "model_id": "fe7d810fe6264f249a28fbbc1c0be954",
       "version_major": 2,
       "version_minor": 0
      },
      "text/plain": [
       "  0%|          | 0/94 [00:00<?, ?it/s]"
      ]
     },
     "metadata": {},
     "output_type": "display_data"
    },
    {
     "name": "stdout",
     "output_type": "stream",
     "text": [
      "train loss: 0.36612494723002115\n",
      "val loss: 0.36302090613047283\n",
      "Learning rate: 0.00100000\n",
      "acc train: 0.8145500886524822\n",
      "acc val: 0.8251329787234043\n",
      "-------------------------------------------------------------\n",
      "Epoch:12/120\n"
     ]
    },
    {
     "data": {
      "application/vnd.jupyter.widget-view+json": {
       "model_id": "697fe4ccfe814395a7dd6ce4cc2a1d59",
       "version_major": 2,
       "version_minor": 0
      },
      "text/plain": [
       "  0%|          | 0/94 [00:00<?, ?it/s]"
      ]
     },
     "metadata": {},
     "output_type": "display_data"
    },
    {
     "name": "stdout",
     "output_type": "stream",
     "text": [
      "train loss: 0.35498908440272015\n",
      "val loss: 0.35379976717631023\n",
      "Learning rate: 0.00100000\n",
      "acc train: 0.8186502659574468\n",
      "acc val: 0.8247530395136777\n",
      "-------------------------------------------------------------\n",
      "Epoch:13/120\n"
     ]
    },
    {
     "data": {
      "application/vnd.jupyter.widget-view+json": {
       "model_id": "2e7aece6bab74da3a473682f31772d87",
       "version_major": 2,
       "version_minor": 0
      },
      "text/plain": [
       "  0%|          | 0/94 [00:00<?, ?it/s]"
      ]
     },
     "metadata": {},
     "output_type": "display_data"
    },
    {
     "name": "stdout",
     "output_type": "stream",
     "text": [
      "train loss: 0.3432457230091095\n",
      "val loss: 0.3434874864419301\n",
      "Learning rate: 0.00100000\n",
      "acc train: 0.8265181737588652\n",
      "acc val: 0.8375284954407295\n",
      "-------------------------------------------------------------\n",
      "Epoch:14/120\n"
     ]
    },
    {
     "data": {
      "application/vnd.jupyter.widget-view+json": {
       "model_id": "a7b0234f78b74203863fe100f2c8c315",
       "version_major": 2,
       "version_minor": 0
      },
      "text/plain": [
       "  0%|          | 0/94 [00:00<?, ?it/s]"
      ]
     },
     "metadata": {},
     "output_type": "display_data"
    },
    {
     "name": "stdout",
     "output_type": "stream",
     "text": [
      "train loss: 0.34718528620402017\n",
      "val loss: 0.320593691666921\n",
      "Learning rate: 0.00100000\n",
      "acc train: 0.8254654255319149\n",
      "acc val: 0.859375\n",
      "-------------------------------------------------------------\n",
      "Epoch:15/120\n"
     ]
    },
    {
     "data": {
      "application/vnd.jupyter.widget-view+json": {
       "model_id": "39607bc5d56c423eafffc11110ca5d9c",
       "version_major": 2,
       "version_minor": 0
      },
      "text/plain": [
       "  0%|          | 0/94 [00:00<?, ?it/s]"
      ]
     },
     "metadata": {},
     "output_type": "display_data"
    },
    {
     "name": "stdout",
     "output_type": "stream",
     "text": [
      "train loss: 0.3303584086894989\n",
      "val loss: 0.3423962609767914\n",
      "Learning rate: 0.00100000\n",
      "acc train: 0.836824024822695\n",
      "acc val: 0.8560980243161095\n",
      "-------------------------------------------------------------\n",
      "Epoch:16/120\n"
     ]
    },
    {
     "data": {
      "application/vnd.jupyter.widget-view+json": {
       "model_id": "104cc95019c3448ba190b4a90e4a97f0",
       "version_major": 2,
       "version_minor": 0
      },
      "text/plain": [
       "  0%|          | 0/94 [00:00<?, ?it/s]"
      ]
     },
     "metadata": {},
     "output_type": "display_data"
    },
    {
     "name": "stdout",
     "output_type": "stream",
     "text": [
      "train loss: 0.3172310891946157\n",
      "val loss: 0.34814342482884725\n",
      "Learning rate: 0.00100000\n",
      "acc train: 0.8353834219858156\n",
      "acc val: 0.8301196808510638\n",
      "-------------------------------------------------------------\n",
      "Epoch:17/120\n"
     ]
    },
    {
     "data": {
      "application/vnd.jupyter.widget-view+json": {
       "model_id": "83a9a9633f994e5c846467e2854b9926",
       "version_major": 2,
       "version_minor": 0
      },
      "text/plain": [
       "  0%|          | 0/94 [00:00<?, ?it/s]"
      ]
     },
     "metadata": {},
     "output_type": "display_data"
    },
    {
     "name": "stdout",
     "output_type": "stream",
     "text": [
      "train loss: 0.32293004242579143\n",
      "val loss: 0.30840102744102477\n",
      "Learning rate: 0.00100000\n",
      "acc train: 0.8410904255319149\n",
      "acc val: 0.8598024316109423\n",
      "-------------------------------------------------------------\n",
      "Epoch:18/120\n"
     ]
    },
    {
     "data": {
      "application/vnd.jupyter.widget-view+json": {
       "model_id": "40eb91290308429ebf844c6a7c8f5ef9",
       "version_major": 2,
       "version_minor": 0
      },
      "text/plain": [
       "  0%|          | 0/94 [00:00<?, ?it/s]"
      ]
     },
     "metadata": {},
     "output_type": "display_data"
    },
    {
     "name": "stdout",
     "output_type": "stream",
     "text": [
      "train loss: 0.3130691033999125\n",
      "val loss: 0.3184336893558502\n",
      "Learning rate: 0.00100000\n",
      "acc train: 0.8489583333333333\n",
      "acc val: 0.8543408054711246\n",
      "-------------------------------------------------------------\n",
      "Epoch:19/120\n"
     ]
    },
    {
     "data": {
      "application/vnd.jupyter.widget-view+json": {
       "model_id": "2a4a8744a6d94d46aee89297c2560917",
       "version_major": 2,
       "version_minor": 0
      },
      "text/plain": [
       "  0%|          | 0/94 [00:00<?, ?it/s]"
      ]
     },
     "metadata": {},
     "output_type": "display_data"
    },
    {
     "name": "stdout",
     "output_type": "stream",
     "text": [
      "train loss: 0.3122010091940562\n",
      "val loss: 0.31607683261235553\n",
      "Learning rate: 0.00100000\n",
      "acc train: 0.8519503546099291\n",
      "acc val: 0.8491166413373861\n",
      "-------------------------------------------------------------\n",
      "Epoch:20/120\n"
     ]
    },
    {
     "data": {
      "application/vnd.jupyter.widget-view+json": {
       "model_id": "0279c6c4049f4b8c888e4e277ca664e0",
       "version_major": 2,
       "version_minor": 0
      },
      "text/plain": [
       "  0%|          | 0/94 [00:00<?, ?it/s]"
      ]
     },
     "metadata": {},
     "output_type": "display_data"
    },
    {
     "name": "stdout",
     "output_type": "stream",
     "text": [
      "train loss: 0.3026063058376312\n",
      "val loss: 0.3045142794450124\n",
      "Learning rate: 0.00100000\n",
      "acc train: 0.8541666666666667\n",
      "acc val: 0.8592800151975684\n",
      "-------------------------------------------------------------\n",
      "Epoch:21/120\n"
     ]
    },
    {
     "data": {
      "application/vnd.jupyter.widget-view+json": {
       "model_id": "4bb47e617e8b4829b6d9840dea054343",
       "version_major": 2,
       "version_minor": 0
      },
      "text/plain": [
       "  0%|          | 0/94 [00:00<?, ?it/s]"
      ]
     },
     "metadata": {},
     "output_type": "display_data"
    },
    {
     "name": "stdout",
     "output_type": "stream",
     "text": [
      "train loss: 0.29773126606146494\n",
      "val loss: 0.32324108068148294\n",
      "Learning rate: 0.00100000\n",
      "acc train: 0.8537234042553191\n",
      "acc val: 0.8580452127659575\n",
      "-------------------------------------------------------------\n",
      "Epoch:22/120\n"
     ]
    },
    {
     "data": {
      "application/vnd.jupyter.widget-view+json": {
       "model_id": "727f116222a94251accf6b58005fc552",
       "version_major": 2,
       "version_minor": 0
      },
      "text/plain": [
       "  0%|          | 0/94 [00:00<?, ?it/s]"
      ]
     },
     "metadata": {},
     "output_type": "display_data"
    },
    {
     "name": "stdout",
     "output_type": "stream",
     "text": [
      "train loss: 0.2955508728027344\n",
      "val loss: 0.3105145506064097\n",
      "Learning rate: 0.00100000\n",
      "acc train: 0.8620899822695035\n",
      "acc val: 0.8410904255319149\n",
      "-------------------------------------------------------------\n",
      "Epoch:23/120\n"
     ]
    },
    {
     "data": {
      "application/vnd.jupyter.widget-view+json": {
       "model_id": "0bce9a4a75ae447a885c3ff917f5c52e",
       "version_major": 2,
       "version_minor": 0
      },
      "text/plain": [
       "  0%|          | 0/94 [00:00<?, ?it/s]"
      ]
     },
     "metadata": {},
     "output_type": "display_data"
    },
    {
     "name": "stdout",
     "output_type": "stream",
     "text": [
      "train loss: 0.29151117340723676\n",
      "val loss: 0.30178650037447613\n",
      "Learning rate: 0.00100000\n",
      "acc train: 0.8601507092198583\n",
      "acc val: 0.8540558510638298\n",
      "-------------------------------------------------------------\n",
      "Epoch:24/120\n"
     ]
    },
    {
     "data": {
      "application/vnd.jupyter.widget-view+json": {
       "model_id": "aa60d2d213374d90a7e60ff428cccf1e",
       "version_major": 2,
       "version_minor": 0
      },
      "text/plain": [
       "  0%|          | 0/94 [00:00<?, ?it/s]"
      ]
     },
     "metadata": {},
     "output_type": "display_data"
    },
    {
     "name": "stdout",
     "output_type": "stream",
     "text": [
      "train loss: 0.2851400605837504\n",
      "val loss: 0.3076414773464203\n",
      "Learning rate: 0.00100000\n",
      "acc train: 0.8674645390070922\n",
      "acc val: 0.854768237082067\n",
      "-------------------------------------------------------------\n",
      "Epoch:25/120\n"
     ]
    },
    {
     "data": {
      "application/vnd.jupyter.widget-view+json": {
       "model_id": "b210b62075bd477cb421263c917d86d9",
       "version_major": 2,
       "version_minor": 0
      },
      "text/plain": [
       "  0%|          | 0/94 [00:00<?, ?it/s]"
      ]
     },
     "metadata": {},
     "output_type": "display_data"
    },
    {
     "name": "stdout",
     "output_type": "stream",
     "text": [
      "train loss: 0.28840517059961956\n",
      "val loss: 0.2985789713859558\n",
      "Learning rate: 0.00100000\n",
      "acc train: 0.8650265957446809\n",
      "acc val: 0.853295972644377\n",
      "-------------------------------------------------------------\n",
      "Epoch:26/120\n"
     ]
    },
    {
     "data": {
      "application/vnd.jupyter.widget-view+json": {
       "model_id": "4ff24afdf3f046ca8d06837766320997",
       "version_major": 2,
       "version_minor": 0
      },
      "text/plain": [
       "  0%|          | 0/94 [00:00<?, ?it/s]"
      ]
     },
     "metadata": {},
     "output_type": "display_data"
    },
    {
     "name": "stdout",
     "output_type": "stream",
     "text": [
      "train loss: 0.27479042037328083\n",
      "val loss: 0.31264560349782305\n",
      "Learning rate: 0.00100000\n",
      "acc train: 0.8764406028368795\n",
      "acc val: 0.8539608662613982\n",
      "-------------------------------------------------------------\n",
      "Epoch:27/120\n"
     ]
    },
    {
     "data": {
      "application/vnd.jupyter.widget-view+json": {
       "model_id": "fc34c4039f044c4fbf65a46249a4d6a6",
       "version_major": 2,
       "version_minor": 0
      },
      "text/plain": [
       "  0%|          | 0/94 [00:00<?, ?it/s]"
      ]
     },
     "metadata": {},
     "output_type": "display_data"
    },
    {
     "name": "stdout",
     "output_type": "stream",
     "text": [
      "train loss: 0.2767826127211253\n",
      "val loss: 0.28728236214319863\n",
      "Learning rate: 0.00100000\n",
      "acc train: 0.8747783687943262\n",
      "acc val: 0.8612746960486323\n",
      "-------------------------------------------------------------\n",
      "Epoch:28/120\n"
     ]
    },
    {
     "data": {
      "application/vnd.jupyter.widget-view+json": {
       "model_id": "d042bbb282a1441fa768e15c1fe4cbcc",
       "version_major": 2,
       "version_minor": 0
      },
      "text/plain": [
       "  0%|          | 0/94 [00:00<?, ?it/s]"
      ]
     },
     "metadata": {},
     "output_type": "display_data"
    },
    {
     "name": "stdout",
     "output_type": "stream",
     "text": [
      "train loss: 0.26632141455014546\n",
      "val loss: 0.3073602488040924\n",
      "Learning rate: 0.00100000\n",
      "acc train: 0.8802637411347518\n",
      "acc val: 0.8394281914893617\n",
      "-------------------------------------------------------------\n",
      "Epoch:29/120\n"
     ]
    },
    {
     "data": {
      "application/vnd.jupyter.widget-view+json": {
       "model_id": "62b1efd7959b4e00add72b35b3e0de5c",
       "version_major": 2,
       "version_minor": 0
      },
      "text/plain": [
       "  0%|          | 0/94 [00:00<?, ?it/s]"
      ]
     },
     "metadata": {},
     "output_type": "display_data"
    },
    {
     "name": "stdout",
     "output_type": "stream",
     "text": [
      "train loss: 0.2724195481141408\n",
      "val loss: 0.291362619638443\n",
      "Learning rate: 0.00100000\n",
      "acc train: 0.8762743794326242\n",
      "acc val: 0.8644091945288754\n",
      "-------------------------------------------------------------\n",
      "Epoch:30/120\n"
     ]
    },
    {
     "data": {
      "application/vnd.jupyter.widget-view+json": {
       "model_id": "88cc2acdf9bf4bfa9326b160353607cf",
       "version_major": 2,
       "version_minor": 0
      },
      "text/plain": [
       "  0%|          | 0/94 [00:00<?, ?it/s]"
      ]
     },
     "metadata": {},
     "output_type": "display_data"
    },
    {
     "name": "stdout",
     "output_type": "stream",
     "text": [
      "train loss: 0.2593663984934489\n",
      "val loss: 0.28360525333881376\n",
      "Learning rate: 0.00100000\n",
      "acc train: 0.8837544326241136\n",
      "acc val: 0.8760448328267478\n",
      "-------------------------------------------------------------\n",
      "Epoch:31/120\n"
     ]
    },
    {
     "data": {
      "application/vnd.jupyter.widget-view+json": {
       "model_id": "a6d46f8ded6545afad371a0cdf79cbca",
       "version_major": 2,
       "version_minor": 0
      },
      "text/plain": [
       "  0%|          | 0/94 [00:00<?, ?it/s]"
      ]
     },
     "metadata": {},
     "output_type": "display_data"
    },
    {
     "name": "stdout",
     "output_type": "stream",
     "text": [
      "train loss: 0.255851322889328\n",
      "val loss: 0.2715095990896225\n",
      "Learning rate: 0.00100000\n",
      "acc train: 0.883699024822695\n",
      "acc val: 0.8707731762917933\n",
      "-------------------------------------------------------------\n",
      "Epoch:32/120\n"
     ]
    },
    {
     "data": {
      "application/vnd.jupyter.widget-view+json": {
       "model_id": "030306b30feb45539abaaa3277870577",
       "version_major": 2,
       "version_minor": 0
      },
      "text/plain": [
       "  0%|          | 0/94 [00:00<?, ?it/s]"
      ]
     },
     "metadata": {},
     "output_type": "display_data"
    },
    {
     "name": "stdout",
     "output_type": "stream",
     "text": [
      "train loss: 0.2439209189414978\n",
      "val loss: 0.2691017309029897\n",
      "Learning rate: 0.00100000\n",
      "acc train: 0.8909574468085106\n",
      "acc val: 0.8783719604863223\n",
      "-------------------------------------------------------------\n",
      "Epoch:33/120\n"
     ]
    },
    {
     "data": {
      "application/vnd.jupyter.widget-view+json": {
       "model_id": "079c940c189f46d3bd9454dc2104f355",
       "version_major": 2,
       "version_minor": 0
      },
      "text/plain": [
       "  0%|          | 0/94 [00:00<?, ?it/s]"
      ]
     },
     "metadata": {},
     "output_type": "display_data"
    },
    {
     "name": "stdout",
     "output_type": "stream",
     "text": [
      "train loss: 0.24962741748491923\n",
      "val loss: 0.27018874017397565\n",
      "Learning rate: 0.00100000\n",
      "acc train: 0.8916777482269503\n",
      "acc val: 0.8797967325227964\n",
      "-------------------------------------------------------------\n",
      "Epoch:34/120\n"
     ]
    },
    {
     "data": {
      "application/vnd.jupyter.widget-view+json": {
       "model_id": "00602a176ca04807a1dd5b4aeb7ee519",
       "version_major": 2,
       "version_minor": 0
      },
      "text/plain": [
       "  0%|          | 0/94 [00:00<?, ?it/s]"
      ]
     },
     "metadata": {},
     "output_type": "display_data"
    },
    {
     "name": "stdout",
     "output_type": "stream",
     "text": [
      "train loss: 0.25260178462664284\n",
      "val loss: 0.291359926700592\n",
      "Learning rate: 0.00100000\n",
      "acc train: 0.8846409574468085\n",
      "acc val: 0.8528685410334347\n",
      "-------------------------------------------------------------\n",
      "Epoch:35/120\n"
     ]
    },
    {
     "data": {
      "application/vnd.jupyter.widget-view+json": {
       "model_id": "a0a8bfd9dda84adfbd7c4f7348f8a325",
       "version_major": 2,
       "version_minor": 0
      },
      "text/plain": [
       "  0%|          | 0/94 [00:00<?, ?it/s]"
      ]
     },
     "metadata": {},
     "output_type": "display_data"
    },
    {
     "name": "stdout",
     "output_type": "stream",
     "text": [
      "train loss: 0.24892479451497396\n",
      "val loss: 0.28545624073346454\n",
      "Learning rate: 0.00100000\n",
      "acc train: 0.8897938829787234\n",
      "acc val: 0.8837386018237082\n",
      "-------------------------------------------------------------\n",
      "Epoch:36/120\n"
     ]
    },
    {
     "data": {
      "application/vnd.jupyter.widget-view+json": {
       "model_id": "cd1cd9edc5644a6d8797e33885963ce7",
       "version_major": 2,
       "version_minor": 0
      },
      "text/plain": [
       "  0%|          | 0/94 [00:00<?, ?it/s]"
      ]
     },
     "metadata": {},
     "output_type": "display_data"
    },
    {
     "name": "stdout",
     "output_type": "stream",
     "text": [
      "train loss: 0.2401934560139974\n",
      "val loss: 0.28557446265220643\n",
      "Learning rate: 0.00100000\n",
      "acc train: 0.8931737588652482\n",
      "acc val: 0.8692534194528876\n",
      "-------------------------------------------------------------\n",
      "Epoch:37/120\n"
     ]
    },
    {
     "data": {
      "application/vnd.jupyter.widget-view+json": {
       "model_id": "b29010491c374c98b39cda7371cbca82",
       "version_major": 2,
       "version_minor": 0
      },
      "text/plain": [
       "  0%|          | 0/94 [00:00<?, ?it/s]"
      ]
     },
     "metadata": {},
     "output_type": "display_data"
    },
    {
     "name": "stdout",
     "output_type": "stream",
     "text": [
      "train loss: 0.2430729694366455\n",
      "val loss: 0.280309988339742\n",
      "Learning rate: 0.00100000\n",
      "acc train: 0.8953900709219859\n",
      "acc val: 0.8789893617021277\n",
      "-------------------------------------------------------------\n",
      "Epoch:38/120\n"
     ]
    },
    {
     "data": {
      "application/vnd.jupyter.widget-view+json": {
       "model_id": "53bf372f26284cd2aa5533c0dc97d116",
       "version_major": 2,
       "version_minor": 0
      },
      "text/plain": [
       "  0%|          | 0/94 [00:00<?, ?it/s]"
      ]
     },
     "metadata": {},
     "output_type": "display_data"
    },
    {
     "name": "stdout",
     "output_type": "stream",
     "text": [
      "train loss: 0.2449277412891388\n",
      "val loss: 0.27125961701075235\n",
      "Learning rate: 0.00100000\n",
      "acc train: 0.8962211879432624\n",
      "acc val: 0.8619395896656535\n",
      "-------------------------------------------------------------\n",
      "Epoch:39/120\n"
     ]
    },
    {
     "data": {
      "application/vnd.jupyter.widget-view+json": {
       "model_id": "e02b250dae8a40b78be5ae823b48dcc2",
       "version_major": 2,
       "version_minor": 0
      },
      "text/plain": [
       "  0%|          | 0/94 [00:00<?, ?it/s]"
      ]
     },
     "metadata": {},
     "output_type": "display_data"
    },
    {
     "name": "stdout",
     "output_type": "stream",
     "text": [
      "train loss: 0.24820294125874837\n",
      "val loss: 0.2894558397134145\n",
      "Learning rate: 0.00100000\n",
      "acc train: 0.8850288120567376\n",
      "acc val: 0.8635543313069909\n",
      "-------------------------------------------------------------\n",
      "Epoch:40/120\n"
     ]
    },
    {
     "data": {
      "application/vnd.jupyter.widget-view+json": {
       "model_id": "c375ed885bf840a38afe9ae172864f98",
       "version_major": 2,
       "version_minor": 0
      },
      "text/plain": [
       "  0%|          | 0/94 [00:00<?, ?it/s]"
      ]
     },
     "metadata": {},
     "output_type": "display_data"
    },
    {
     "name": "stdout",
     "output_type": "stream",
     "text": [
      "train loss: 0.2544147544701894\n",
      "val loss: 0.2627808581988017\n",
      "Learning rate: 0.00100000\n",
      "acc train: 0.8925642730496455\n",
      "acc val: 0.8648366261398177\n",
      "-------------------------------------------------------------\n",
      "Epoch:41/120\n"
     ]
    },
    {
     "data": {
      "application/vnd.jupyter.widget-view+json": {
       "model_id": "f36bcb77e44b438eb078e8f5ea94100f",
       "version_major": 2,
       "version_minor": 0
      },
      "text/plain": [
       "  0%|          | 0/94 [00:00<?, ?it/s]"
      ]
     },
     "metadata": {},
     "output_type": "display_data"
    },
    {
     "name": "stdout",
     "output_type": "stream",
     "text": [
      "train loss: 0.23593605558077493\n",
      "val loss: 0.25868074933687846\n",
      "Learning rate: 0.00100000\n",
      "acc train: 0.9065824468085106\n",
      "acc val: 0.8883453647416414\n",
      "-------------------------------------------------------------\n",
      "Epoch:42/120\n"
     ]
    },
    {
     "data": {
      "application/vnd.jupyter.widget-view+json": {
       "model_id": "8cd18acd531248eaac7a70443a8290fc",
       "version_major": 2,
       "version_minor": 0
      },
      "text/plain": [
       "  0%|          | 0/94 [00:00<?, ?it/s]"
      ]
     },
     "metadata": {},
     "output_type": "display_data"
    },
    {
     "name": "stdout",
     "output_type": "stream",
     "text": [
      "train loss: 0.22932169950008394\n",
      "val loss: 0.2588848242759705\n",
      "Learning rate: 0.00100000\n",
      "acc train: 0.8986591312056738\n",
      "acc val: 0.8927621580547113\n",
      "-------------------------------------------------------------\n",
      "Epoch:43/120\n"
     ]
    },
    {
     "data": {
      "application/vnd.jupyter.widget-view+json": {
       "model_id": "773fd820b496431c88b43818cb195277",
       "version_major": 2,
       "version_minor": 0
      },
      "text/plain": [
       "  0%|          | 0/94 [00:00<?, ?it/s]"
      ]
     },
     "metadata": {},
     "output_type": "display_data"
    },
    {
     "name": "stdout",
     "output_type": "stream",
     "text": [
      "train loss: 0.231653586268425\n",
      "val loss: 0.26069284784793856\n",
      "Learning rate: 0.00100000\n",
      "acc train: 0.9073581560283689\n",
      "acc val: 0.8718180091185411\n",
      "-------------------------------------------------------------\n",
      "Epoch:44/120\n"
     ]
    },
    {
     "data": {
      "application/vnd.jupyter.widget-view+json": {
       "model_id": "e81a7a1b295e48a5ae5606a237fef922",
       "version_major": 2,
       "version_minor": 0
      },
      "text/plain": [
       "  0%|          | 0/94 [00:00<?, ?it/s]"
      ]
     },
     "metadata": {},
     "output_type": "display_data"
    },
    {
     "name": "stdout",
     "output_type": "stream",
     "text": [
      "train loss: 0.22808004983266195\n",
      "val loss: 0.2688785813649495\n",
      "Learning rate: 0.00100000\n",
      "acc train: 0.9064162234042553\n",
      "acc val: 0.8787044072948329\n",
      "-------------------------------------------------------------\n",
      "Epoch:45/120\n"
     ]
    },
    {
     "data": {
      "application/vnd.jupyter.widget-view+json": {
       "model_id": "5679e6c79393454da923ea2f7fe5d5f5",
       "version_major": 2,
       "version_minor": 0
      },
      "text/plain": [
       "  0%|          | 0/94 [00:00<?, ?it/s]"
      ]
     },
     "metadata": {},
     "output_type": "display_data"
    },
    {
     "name": "stdout",
     "output_type": "stream",
     "text": [
      "train loss: 0.22462950547536215\n",
      "val loss: 0.25960835750897726\n",
      "Learning rate: 0.00100000\n",
      "acc train: 0.9130651595744681\n",
      "acc val: 0.8856857902735563\n",
      "-------------------------------------------------------------\n",
      "Epoch:46/120\n"
     ]
    },
    {
     "data": {
      "application/vnd.jupyter.widget-view+json": {
       "model_id": "1c6b47afea2447aba94a42142decd3e3",
       "version_major": 2,
       "version_minor": 0
      },
      "text/plain": [
       "  0%|          | 0/94 [00:00<?, ?it/s]"
      ]
     },
     "metadata": {},
     "output_type": "display_data"
    },
    {
     "name": "stdout",
     "output_type": "stream",
     "text": [
      "train loss: 0.23121954902013142\n",
      "val loss: 0.2495121881167094\n",
      "Learning rate: 0.00100000\n",
      "acc train: 0.907635195035461\n",
      "acc val: 0.8882978723404256\n",
      "-------------------------------------------------------------\n",
      "Epoch:47/120\n"
     ]
    },
    {
     "data": {
      "application/vnd.jupyter.widget-view+json": {
       "model_id": "338e29c02e5648679f0a03d1d185a566",
       "version_major": 2,
       "version_minor": 0
      },
      "text/plain": [
       "  0%|          | 0/94 [00:00<?, ?it/s]"
      ]
     },
     "metadata": {},
     "output_type": "display_data"
    },
    {
     "name": "stdout",
     "output_type": "stream",
     "text": [
      "train loss: 0.2224255588054657\n",
      "val loss: 0.2560146822532018\n",
      "Learning rate: 0.00100000\n",
      "acc train: 0.9141179078014184\n",
      "acc val: 0.8781819908814589\n",
      "-------------------------------------------------------------\n",
      "Epoch:48/120\n"
     ]
    },
    {
     "data": {
      "application/vnd.jupyter.widget-view+json": {
       "model_id": "0c04444418324147a79c465bd16ded05",
       "version_major": 2,
       "version_minor": 0
      },
      "text/plain": [
       "  0%|          | 0/94 [00:00<?, ?it/s]"
      ]
     },
     "metadata": {},
     "output_type": "display_data"
    },
    {
     "name": "stdout",
     "output_type": "stream",
     "text": [
      "train loss: 0.21256602875391642\n",
      "val loss: 0.2488074045976003\n",
      "Learning rate: 0.00100000\n",
      "acc train: 0.9185505319148937\n",
      "acc val: 0.879606762917933\n",
      "-------------------------------------------------------------\n",
      "Epoch:49/120\n"
     ]
    },
    {
     "data": {
      "application/vnd.jupyter.widget-view+json": {
       "model_id": "c62c74b632c042259e0ff833e1516172",
       "version_major": 2,
       "version_minor": 0
      },
      "text/plain": [
       "  0%|          | 0/94 [00:00<?, ?it/s]"
      ]
     },
     "metadata": {},
     "output_type": "display_data"
    },
    {
     "name": "stdout",
     "output_type": "stream",
     "text": [
      "train loss: 0.21297340734799702\n",
      "val loss: 0.2507017068862915\n",
      "Learning rate: 0.00100000\n",
      "acc train: 0.9167220744680851\n",
      "acc val: 0.8841185410334347\n",
      "-------------------------------------------------------------\n",
      "Epoch:50/120\n"
     ]
    },
    {
     "data": {
      "application/vnd.jupyter.widget-view+json": {
       "model_id": "417d6edb35764e6e9638b116631cc350",
       "version_major": 2,
       "version_minor": 0
      },
      "text/plain": [
       "  0%|          | 0/94 [00:00<?, ?it/s]"
      ]
     },
     "metadata": {},
     "output_type": "display_data"
    },
    {
     "name": "stdout",
     "output_type": "stream",
     "text": [
      "train loss: 0.2072847591638565\n",
      "val loss: 0.24568081831932068\n",
      "Learning rate: 0.00100000\n",
      "acc train: 0.9206006205673758\n",
      "acc val: 0.8856382978723404\n",
      "-------------------------------------------------------------\n",
      "Epoch:51/120\n"
     ]
    },
    {
     "data": {
      "application/vnd.jupyter.widget-view+json": {
       "model_id": "38fd05aed9454f71a1ce69b85dca1650",
       "version_major": 2,
       "version_minor": 0
      },
      "text/plain": [
       "  0%|          | 0/94 [00:00<?, ?it/s]"
      ]
     },
     "metadata": {},
     "output_type": "display_data"
    },
    {
     "name": "stdout",
     "output_type": "stream",
     "text": [
      "train loss: 0.21244868040084838\n",
      "val loss: 0.23553311125437418\n",
      "Learning rate: 0.00100000\n",
      "acc train: 0.9163896276595744\n",
      "acc val: 0.8882028875379939\n",
      "-------------------------------------------------------------\n",
      "Epoch:52/120\n"
     ]
    },
    {
     "data": {
      "application/vnd.jupyter.widget-view+json": {
       "model_id": "8bbbbf71f37740738b6744f7256cc404",
       "version_major": 2,
       "version_minor": 0
      },
      "text/plain": [
       "  0%|          | 0/94 [00:00<?, ?it/s]"
      ]
     },
     "metadata": {},
     "output_type": "display_data"
    },
    {
     "name": "stdout",
     "output_type": "stream",
     "text": [
      "train loss: 0.21467927559216818\n",
      "val loss: 0.2537734122276306\n",
      "Learning rate: 0.00100000\n",
      "acc train: 0.9182734929078014\n",
      "acc val: 0.8905775075987842\n",
      "-------------------------------------------------------------\n",
      "Epoch:53/120\n"
     ]
    },
    {
     "data": {
      "application/vnd.jupyter.widget-view+json": {
       "model_id": "b9d9d55517824203b40b659e113f429d",
       "version_major": 2,
       "version_minor": 0
      },
      "text/plain": [
       "  0%|          | 0/94 [00:00<?, ?it/s]"
      ]
     },
     "metadata": {},
     "output_type": "display_data"
    },
    {
     "name": "stdout",
     "output_type": "stream",
     "text": [
      "train loss: 0.19681189767519633\n",
      "val loss: 0.2499333922068278\n",
      "Learning rate: 0.00100000\n",
      "acc train: 0.9260859929078014\n",
      "acc val: 0.8929521276595744\n",
      "-------------------------------------------------------------\n",
      "Epoch:54/120\n"
     ]
    },
    {
     "data": {
      "application/vnd.jupyter.widget-view+json": {
       "model_id": "a0b4b5328d304a8ca718cf4046974778",
       "version_major": 2,
       "version_minor": 0
      },
      "text/plain": [
       "  0%|          | 0/94 [00:00<?, ?it/s]"
      ]
     },
     "metadata": {},
     "output_type": "display_data"
    },
    {
     "name": "stdout",
     "output_type": "stream",
     "text": [
      "train loss: 0.20737860298156738\n",
      "val loss: 0.23931235019365946\n",
      "Learning rate: 0.00100000\n",
      "acc train: 0.9233710106382979\n",
      "acc val: 0.879891717325228\n",
      "-------------------------------------------------------------\n",
      "Epoch:55/120\n"
     ]
    },
    {
     "data": {
      "application/vnd.jupyter.widget-view+json": {
       "model_id": "ba86ab7115af4a11bda13f757577ce37",
       "version_major": 2,
       "version_minor": 0
      },
      "text/plain": [
       "  0%|          | 0/94 [00:00<?, ?it/s]"
      ]
     },
     "metadata": {},
     "output_type": "display_data"
    },
    {
     "name": "stdout",
     "output_type": "stream",
     "text": [
      "train loss: 0.21489121627807617\n",
      "val loss: 0.25658149806658426\n",
      "Learning rate: 0.00100000\n",
      "acc train: 0.9171099290780141\n",
      "acc val: 0.8863506838905776\n",
      "-------------------------------------------------------------\n",
      "Epoch:56/120\n"
     ]
    },
    {
     "data": {
      "application/vnd.jupyter.widget-view+json": {
       "model_id": "9a9816e805284954a48c042b91804e2d",
       "version_major": 2,
       "version_minor": 0
      },
      "text/plain": [
       "  0%|          | 0/94 [00:00<?, ?it/s]"
      ]
     },
     "metadata": {},
     "output_type": "display_data"
    },
    {
     "name": "stdout",
     "output_type": "stream",
     "text": [
      "train loss: 0.20337903412183125\n",
      "val loss: 0.24794044196605683\n",
      "Learning rate: 0.00100000\n",
      "acc train: 0.9253102836879433\n",
      "acc val: 0.8854958206686929\n",
      "-------------------------------------------------------------\n",
      "Epoch:57/120\n"
     ]
    },
    {
     "data": {
      "application/vnd.jupyter.widget-view+json": {
       "model_id": "f6e6d0f9923f42e79c660bc13e34cee8",
       "version_major": 2,
       "version_minor": 0
      },
      "text/plain": [
       "  0%|          | 0/94 [00:00<?, ?it/s]"
      ]
     },
     "metadata": {},
     "output_type": "display_data"
    },
    {
     "name": "stdout",
     "output_type": "stream",
     "text": [
      "train loss: 0.2112399121125539\n",
      "val loss: 0.24698905404408772\n",
      "Learning rate: 0.00100000\n",
      "acc train: 0.9229831560283689\n",
      "acc val: 0.8716280395136777\n",
      "-------------------------------------------------------------\n",
      "Epoch:58/120\n"
     ]
    },
    {
     "data": {
      "application/vnd.jupyter.widget-view+json": {
       "model_id": "a15fedcdd9434cc095eb5b03c14fe24c",
       "version_major": 2,
       "version_minor": 0
      },
      "text/plain": [
       "  0%|          | 0/94 [00:00<?, ?it/s]"
      ]
     },
     "metadata": {},
     "output_type": "display_data"
    },
    {
     "name": "stdout",
     "output_type": "stream",
     "text": [
      "train loss: 0.20976261115074157\n",
      "val loss: 0.23586210882663727\n",
      "Learning rate: 0.00100000\n",
      "acc train: 0.9317375886524822\n",
      "acc val: 0.8807465805471124\n",
      "-------------------------------------------------------------\n",
      "Epoch:59/120\n"
     ]
    },
    {
     "data": {
      "application/vnd.jupyter.widget-view+json": {
       "model_id": "59948937a02740d0a877f7c5c1901c65",
       "version_major": 2,
       "version_minor": 0
      },
      "text/plain": [
       "  0%|          | 0/94 [00:00<?, ?it/s]"
      ]
     },
     "metadata": {},
     "output_type": "display_data"
    },
    {
     "name": "stdout",
     "output_type": "stream",
     "text": [
      "train loss: 0.19854905052979788\n",
      "val loss: 0.2508163997332255\n",
      "Learning rate: 0.00100000\n",
      "acc train: 0.9281914893617021\n",
      "acc val: 0.8872530395136777\n",
      "-------------------------------------------------------------\n",
      "Epoch 00059: reducing learning rate of group 0 to 1.0000e-04.\n",
      "Epoch:60/120\n"
     ]
    },
    {
     "data": {
      "application/vnd.jupyter.widget-view+json": {
       "model_id": "b07f65286e4a49998b6e78f7d6025aca",
       "version_major": 2,
       "version_minor": 0
      },
      "text/plain": [
       "  0%|          | 0/94 [00:00<?, ?it/s]"
      ]
     },
     "metadata": {},
     "output_type": "display_data"
    },
    {
     "name": "stdout",
     "output_type": "stream",
     "text": [
      "train loss: 0.19250505713621777\n",
      "val loss: 0.23988618683815002\n",
      "Learning rate: 0.00010000\n",
      "acc train: 0.9316267730496455\n",
      "acc val: 0.8919547872340425\n",
      "LEARNING RATE HAS CHANGED!\n",
      "-------------------------------------------------------------\n",
      "Epoch:61/120\n"
     ]
    },
    {
     "data": {
      "application/vnd.jupyter.widget-view+json": {
       "model_id": "597486a324e8471c9d173a2fb50af2d4",
       "version_major": 2,
       "version_minor": 0
      },
      "text/plain": [
       "  0%|          | 0/94 [00:00<?, ?it/s]"
      ]
     },
     "metadata": {},
     "output_type": "display_data"
    },
    {
     "name": "stdout",
     "output_type": "stream",
     "text": [
      "train loss: 0.1770215159257253\n",
      "val loss: 0.23326049304008484\n",
      "Learning rate: 0.00010000\n",
      "acc train: 0.9438718971631205\n",
      "acc val: 0.8943294072948329\n",
      "-------------------------------------------------------------\n",
      "Epoch:62/120\n"
     ]
    },
    {
     "data": {
      "application/vnd.jupyter.widget-view+json": {
       "model_id": "5cfdd2c29667429d90541afd4a886e5c",
       "version_major": 2,
       "version_minor": 0
      },
      "text/plain": [
       "  0%|          | 0/94 [00:00<?, ?it/s]"
      ]
     },
     "metadata": {},
     "output_type": "display_data"
    },
    {
     "name": "stdout",
     "output_type": "stream",
     "text": [
      "train loss: 0.17107592503229777\n",
      "val loss: 0.22434008185068766\n",
      "Learning rate: 0.00010000\n",
      "acc train: 0.9463652482269503\n",
      "acc val: 0.9030205167173252\n",
      "-------------------------------------------------------------\n",
      "Epoch:63/120\n"
     ]
    },
    {
     "data": {
      "application/vnd.jupyter.widget-view+json": {
       "model_id": "9d50aa01f8794293aa924258e7dc5db4",
       "version_major": 2,
       "version_minor": 0
      },
      "text/plain": [
       "  0%|          | 0/94 [00:00<?, ?it/s]"
      ]
     },
     "metadata": {},
     "output_type": "display_data"
    },
    {
     "name": "stdout",
     "output_type": "stream",
     "text": [
      "train loss: 0.17104584272702536\n",
      "val loss: 0.2364407768646876\n",
      "Learning rate: 0.00010000\n",
      "acc train: 0.9390514184397163\n",
      "acc val: 0.8954217325227964\n",
      "-------------------------------------------------------------\n",
      "Epoch:64/120\n"
     ]
    },
    {
     "data": {
      "application/vnd.jupyter.widget-view+json": {
       "model_id": "814625b49903403fbb95e52b002b7982",
       "version_major": 2,
       "version_minor": 0
      },
      "text/plain": [
       "  0%|          | 0/94 [00:00<?, ?it/s]"
      ]
     },
     "metadata": {},
     "output_type": "display_data"
    },
    {
     "name": "stdout",
     "output_type": "stream",
     "text": [
      "train loss: 0.17267760622501374\n",
      "val loss: 0.23632939370473227\n",
      "Learning rate: 0.00010000\n",
      "acc train: 0.9450908687943262\n",
      "acc val: 0.8970364741641337\n",
      "-------------------------------------------------------------\n",
      "Epoch:65/120\n"
     ]
    },
    {
     "data": {
      "application/vnd.jupyter.widget-view+json": {
       "model_id": "355b803b36b94b8c8a0295e50a87d6bb",
       "version_major": 2,
       "version_minor": 0
      },
      "text/plain": [
       "  0%|          | 0/94 [00:00<?, ?it/s]"
      ]
     },
     "metadata": {},
     "output_type": "display_data"
    },
    {
     "name": "stdout",
     "output_type": "stream",
     "text": [
      "train loss: 0.16230430567264556\n",
      "val loss: 0.22061705301205317\n",
      "Learning rate: 0.00010000\n",
      "acc train: 0.9556183510638298\n",
      "acc val: 0.9031155015197568\n",
      "-------------------------------------------------------------\n",
      "Epoch:66/120\n"
     ]
    },
    {
     "data": {
      "application/vnd.jupyter.widget-view+json": {
       "model_id": "26a2a49259ed410cb393060a2bc52cfe",
       "version_major": 2,
       "version_minor": 0
      },
      "text/plain": [
       "  0%|          | 0/94 [00:00<?, ?it/s]"
      ]
     },
     "metadata": {},
     "output_type": "display_data"
    },
    {
     "name": "stdout",
     "output_type": "stream",
     "text": [
      "train loss: 0.16189398284753165\n",
      "val loss: 0.2010437012910843\n",
      "Learning rate: 0.00010000\n",
      "acc train: 0.9541777482269503\n",
      "acc val: 0.9141337386018237\n",
      "-------------------------------------------------------------\n",
      "Epoch:67/120\n"
     ]
    },
    {
     "data": {
      "application/vnd.jupyter.widget-view+json": {
       "model_id": "2643591ac0bc415497142600515e466e",
       "version_major": 2,
       "version_minor": 0
      },
      "text/plain": [
       "  0%|          | 0/94 [00:00<?, ?it/s]"
      ]
     },
     "metadata": {},
     "output_type": "display_data"
    },
    {
     "name": "stdout",
     "output_type": "stream",
     "text": [
      "train loss: 0.16536820348103842\n",
      "val loss: 0.22164574166138967\n",
      "Learning rate: 0.00010000\n",
      "acc train: 0.9534574468085106\n",
      "acc val: 0.9051101823708206\n",
      "-------------------------------------------------------------\n",
      "Epoch:68/120\n"
     ]
    },
    {
     "data": {
      "application/vnd.jupyter.widget-view+json": {
       "model_id": "e5fa07f25d484e50a0d8510d0456e9c2",
       "version_major": 2,
       "version_minor": 0
      },
      "text/plain": [
       "  0%|          | 0/94 [00:00<?, ?it/s]"
      ]
     },
     "metadata": {},
     "output_type": "display_data"
    },
    {
     "name": "stdout",
     "output_type": "stream",
     "text": [
      "train loss: 0.16509063919385275\n",
      "val loss: 0.20495227134227753\n",
      "Learning rate: 0.00010000\n",
      "acc train: 0.9510195035460992\n",
      "acc val: 0.8991261398176291\n",
      "-------------------------------------------------------------\n",
      "Epoch:69/120\n"
     ]
    },
    {
     "data": {
      "application/vnd.jupyter.widget-view+json": {
       "model_id": "3eaeb42822d14da0b42fa89e0a65ee86",
       "version_major": 2,
       "version_minor": 0
      },
      "text/plain": [
       "  0%|          | 0/94 [00:00<?, ?it/s]"
      ]
     },
     "metadata": {},
     "output_type": "display_data"
    },
    {
     "name": "stdout",
     "output_type": "stream",
     "text": [
      "train loss: 0.15609053854147592\n",
      "val loss: 0.21778800225257874\n",
      "Learning rate: 0.00010000\n",
      "acc train: 0.9566156914893617\n",
      "acc val: 0.8977963525835866\n",
      "-------------------------------------------------------------\n",
      "Epoch:70/120\n"
     ]
    },
    {
     "data": {
      "application/vnd.jupyter.widget-view+json": {
       "model_id": "de5fe261d4514908bb934e3c05fa07cd",
       "version_major": 2,
       "version_minor": 0
      },
      "text/plain": [
       "  0%|          | 0/94 [00:00<?, ?it/s]"
      ]
     },
     "metadata": {},
     "output_type": "display_data"
    },
    {
     "name": "stdout",
     "output_type": "stream",
     "text": [
      "train loss: 0.15393070888519286\n",
      "val loss: 0.21835726861159008\n",
      "Learning rate: 0.00010000\n",
      "acc train: 0.9519614361702128\n",
      "acc val: 0.8930471124620061\n",
      "-------------------------------------------------------------\n",
      "Epoch:71/120\n"
     ]
    },
    {
     "data": {
      "application/vnd.jupyter.widget-view+json": {
       "model_id": "94e38f62fdaf4bbd87b24b77fa60c5af",
       "version_major": 2,
       "version_minor": 0
      },
      "text/plain": [
       "  0%|          | 0/94 [00:00<?, ?it/s]"
      ]
     },
     "metadata": {},
     "output_type": "display_data"
    },
    {
     "name": "stdout",
     "output_type": "stream",
     "text": [
      "train loss: 0.1595595552921295\n",
      "val loss: 0.22334634387493132\n",
      "Learning rate: 0.00010000\n",
      "acc train: 0.9588874113475178\n",
      "acc val: 0.9043503039513677\n",
      "-------------------------------------------------------------\n",
      "Epoch:72/120\n"
     ]
    },
    {
     "data": {
      "application/vnd.jupyter.widget-view+json": {
       "model_id": "ae401839a1504ab3aa4cae9c6022b190",
       "version_major": 2,
       "version_minor": 0
      },
      "text/plain": [
       "  0%|          | 0/94 [00:00<?, ?it/s]"
      ]
     },
     "metadata": {},
     "output_type": "display_data"
    },
    {
     "name": "stdout",
     "output_type": "stream",
     "text": [
      "train loss: 0.15518471912542978\n",
      "val loss: 0.20173777683575947\n",
      "Learning rate: 0.00010000\n",
      "acc train: 0.9559507978723404\n",
      "acc val: 0.9086246200607904\n",
      "-------------------------------------------------------------\n",
      "Epoch:73/120\n"
     ]
    },
    {
     "data": {
      "application/vnd.jupyter.widget-view+json": {
       "model_id": "9d3d8747715e4caaa564b0b58f4d6176",
       "version_major": 2,
       "version_minor": 0
      },
      "text/plain": [
       "  0%|          | 0/94 [00:00<?, ?it/s]"
      ]
     },
     "metadata": {},
     "output_type": "display_data"
    },
    {
     "name": "stdout",
     "output_type": "stream",
     "text": [
      "train loss: 0.15491523790359496\n",
      "val loss: 0.22559235537052155\n",
      "Learning rate: 0.00010000\n",
      "acc train: 0.9573914007092199\n",
      "acc val: 0.9012632978723404\n",
      "-------------------------------------------------------------\n",
      "Epoch:74/120\n"
     ]
    },
    {
     "data": {
      "application/vnd.jupyter.widget-view+json": {
       "model_id": "f2806806bfb84c0baa43fc214152ed44",
       "version_major": 2,
       "version_minor": 0
      },
      "text/plain": [
       "  0%|          | 0/94 [00:00<?, ?it/s]"
      ]
     },
     "metadata": {},
     "output_type": "display_data"
    },
    {
     "name": "stdout",
     "output_type": "stream",
     "text": [
      "train loss: 0.1547888853152593\n",
      "val loss: 0.2170264309644699\n",
      "Learning rate: 0.00010000\n",
      "acc train: 0.9583333333333333\n",
      "acc val: 0.9041603343465046\n",
      "-------------------------------------------------------------\n",
      "Epoch:75/120\n"
     ]
    },
    {
     "data": {
      "application/vnd.jupyter.widget-view+json": {
       "model_id": "1d17e090afe0477ea2a9c238841c649b",
       "version_major": 2,
       "version_minor": 0
      },
      "text/plain": [
       "  0%|          | 0/94 [00:00<?, ?it/s]"
      ]
     },
     "metadata": {},
     "output_type": "display_data"
    },
    {
     "name": "stdout",
     "output_type": "stream",
     "text": [
      "train loss: 0.1529438248872757\n",
      "val loss: 0.21728524180253347\n",
      "Learning rate: 0.00010000\n",
      "acc train: 0.9603834219858156\n",
      "acc val: 0.9034004559270518\n",
      "-------------------------------------------------------------\n",
      "Epoch:76/120\n"
     ]
    },
    {
     "data": {
      "application/vnd.jupyter.widget-view+json": {
       "model_id": "225dc41d9b8b4a83a27ffc5b119009f2",
       "version_major": 2,
       "version_minor": 0
      },
      "text/plain": [
       "  0%|          | 0/94 [00:00<?, ?it/s]"
      ]
     },
     "metadata": {},
     "output_type": "display_data"
    },
    {
     "name": "stdout",
     "output_type": "stream",
     "text": [
      "train loss: 0.14566258792082468\n",
      "val loss: 0.1961624682744344\n",
      "Learning rate: 0.00010000\n",
      "acc train: 0.9589428191489362\n",
      "acc val: 0.9064399696048632\n",
      "-------------------------------------------------------------\n",
      "Epoch:77/120\n"
     ]
    },
    {
     "data": {
      "application/vnd.jupyter.widget-view+json": {
       "model_id": "1787373cd13a4e19aafb4da1158576ae",
       "version_major": 2,
       "version_minor": 0
      },
      "text/plain": [
       "  0%|          | 0/94 [00:00<?, ?it/s]"
      ]
     },
     "metadata": {},
     "output_type": "display_data"
    },
    {
     "name": "stdout",
     "output_type": "stream",
     "text": [
      "train loss: 0.15130239164829254\n",
      "val loss: 0.22052762873967488\n",
      "Learning rate: 0.00010000\n",
      "acc train: 0.9633754432624114\n",
      "acc val: 0.9069623860182372\n",
      "-------------------------------------------------------------\n",
      "Epoch:78/120\n"
     ]
    },
    {
     "data": {
      "application/vnd.jupyter.widget-view+json": {
       "model_id": "2b03afa988744f9993fb8d7ce0041420",
       "version_major": 2,
       "version_minor": 0
      },
      "text/plain": [
       "  0%|          | 0/94 [00:00<?, ?it/s]"
      ]
     },
     "metadata": {},
     "output_type": "display_data"
    },
    {
     "name": "stdout",
     "output_type": "stream",
     "text": [
      "train loss: 0.1488514971335729\n",
      "val loss: 0.21722455660502116\n",
      "Learning rate: 0.00010000\n",
      "acc train: 0.9638741134751774\n",
      "acc val: 0.8970364741641337\n",
      "-------------------------------------------------------------\n",
      "Epoch:79/120\n"
     ]
    },
    {
     "data": {
      "application/vnd.jupyter.widget-view+json": {
       "model_id": "edc41c0e4d08473cbcacabe5207ce1b5",
       "version_major": 2,
       "version_minor": 0
      },
      "text/plain": [
       "  0%|          | 0/94 [00:00<?, ?it/s]"
      ]
     },
     "metadata": {},
     "output_type": "display_data"
    },
    {
     "name": "stdout",
     "output_type": "stream",
     "text": [
      "train loss: 0.1519785489241282\n",
      "val loss: 0.21594360335667928\n",
      "Learning rate: 0.00010000\n",
      "acc train: 0.9619902482269503\n",
      "acc val: 0.9033054711246201\n",
      "-------------------------------------------------------------\n",
      "Epoch:80/120\n"
     ]
    },
    {
     "data": {
      "application/vnd.jupyter.widget-view+json": {
       "model_id": "74e889899fac4f07ad47ddd31a9a55df",
       "version_major": 2,
       "version_minor": 0
      },
      "text/plain": [
       "  0%|          | 0/94 [00:00<?, ?it/s]"
      ]
     },
     "metadata": {},
     "output_type": "display_data"
    },
    {
     "name": "stdout",
     "output_type": "stream",
     "text": [
      "train loss: 0.1540045437812805\n",
      "val loss: 0.21892395480473836\n",
      "Learning rate: 0.00010000\n",
      "acc train: 0.961436170212766\n",
      "acc val: 0.9040178571428571\n",
      "-------------------------------------------------------------\n",
      "Epoch:81/120\n"
     ]
    },
    {
     "data": {
      "application/vnd.jupyter.widget-view+json": {
       "model_id": "a22aebf17fb249579261c8cd38bc7567",
       "version_major": 2,
       "version_minor": 0
      },
      "text/plain": [
       "  0%|          | 0/94 [00:00<?, ?it/s]"
      ]
     },
     "metadata": {},
     "output_type": "display_data"
    },
    {
     "name": "stdout",
     "output_type": "stream",
     "text": [
      "train loss: 0.1499582303762436\n",
      "val loss: 0.20686034969488779\n",
      "Learning rate: 0.00010000\n",
      "acc train: 0.9637632978723404\n",
      "acc val: 0.8950892857142858\n",
      "-------------------------------------------------------------\n",
      "Epoch:82/120\n"
     ]
    },
    {
     "data": {
      "application/vnd.jupyter.widget-view+json": {
       "model_id": "0ff5087ab2c44f8e880ebff747a47521",
       "version_major": 2,
       "version_minor": 0
      },
      "text/plain": [
       "  0%|          | 0/94 [00:00<?, ?it/s]"
      ]
     },
     "metadata": {},
     "output_type": "display_data"
    },
    {
     "name": "stdout",
     "output_type": "stream",
     "text": [
      "train loss: 0.1426263287862142\n",
      "val loss: 0.2088456264336904\n",
      "Learning rate: 0.00010000\n",
      "acc train: 0.9657025709219859\n",
      "acc val: 0.9063924772036475\n",
      "-------------------------------------------------------------\n",
      "Epoch:83/120\n"
     ]
    },
    {
     "data": {
      "application/vnd.jupyter.widget-view+json": {
       "model_id": "4061acdafdd449b8b96e95b3bac7a8af",
       "version_major": 2,
       "version_minor": 0
      },
      "text/plain": [
       "  0%|          | 0/94 [00:00<?, ?it/s]"
      ]
     },
     "metadata": {},
     "output_type": "display_data"
    },
    {
     "name": "stdout",
     "output_type": "stream",
     "text": [
      "train loss: 0.15232189377148947\n",
      "val loss: 0.20152466265360514\n",
      "Learning rate: 0.00010000\n",
      "acc train: 0.9626551418439716\n",
      "acc val: 0.9020706686930091\n",
      "-------------------------------------------------------------\n",
      "Epoch:84/120\n"
     ]
    },
    {
     "data": {
      "application/vnd.jupyter.widget-view+json": {
       "model_id": "a409bca691b74561afdbec63c7161783",
       "version_major": 2,
       "version_minor": 0
      },
      "text/plain": [
       "  0%|          | 0/94 [00:00<?, ?it/s]"
      ]
     },
     "metadata": {},
     "output_type": "display_data"
    },
    {
     "name": "stdout",
     "output_type": "stream",
     "text": [
      "train loss: 0.14266568950812022\n",
      "val loss: 0.229364430586497\n",
      "Learning rate: 0.00010000\n",
      "acc train: 0.9666999113475178\n",
      "acc val: 0.9049202127659575\n",
      "-------------------------------------------------------------\n",
      "Epoch:85/120\n"
     ]
    },
    {
     "data": {
      "application/vnd.jupyter.widget-view+json": {
       "model_id": "832f6cce015e4371bbbe2ff5d3e2fc0c",
       "version_major": 2,
       "version_minor": 0
      },
      "text/plain": [
       "  0%|          | 0/94 [00:00<?, ?it/s]"
      ]
     },
     "metadata": {},
     "output_type": "display_data"
    },
    {
     "name": "stdout",
     "output_type": "stream",
     "text": [
      "train loss: 0.14831985513369242\n",
      "val loss: 0.2228535816669464\n",
      "Learning rate: 0.00010000\n",
      "acc train: 0.9588874113475178\n",
      "acc val: 0.9009308510638298\n",
      "-------------------------------------------------------------\n",
      "Epoch:86/120\n"
     ]
    },
    {
     "data": {
      "application/vnd.jupyter.widget-view+json": {
       "model_id": "c1ab1f7a6796452da1e91dd0157b94bb",
       "version_major": 2,
       "version_minor": 0
      },
      "text/plain": [
       "  0%|          | 0/94 [00:00<?, ?it/s]"
      ]
     },
     "metadata": {},
     "output_type": "display_data"
    },
    {
     "name": "stdout",
     "output_type": "stream",
     "text": [
      "train loss: 0.14674822195370993\n",
      "val loss: 0.21747272046407065\n",
      "Learning rate: 0.00010000\n",
      "acc train: 0.9693040780141844\n",
      "acc val: 0.9045877659574468\n",
      "-------------------------------------------------------------\n",
      "Epoch:87/120\n"
     ]
    },
    {
     "data": {
      "application/vnd.jupyter.widget-view+json": {
       "model_id": "02ec9d74182e433e8fa4a8abc4e6092c",
       "version_major": 2,
       "version_minor": 0
      },
      "text/plain": [
       "  0%|          | 0/94 [00:00<?, ?it/s]"
      ]
     },
     "metadata": {},
     "output_type": "display_data"
    },
    {
     "name": "stdout",
     "output_type": "stream",
     "text": [
      "train loss: 0.14045418540636698\n",
      "val loss: 0.23255637979507446\n",
      "Learning rate: 0.00010000\n",
      "acc train: 0.9688608156028369\n",
      "acc val: 0.899411094224924\n",
      "-------------------------------------------------------------\n",
      "Epoch:88/120\n"
     ]
    },
    {
     "data": {
      "application/vnd.jupyter.widget-view+json": {
       "model_id": "2b47000747354b5c8d10905bd2190fb5",
       "version_major": 2,
       "version_minor": 0
      },
      "text/plain": [
       "  0%|          | 0/94 [00:00<?, ?it/s]"
      ]
     },
     "metadata": {},
     "output_type": "display_data"
    },
    {
     "name": "stdout",
     "output_type": "stream",
     "text": [
      "train loss: 0.1434863291978836\n",
      "val loss: 0.21656831097602844\n",
      "Learning rate: 0.00010000\n",
      "acc train: 0.9622118794326242\n",
      "acc val: 0.9034479483282675\n",
      "-------------------------------------------------------------\n",
      "Epoch:89/120\n"
     ]
    },
    {
     "data": {
      "application/vnd.jupyter.widget-view+json": {
       "model_id": "b1c703a2938442ed8b66923bf3de04fe",
       "version_major": 2,
       "version_minor": 0
      },
      "text/plain": [
       "  0%|          | 0/94 [00:00<?, ?it/s]"
      ]
     },
     "metadata": {},
     "output_type": "display_data"
    },
    {
     "name": "stdout",
     "output_type": "stream",
     "text": [
      "train loss: 0.14008234409491221\n",
      "val loss: 0.2143229788541794\n",
      "Learning rate: 0.00010000\n",
      "acc train: 0.9694148936170213\n",
      "acc val: 0.9129939209726443\n",
      "-------------------------------------------------------------\n",
      "Epoch:90/120\n"
     ]
    },
    {
     "data": {
      "application/vnd.jupyter.widget-view+json": {
       "model_id": "e93b57c3998f48b28d45d0c93647f547",
       "version_major": 2,
       "version_minor": 0
      },
      "text/plain": [
       "  0%|          | 0/94 [00:00<?, ?it/s]"
      ]
     },
     "metadata": {},
     "output_type": "display_data"
    },
    {
     "name": "stdout",
     "output_type": "stream",
     "text": [
      "train loss: 0.13996817382176718\n",
      "val loss: 0.20752743832270304\n",
      "Learning rate: 0.00010000\n",
      "acc train: 0.9644281914893617\n",
      "acc val: 0.9058700607902735\n",
      "-------------------------------------------------------------\n",
      "Epoch:91/120\n"
     ]
    },
    {
     "data": {
      "application/vnd.jupyter.widget-view+json": {
       "model_id": "fcdafe423cc94a22bb40f7847622a1fd",
       "version_major": 2,
       "version_minor": 0
      },
      "text/plain": [
       "  0%|          | 0/94 [00:00<?, ?it/s]"
      ]
     },
     "metadata": {},
     "output_type": "display_data"
    },
    {
     "name": "stdout",
     "output_type": "stream",
     "text": [
      "train loss: 0.14725146730740865\n",
      "val loss: 0.22561786234378814\n",
      "Learning rate: 0.00010000\n",
      "acc train: 0.9677526595744681\n",
      "acc val: 0.8986512158054711\n",
      "-------------------------------------------------------------\n",
      "Epoch:92/120\n"
     ]
    },
    {
     "data": {
      "application/vnd.jupyter.widget-view+json": {
       "model_id": "02014da5b8d043b1bf11df633a210456",
       "version_major": 2,
       "version_minor": 0
      },
      "text/plain": [
       "  0%|          | 0/94 [00:00<?, ?it/s]"
      ]
     },
     "metadata": {},
     "output_type": "display_data"
    },
    {
     "name": "stdout",
     "output_type": "stream",
     "text": [
      "train loss: 0.14893117805322012\n",
      "val loss: 0.21956080595652264\n",
      "Learning rate: 0.00010000\n",
      "acc train: 0.9646498226950354\n",
      "acc val: 0.901358282674772\n",
      "-------------------------------------------------------------\n",
      "Epoch:93/120\n"
     ]
    },
    {
     "data": {
      "application/vnd.jupyter.widget-view+json": {
       "model_id": "d23d98f90e474cc4b082eeda322b2521",
       "version_major": 2,
       "version_minor": 0
      },
      "text/plain": [
       "  0%|          | 0/94 [00:00<?, ?it/s]"
      ]
     },
     "metadata": {},
     "output_type": "display_data"
    },
    {
     "name": "stdout",
     "output_type": "stream",
     "text": [
      "train loss: 0.13696626243988672\n",
      "val loss: 0.2122950202226639\n",
      "Learning rate: 0.00010000\n",
      "acc train: 0.9693040780141844\n",
      "acc val: 0.9017857142857142\n",
      "-------------------------------------------------------------\n",
      "Epoch:94/120\n"
     ]
    },
    {
     "data": {
      "application/vnd.jupyter.widget-view+json": {
       "model_id": "11a8e12b006949339edd6a78337e5124",
       "version_major": 2,
       "version_minor": 0
      },
      "text/plain": [
       "  0%|          | 0/94 [00:00<?, ?it/s]"
      ]
     },
     "metadata": {},
     "output_type": "display_data"
    },
    {
     "name": "stdout",
     "output_type": "stream",
     "text": [
      "train loss: 0.14206753432750702\n",
      "val loss: 0.21152834343910218\n",
      "Learning rate: 0.00010000\n",
      "acc train: 0.9649268617021277\n",
      "acc val: 0.8962765957446809\n",
      "-------------------------------------------------------------\n",
      "Epoch:95/120\n"
     ]
    },
    {
     "data": {
      "application/vnd.jupyter.widget-view+json": {
       "model_id": "339a396dc8a34c878931e6fd47f5a2b7",
       "version_major": 2,
       "version_minor": 0
      },
      "text/plain": [
       "  0%|          | 0/94 [00:00<?, ?it/s]"
      ]
     },
     "metadata": {},
     "output_type": "display_data"
    },
    {
     "name": "stdout",
     "output_type": "stream",
     "text": [
      "train loss: 0.13473985032240549\n",
      "val loss: 0.2187055337826411\n",
      "Learning rate: 0.00010000\n",
      "acc train: 0.969248670212766\n",
      "acc val: 0.8999810030395138\n",
      "-------------------------------------------------------------\n",
      "Epoch:96/120\n"
     ]
    },
    {
     "data": {
      "application/vnd.jupyter.widget-view+json": {
       "model_id": "2124300ddf11499b849254fa236a83be",
       "version_major": 2,
       "version_minor": 0
      },
      "text/plain": [
       "  0%|          | 0/94 [00:00<?, ?it/s]"
      ]
     },
     "metadata": {},
     "output_type": "display_data"
    },
    {
     "name": "stdout",
     "output_type": "stream",
     "text": [
      "train loss: 0.13608372290929158\n",
      "val loss: 0.21182714947064718\n",
      "Learning rate: 0.00010000\n",
      "acc train: 0.9684175531914894\n",
      "acc val: 0.8985087386018237\n",
      "-------------------------------------------------------------\n",
      "Epoch:97/120\n"
     ]
    },
    {
     "data": {
      "application/vnd.jupyter.widget-view+json": {
       "model_id": "99317bd29e694dfc9724ebb5dad1d127",
       "version_major": 2,
       "version_minor": 0
      },
      "text/plain": [
       "  0%|          | 0/94 [00:00<?, ?it/s]"
      ]
     },
     "metadata": {},
     "output_type": "display_data"
    },
    {
     "name": "stdout",
     "output_type": "stream",
     "text": [
      "train loss: 0.13426758007208506\n",
      "val loss: 0.2065368587176005\n",
      "Learning rate: 0.00010000\n",
      "acc train: 0.9666445035460992\n",
      "acc val: 0.9010258358662614\n",
      "-------------------------------------------------------------\n",
      "Epoch:98/120\n"
     ]
    },
    {
     "data": {
      "application/vnd.jupyter.widget-view+json": {
       "model_id": "5fc934e6b3f44dfe9d3faa76152ac928",
       "version_major": 2,
       "version_minor": 0
      },
      "text/plain": [
       "  0%|          | 0/94 [00:00<?, ?it/s]"
      ]
     },
     "metadata": {},
     "output_type": "display_data"
    },
    {
     "name": "stdout",
     "output_type": "stream",
     "text": [
      "train loss: 0.13135182007153828\n",
      "val loss: 0.22552072044213614\n",
      "Learning rate: 0.00010000\n",
      "acc train: 0.9738475177304965\n",
      "acc val: 0.8930946048632219\n",
      "-------------------------------------------------------------\n",
      "Epoch:99/120\n"
     ]
    },
    {
     "data": {
      "application/vnd.jupyter.widget-view+json": {
       "model_id": "f263aaf0a04b4cc2af1d4f0b87b636e3",
       "version_major": 2,
       "version_minor": 0
      },
      "text/plain": [
       "  0%|          | 0/94 [00:00<?, ?it/s]"
      ]
     },
     "metadata": {},
     "output_type": "display_data"
    },
    {
     "name": "stdout",
     "output_type": "stream",
     "text": [
      "train loss: 0.1401053864955902\n",
      "val loss: 0.20903072893619537\n",
      "Learning rate: 0.00010000\n",
      "acc train: 0.9640403368794327\n",
      "acc val: 0.9069148936170213\n",
      "-------------------------------------------------------------\n",
      "Epoch:100/120\n"
     ]
    },
    {
     "data": {
      "application/vnd.jupyter.widget-view+json": {
       "model_id": "0762b954fe0641fbad326281dfce63d7",
       "version_major": 2,
       "version_minor": 0
      },
      "text/plain": [
       "  0%|          | 0/94 [00:00<?, ?it/s]"
      ]
     },
     "metadata": {},
     "output_type": "display_data"
    },
    {
     "name": "stdout",
     "output_type": "stream",
     "text": [
      "train loss: 0.13036665320396423\n",
      "val loss: 0.21187920264403026\n",
      "Learning rate: 0.00010000\n",
      "acc train: 0.9722960992907801\n",
      "acc val: 0.9076747720364742\n",
      "-------------------------------------------------------------\n",
      "Epoch:101/120\n"
     ]
    },
    {
     "data": {
      "application/vnd.jupyter.widget-view+json": {
       "model_id": "9e8dbb1376e142aea9f6654bfba84957",
       "version_major": 2,
       "version_minor": 0
      },
      "text/plain": [
       "  0%|          | 0/94 [00:00<?, ?it/s]"
      ]
     },
     "metadata": {},
     "output_type": "display_data"
    },
    {
     "name": "stdout",
     "output_type": "stream",
     "text": [
      "train loss: 0.13564899023373922\n",
      "val loss: 0.2138513727982839\n",
      "Learning rate: 0.00010000\n",
      "acc train: 0.965093085106383\n",
      "acc val: 0.9035904255319149\n",
      "-------------------------------------------------------------\n",
      "Epoch:102/120\n"
     ]
    },
    {
     "data": {
      "application/vnd.jupyter.widget-view+json": {
       "model_id": "ffd121985a2142d48780966056718b70",
       "version_major": 2,
       "version_minor": 0
      },
      "text/plain": [
       "  0%|          | 0/94 [00:00<?, ?it/s]"
      ]
     },
     "metadata": {},
     "output_type": "display_data"
    },
    {
     "name": "stdout",
     "output_type": "stream",
     "text": [
      "train loss: 0.13469798580805462\n",
      "val loss: 0.22179412786165872\n",
      "Learning rate: 0.00010000\n",
      "acc train: 0.9677526595744681\n",
      "acc val: 0.8960866261398177\n",
      "-------------------------------------------------------------\n",
      "Epoch:103/120\n"
     ]
    },
    {
     "data": {
      "application/vnd.jupyter.widget-view+json": {
       "model_id": "a3fa453d70cd47a2a9f7f41dbe654d86",
       "version_major": 2,
       "version_minor": 0
      },
      "text/plain": [
       "  0%|          | 0/94 [00:00<?, ?it/s]"
      ]
     },
     "metadata": {},
     "output_type": "display_data"
    },
    {
     "name": "stdout",
     "output_type": "stream",
     "text": [
      "train loss: 0.1322344266374906\n",
      "val loss: 0.21589537874857584\n",
      "Learning rate: 0.00010000\n",
      "acc train: 0.9740137411347518\n",
      "acc val: 0.9048727203647415\n",
      "-------------------------------------------------------------\n",
      "Epoch:104/120\n"
     ]
    },
    {
     "data": {
      "application/vnd.jupyter.widget-view+json": {
       "model_id": "ebd7a1456bdd4837a2bb7456cb9bfc90",
       "version_major": 2,
       "version_minor": 0
      },
      "text/plain": [
       "  0%|          | 0/94 [00:00<?, ?it/s]"
      ]
     },
     "metadata": {},
     "output_type": "display_data"
    },
    {
     "name": "stdout",
     "output_type": "stream",
     "text": [
      "train loss: 0.1327405216296514\n",
      "val loss: 0.2161375521818797\n",
      "Learning rate: 0.00010000\n",
      "acc train: 0.9715757978723404\n",
      "acc val: 0.9059650455927052\n",
      "-------------------------------------------------------------\n",
      "Epoch:105/120\n"
     ]
    },
    {
     "data": {
      "application/vnd.jupyter.widget-view+json": {
       "model_id": "5be9c957f4534f889cc32aa09681b3c9",
       "version_major": 2,
       "version_minor": 0
      },
      "text/plain": [
       "  0%|          | 0/94 [00:00<?, ?it/s]"
      ]
     },
     "metadata": {},
     "output_type": "display_data"
    },
    {
     "name": "stdout",
     "output_type": "stream",
     "text": [
      "train loss: 0.13098375348250071\n",
      "val loss: 0.20897219729423522\n",
      "Learning rate: 0.00010000\n",
      "acc train: 0.9699689716312057\n",
      "acc val: 0.9087196048632219\n",
      "-------------------------------------------------------------\n",
      "Epoch:106/120\n"
     ]
    },
    {
     "data": {
      "application/vnd.jupyter.widget-view+json": {
       "model_id": "fe7437ccfb424fc6b92b675e69da1aac",
       "version_major": 2,
       "version_minor": 0
      },
      "text/plain": [
       "  0%|          | 0/94 [00:00<?, ?it/s]"
      ]
     },
     "metadata": {},
     "output_type": "display_data"
    },
    {
     "name": "stdout",
     "output_type": "stream",
     "text": [
      "train loss: 0.13594292724132537\n",
      "val loss: 0.20878277071317036\n",
      "Learning rate: 0.00010000\n",
      "acc train: 0.9679188829787234\n",
      "acc val: 0.9020706686930091\n",
      "-------------------------------------------------------------\n",
      "Epoch 00106: reducing learning rate of group 0 to 1.0000e-05.\n",
      "Epoch:107/120\n"
     ]
    },
    {
     "data": {
      "application/vnd.jupyter.widget-view+json": {
       "model_id": "5689c910b1c04c68b00a4d5db972fc7d",
       "version_major": 2,
       "version_minor": 0
      },
      "text/plain": [
       "  0%|          | 0/94 [00:00<?, ?it/s]"
      ]
     },
     "metadata": {},
     "output_type": "display_data"
    },
    {
     "name": "stdout",
     "output_type": "stream",
     "text": [
      "train loss: 0.13654227737585703\n",
      "val loss: 0.20323600268363953\n",
      "Learning rate: 0.00001000\n",
      "acc train: 0.9691932624113476\n",
      "acc val: 0.9079122340425532\n",
      "LEARNING RATE HAS CHANGED!\n",
      "-------------------------------------------------------------\n",
      "Epoch:108/120\n"
     ]
    },
    {
     "data": {
      "application/vnd.jupyter.widget-view+json": {
       "model_id": "e32da0c4ea3f4ade8c5fd85d0a22f6e7",
       "version_major": 2,
       "version_minor": 0
      },
      "text/plain": [
       "  0%|          | 0/94 [00:00<?, ?it/s]"
      ]
     },
     "metadata": {},
     "output_type": "display_data"
    },
    {
     "name": "stdout",
     "output_type": "stream",
     "text": [
      "train loss: 0.1316444536447525\n",
      "val loss: 0.21221111166477202\n",
      "Learning rate: 0.00001000\n",
      "acc train: 0.9730718085106383\n",
      "acc val: 0.9063924772036475\n",
      "-------------------------------------------------------------\n",
      "Epoch:109/120\n"
     ]
    },
    {
     "data": {
      "application/vnd.jupyter.widget-view+json": {
       "model_id": "a299cb4a87ae4e9cadae6dd4e1de60a3",
       "version_major": 2,
       "version_minor": 0
      },
      "text/plain": [
       "  0%|          | 0/94 [00:00<?, ?it/s]"
      ]
     },
     "metadata": {},
     "output_type": "display_data"
    },
    {
     "name": "stdout",
     "output_type": "stream",
     "text": [
      "train loss: 0.12631152248382568\n",
      "val loss: 0.21449980926513673\n",
      "Learning rate: 0.00001000\n",
      "acc train: 0.9710771276595744\n",
      "acc val: 0.9013107902735563\n",
      "-------------------------------------------------------------\n",
      "Epoch:110/120\n"
     ]
    },
    {
     "data": {
      "application/vnd.jupyter.widget-view+json": {
       "model_id": "46fa25a04abf457bbd0f256efe75a635",
       "version_major": 2,
       "version_minor": 0
      },
      "text/plain": [
       "  0%|          | 0/94 [00:00<?, ?it/s]"
      ]
     },
     "metadata": {},
     "output_type": "display_data"
    },
    {
     "name": "stdout",
     "output_type": "stream",
     "text": [
      "train loss: 0.1349815359910329\n",
      "val loss: 0.21308527910709382\n",
      "Learning rate: 0.00001000\n",
      "acc train: 0.9701906028368795\n",
      "acc val: 0.9082446808510638\n",
      "-------------------------------------------------------------\n",
      "Epoch:111/120\n"
     ]
    },
    {
     "data": {
      "application/vnd.jupyter.widget-view+json": {
       "model_id": "46f18d48c4e746e785f914b4d746854a",
       "version_major": 2,
       "version_minor": 0
      },
      "text/plain": [
       "  0%|          | 0/94 [00:00<?, ?it/s]"
      ]
     },
     "metadata": {},
     "output_type": "display_data"
    },
    {
     "name": "stdout",
     "output_type": "stream",
     "text": [
      "train loss: 0.13281896730264028\n",
      "val loss: 0.20780731956164042\n",
      "Learning rate: 0.00001000\n",
      "acc train: 0.9715757978723404\n",
      "acc val: 0.913563829787234\n",
      "-------------------------------------------------------------\n",
      "Epoch:112/120\n"
     ]
    },
    {
     "data": {
      "application/vnd.jupyter.widget-view+json": {
       "model_id": "b0f2ef2b0bac416483d9507adedc6179",
       "version_major": 2,
       "version_minor": 0
      },
      "text/plain": [
       "  0%|          | 0/94 [00:00<?, ?it/s]"
      ]
     },
     "metadata": {},
     "output_type": "display_data"
    },
    {
     "name": "stdout",
     "output_type": "stream",
     "text": [
      "train loss: 0.1299887033700943\n",
      "val loss: 0.20972837241490683\n",
      "Learning rate: 0.00001000\n",
      "acc train: 0.9670323581560284\n",
      "acc val: 0.8984612462006079\n",
      "-------------------------------------------------------------\n",
      "Epoch:113/120\n"
     ]
    },
    {
     "data": {
      "application/vnd.jupyter.widget-view+json": {
       "model_id": "87822ba6c8514168841a435a5b66406f",
       "version_major": 2,
       "version_minor": 0
      },
      "text/plain": [
       "  0%|          | 0/94 [00:00<?, ?it/s]"
      ]
     },
     "metadata": {},
     "output_type": "display_data"
    },
    {
     "name": "stdout",
     "output_type": "stream",
     "text": [
      "train loss: 0.12848350421587626\n",
      "val loss: 0.20261641613642375\n",
      "Learning rate: 0.00001000\n",
      "acc train: 0.9741799645390071\n",
      "acc val: 0.8993636018237082\n",
      "-------------------------------------------------------------\n",
      "Epoch:114/120\n"
     ]
    },
    {
     "data": {
      "application/vnd.jupyter.widget-view+json": {
       "model_id": "bff320015466468b99a5373e1f7d8e75",
       "version_major": 2,
       "version_minor": 0
      },
      "text/plain": [
       "  0%|          | 0/94 [00:00<?, ?it/s]"
      ]
     },
     "metadata": {},
     "output_type": "display_data"
    },
    {
     "name": "stdout",
     "output_type": "stream",
     "text": [
      "train loss: 0.1342000142733256\n",
      "val loss: 0.2190963464975357\n",
      "Learning rate: 0.00001000\n",
      "acc train: 0.969248670212766\n",
      "acc val: 0.8987462006079028\n",
      "-------------------------------------------------------------\n",
      "Epoch:115/120\n"
     ]
    },
    {
     "data": {
      "application/vnd.jupyter.widget-view+json": {
       "model_id": "c351930e675f41a687d4d12f55d9869d",
       "version_major": 2,
       "version_minor": 0
      },
      "text/plain": [
       "  0%|          | 0/94 [00:00<?, ?it/s]"
      ]
     },
     "metadata": {},
     "output_type": "display_data"
    },
    {
     "name": "stdout",
     "output_type": "stream",
     "text": [
      "train loss: 0.13457337681452433\n",
      "val loss: 0.21489464290936788\n",
      "Learning rate: 0.00001000\n",
      "acc train: 0.9686945921985816\n",
      "acc val: 0.9073423252279635\n",
      "-------------------------------------------------------------\n",
      "Epoch 00115: reducing learning rate of group 0 to 1.0000e-06.\n",
      "Epoch:116/120\n"
     ]
    },
    {
     "data": {
      "application/vnd.jupyter.widget-view+json": {
       "model_id": "599fc2586a4d4212abf5845f5ce461d5",
       "version_major": 2,
       "version_minor": 0
      },
      "text/plain": [
       "  0%|          | 0/94 [00:00<?, ?it/s]"
      ]
     },
     "metadata": {},
     "output_type": "display_data"
    },
    {
     "name": "stdout",
     "output_type": "stream",
     "text": [
      "train loss: 0.12420788327852884\n",
      "val loss: 0.20848475182056428\n",
      "Learning rate: 0.00000100\n",
      "acc train: 0.9744015957446809\n",
      "acc val: 0.9050626899696049\n",
      "LEARNING RATE HAS CHANGED!\n",
      "-------------------------------------------------------------\n",
      "Epoch:117/120\n"
     ]
    },
    {
     "data": {
      "application/vnd.jupyter.widget-view+json": {
       "model_id": "03e38ed9aaba40ce9056af0c1c07b859",
       "version_major": 2,
       "version_minor": 0
      },
      "text/plain": [
       "  0%|          | 0/94 [00:00<?, ?it/s]"
      ]
     },
     "metadata": {},
     "output_type": "display_data"
    },
    {
     "name": "stdout",
     "output_type": "stream",
     "text": [
      "train loss: 0.12868470108509064\n",
      "val loss: 0.21369548002878824\n",
      "Learning rate: 0.00000100\n",
      "acc train: 0.9689162234042553\n",
      "acc val: 0.901358282674772\n",
      "-------------------------------------------------------------\n",
      "Epoch:118/120\n"
     ]
    },
    {
     "data": {
      "application/vnd.jupyter.widget-view+json": {
       "model_id": "33cfbdd1c7f141ddb70fa3eb9375124b",
       "version_major": 2,
       "version_minor": 0
      },
      "text/plain": [
       "  0%|          | 0/94 [00:00<?, ?it/s]"
      ]
     },
     "metadata": {},
     "output_type": "display_data"
    },
    {
     "name": "stdout",
     "output_type": "stream",
     "text": [
      "train loss: 0.13523921783765158\n",
      "val loss: 0.21297263443470002\n",
      "Learning rate: 0.00000100\n",
      "acc train: 0.9746232269503545\n",
      "acc val: 0.9031155015197568\n",
      "-------------------------------------------------------------\n",
      "Epoch:119/120\n"
     ]
    },
    {
     "data": {
      "application/vnd.jupyter.widget-view+json": {
       "model_id": "5212704df8384fb58f42dd9e45656c2f",
       "version_major": 2,
       "version_minor": 0
      },
      "text/plain": [
       "  0%|          | 0/94 [00:00<?, ?it/s]"
      ]
     },
     "metadata": {},
     "output_type": "display_data"
    },
    {
     "name": "stdout",
     "output_type": "stream",
     "text": [
      "train loss: 0.12839624698956809\n",
      "val loss: 0.20803495879968006\n",
      "Learning rate: 0.00000100\n",
      "acc train: 0.9709663120567376\n",
      "acc val: 0.9059650455927052\n",
      "-------------------------------------------------------------\n",
      "Epoch:120/120\n"
     ]
    },
    {
     "data": {
      "application/vnd.jupyter.widget-view+json": {
       "model_id": "604bdf67d9624ac7acdf3e44d849eb06",
       "version_major": 2,
       "version_minor": 0
      },
      "text/plain": [
       "  0%|          | 0/94 [00:00<?, ?it/s]"
      ]
     },
     "metadata": {},
     "output_type": "display_data"
    },
    {
     "name": "stdout",
     "output_type": "stream",
     "text": [
      "train loss: 0.13050558439890544\n",
      "val loss: 0.20668043200174968\n",
      "Learning rate: 0.00000100\n",
      "acc train: 0.976063829787234\n",
      "acc val: 0.9092895136778116\n",
      "-------------------------------------------------------------\n",
      "Best Validation loss 0.1961624682744344\n",
      "Best Train loss 0.12420788327852884\n"
     ]
    }
   ],
   "source": [
    "total_train_loss, total_val_loss, total_train_acc, total_val_acc = train_nn(num_epochs=120)"
   ]
  },
  {
   "cell_type": "code",
   "execution_count": 19,
   "id": "5d16cf72",
   "metadata": {},
   "outputs": [
    {
     "data": {
      "image/png": "[encoded data removed]",
      "text/plain": [
       "<Figure size 432x288 with 1 Axes>"
      ]
     },
     "metadata": {
      "needs_background": "light"
     },
     "output_type": "display_data"
    }
   ],
   "source": [
    "plt.plot(np.arange(1,len(total_train_loss)+1), total_train_loss,label = 'Train Loss')\n",
    "plt.plot(np.arange(1,len(total_val_loss)+1),total_val_loss, label= 'Validation loss')\n",
    "plt.legend()\n",
    "plt.show()"
   ]
  },
  {
   "cell_type": "code",
   "execution_count": 20,
   "id": "6a9b0b57",
   "metadata": {},
   "outputs": [
    {
     "data": {
      "image/png": "[encoded data removed]",
      "text/plain": [
       "<Figure size 432x288 with 1 Axes>"
      ]
     },
     "metadata": {
      "needs_background": "light"
     },
     "output_type": "display_data"
    }
   ],
   "source": [
    "plt.plot(np.arange(1,len(total_train_acc)+1), total_train_acc, label = 'Train Acc')\n",
    "plt.plot(np.arange(1,len(total_val_acc)+1), total_val_acc, label = 'Validation Acc')\n",
    "plt.legend()\n",
    "plt.show()"
   ]
  },
  {
   "cell_type": "code",
   "execution_count": 21,
   "id": "cec6b7e2",
   "metadata": {},
   "outputs": [
    {
     "data": {
      "image/png": "[encoded data removed]",
      "text/plain": [
       "<Figure size 432x288 with 1 Axes>"
      ]
     },
     "metadata": {
      "needs_background": "light"
     },
     "output_type": "display_data"
    }
   ],
   "source": [
    "plt.plot(np.arange(1,len(total_train_acc)+1), total_train_acc, label = 'Train Acc')\n",
    "plt.plot(np.arange(1,len(total_val_acc)+1), total_val_acc, label = 'Validation Acc')\n",
    "plt.plot(np.arange(1,len(total_train_loss)+1), total_train_loss,label = 'Train Loss')\n",
    "plt.plot(np.arange(1,len(total_val_loss)+1),total_val_loss, label= 'Validation loss')\n",
    "plt.legend()\n",
    "plt.show()"
   ]
  },
  {
   "cell_type": "markdown",
   "id": "3a571112",
   "metadata": {},
   "source": [
    "### Test Accuracy"
   ]
  },
  {
   "cell_type": "code",
   "execution_count": 22,
   "id": "29a4c778",
   "metadata": {},
   "outputs": [
    {
     "data": {
      "application/vnd.jupyter.widget-view+json": {
       "model_id": "a97a821f8a75463691321428512f66f7",
       "version_major": 2,
       "version_minor": 0
      },
      "text/plain": [
       "  0%|          | 0/3000 [00:00<?, ?it/s]"
      ]
     },
     "metadata": {},
     "output_type": "display_data"
    }
   ],
   "source": [
    "\n",
    "# define batch size for testing\n",
    "test_batch_size = 64\n",
    "# create dataloader for validation set\n",
    "test_triplet_dataset = FaceDataset(df = val_df, num_sample = 3000)\n",
    "test_triplet_dataloader = DataLoader(test_triplet_dataset, batch_size=test_batch_size, shuffle=True, pin_memory=True)"
   ]
  },
  {
   "cell_type": "code",
   "execution_count": 23,
   "id": "1bd1254c",
   "metadata": {},
   "outputs": [
    {
     "data": {
      "application/vnd.jupyter.widget-view+json": {
       "model_id": "776cb706467f4747b30f8798acbef54c",
       "version_major": 2,
       "version_minor": 0
      },
      "text/plain": [
       "  0%|          | 0/47 [00:00<?, ?it/s]"
      ]
     },
     "metadata": {},
     "output_type": "display_data"
    },
    {
     "name": "stdout",
     "output_type": "stream",
     "text": [
      "Train Accuracy: 0.931420972644377\n"
     ]
    }
   ],
   "source": [
    "# define path\n",
    "weights_path = './weights/best_triplet.pth'\n",
    "\n",
    "triplet_model.to(device)\n",
    "# load model weights\n",
    "triplet_model.load_state_dict(torch.load(weights_path))\n",
    "\n",
    "overall_acc = list()\n",
    "\n",
    "# set mode for testing\n",
    "triplet_model.eval()\n",
    "with torch.no_grad():\n",
    "    for anchor_img, pos_img, neg_img in tqdm(test_triplet_dataloader):\n",
    "\n",
    "        threshold_list = np.full(anchor_img.shape[0], model_config['margin'])\n",
    "        is_same = np.full(anchor_img.shape[0], 1)\n",
    "\n",
    "        pos_dist_list = list()\n",
    "        model_output = list()\n",
    "\n",
    "        anchor_img = anchor_img.to(device)\n",
    "        pos_img = pos_img.to(device)\n",
    "        neg_img = neg_img.to(device)\n",
    "        # compute the out in eval mode\n",
    "        anchor_img, pos_img, neg_img = triplet_model(anchor_img, pos_img, neg_img)\n",
    "        # compute loss in eval mode\n",
    "        loss = criterion(anchor_img, pos_img, neg_img)\n",
    "\n",
    "        distance_positive = (anchor_img - pos_img).pow(2).sum(1)\n",
    "        distance_negative = (anchor_img - neg_img).pow(2).sum(1)\n",
    "        # print((distance_negative-distance_positive>0).sum()*1.0 / distance_negative.size()[0])\n",
    "        # print(distance_positive.cpu().data.numpy())\n",
    "        acc = calculate_accuracy(threshold_list,distance_positive.cpu().data.numpy(),is_same)\n",
    "        overall_acc.append(acc)\n",
    "    \n",
    "print(f'Train Accuracy: {np.array(overall_acc).mean()}')\n"
   ]
  },
  {
   "cell_type": "code",
   "execution_count": 24,
   "id": "99f9ce39",
   "metadata": {},
   "outputs": [],
   "source": [
    "torch.cuda.empty_cache()"
   ]
  },
  {
   "cell_type": "code",
   "execution_count": null,
   "id": "4a3895a9",
   "metadata": {},
   "outputs": [],
   "source": []
  }
 ],
 "metadata": {
  "kernelspec": {
   "display_name": "Python 3 (ipykernel)",
   "language": "python",
   "name": "python3"
  },
  "language_info": {
   "codemirror_mode": {
    "name": "ipython",
    "version": 3
   },
   "file_extension": ".py",
   "mimetype": "text/x-python",
   "name": "python",
   "nbconvert_exporter": "python",
   "pygments_lexer": "ipython3",
   "version": "3.9.0"
  }
 },
 "nbformat": 4,
 "nbformat_minor": 5
}
