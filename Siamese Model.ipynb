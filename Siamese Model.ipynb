{
 "cells": [
  {
   "cell_type": "code",
   "execution_count": 1,
   "id": "d0cefa12",
   "metadata": {},
   "outputs": [],
   "source": [
    "# import libaries\n",
    "\n",
    "import numpy as np\n",
    "import torch\n",
    "import random\n",
    "import torch.nn as nn\n",
    "import sys\n",
    "import pandas as pd\n",
    "from PIL import Image\n",
    "\n",
    "from tqdm.notebook import tqdm\n",
    "import os\n",
    "import matplotlib.pyplot as plt\n",
    "from torchvision import transforms\n",
    "from torch import optim\n",
    "import torch.nn.functional as F\n",
    "from torch.utils.data import Dataset, DataLoader\n",
    "\n",
    "from torchinfo import summary"
   ]
  },
  {
   "cell_type": "code",
   "execution_count": 4,
   "id": "70e92287",
   "metadata": {},
   "outputs": [],
   "source": [
    "import shutil\n",
    "\n",
    "shutil.rmtree(\"E:\\\\JupyterNotebooks\\\\7zE815C1DCF\\\\vggface2_224\")"
   ]
  },
  {
   "cell_type": "code",
   "execution_count": 3,
   "id": "022d45fb",
   "metadata": {},
   "outputs": [
    {
     "name": "stdout",
     "output_type": "stream",
     "text": [
      "Python version: 3.9.0 (tags/v3.9.0:9cf6752, Oct  5 2020, 15:34:40) [MSC v.1927 64 bit (AMD64)]\n",
      "CUDA Available: True\n",
      "GPU Name: NVIDIA GeForce RTX 2070\n",
      "GPU Properties:\n",
      " _CudaDeviceProperties(name='NVIDIA GeForce RTX 2070', major=7, minor=5, total_memory=8191MB, multi_processor_count=36)\n",
      "Sun Jan 29 16:00:18 2023       \n",
      "+-----------------------------------------------------------------------------+\n",
      "| NVIDIA-SMI 526.98       Driver Version: 526.98       CUDA Version: 12.0     |\n",
      "|-------------------------------+----------------------+----------------------+\n",
      "| GPU  Name            TCC/WDDM | Bus-Id        Disp.A | Volatile Uncorr. ECC |\n",
      "| Fan  Temp  Perf  Pwr:Usage/Cap|         Memory-Usage | GPU-Util  Compute M. |\n",
      "|                               |                      |               MIG M. |\n",
      "|===============================+======================+======================|\n",
      "|   0  NVIDIA GeForce ... WDDM  | 00000000:01:00.0  On |                  N/A |\n",
      "|  0%   46C    P2    55W / 175W |    317MiB /  8192MiB |      1%      Default |\n",
      "|                               |                      |                  N/A |\n",
      "+-------------------------------+----------------------+----------------------+\n",
      "                                                                               \n",
      "+-----------------------------------------------------------------------------+\n",
      "| Processes:                                                                  |\n",
      "|  GPU   GI   CI        PID   Type   Process name                  GPU Memory |\n",
      "|        ID   ID                                                   Usage      |\n",
      "|=============================================================================|\n",
      "|    0   N/A  N/A      7088    C+G   ...5n1h2txyewy\\SearchApp.exe    N/A      |\n",
      "|    0   N/A  N/A      7768    C+G   C:\\Windows\\explorer.exe         N/A      |\n",
      "|    0   N/A  N/A      9524    C+G   ...artMenuExperienceHost.exe    N/A      |\n",
      "|    0   N/A  N/A      9712      C   ...ython\\Python39\\python.exe    N/A      |\n",
      "|    0   N/A  N/A      9968    C+G   ...perience\\NVIDIA Share.exe    N/A      |\n",
      "|    0   N/A  N/A     12332    C+G   ...e\\PhoneExperienceHost.exe    N/A      |\n",
      "|    0   N/A  N/A     12532    C+G   ...2txyewy\\TextInputHost.exe    N/A      |\n",
      "|    0   N/A  N/A     13008    C+G   ...8bbwe\\WindowsTerminal.exe    N/A      |\n",
      "+-----------------------------------------------------------------------------+\n"
     ]
    }
   ],
   "source": [
    "print('Python version:', sys.version)\n",
    "print('CUDA Available:', torch.cuda.is_available())\n",
    "\n",
    "if torch.cuda.is_available():\n",
    "    print('GPU Name:', torch.cuda.get_device_name())\n",
    "    print('GPU Properties:\\n', torch.cuda.get_device_properties('cuda'))\n",
    "    device = \"cuda\"\n",
    "    torch.cuda.set_per_process_memory_fraction(0.95, 0)\n",
    "    torch.cuda.empty_cache()\n",
    "else:\n",
    "    print(\"Cuda is not available, please use cpu instead\")\n",
    "    device = \"cpu\"\n",
    "!nvidia-smi"
   ]
  },
  {
   "cell_type": "code",
   "execution_count": 4,
   "id": "d03cfbb9",
   "metadata": {},
   "outputs": [],
   "source": [
    "seed = 41\n",
    "# Define custom dataset\n",
    "class FaceDataset(Dataset):\n",
    "    def __init__(self, training_csv = None, training_dir = None, transform = None):\n",
    "        # set random seed for FaceDataset\n",
    "        np.random.seed(seed)\n",
    "        random.seed(seed)\n",
    "        # create contructors\n",
    "        self.unique_img_name = None\n",
    "        self.data = dict()\n",
    "        self.image = list()\n",
    "        self.identities = list()\n",
    "        # read csv file\n",
    "        self.train_df = pd.read_csv(training_csv)\n",
    "        #get the length of entire dataset\n",
    "        self.len_train = len(self.train_df)\n",
    "        # set the transformation\n",
    "        self.transform = transform\n",
    "        # set the train directory\n",
    "        self.train_dir = training_dir\n",
    "        # group each identity together and create list of each identity imgs\n",
    "        self.train_df = self.train_df.groupby('identity')['filename'].apply(list).reset_index().rename({'filename': 'filenames'}, axis = 1)\n",
    "        # load imgs\n",
    "        self.load_imgs(self.train_df)\n",
    "\n",
    "    def __len__(self):\n",
    "        return len(self.image)\n",
    "\n",
    "    # get each pair of images -> 1: same identity, 0: different identity \n",
    "    # if index is even -> same pair \n",
    "    # if index is odd -> random identity\n",
    "    def __getitem__(self, idx):\n",
    "        img1 = None \n",
    "        img2 = None\n",
    "        label = None\n",
    "        if idx % 2 == 0:\n",
    "            # random pick the identity\n",
    "            random_identity = np.random.choice(self.unique_img_name, size = 1)[0]\n",
    "            random_img = random.sample(self.data[random_identity], 2)\n",
    "            img1 = random_img[0]\n",
    "            img2 = random_img[1]\n",
    "            label = 1\n",
    "        else:\n",
    "            random_identity = np.random.choice(self.unique_img_name, size = 2)\n",
    "            img1 = random.choice(self.data[random_identity[0]])\n",
    "            img2 = random.choice(self.data[random_identity[1]])\n",
    "            label = 0\n",
    "#         return self.train_df\n",
    "        return img1, img2, torch.from_numpy(np.array([label], dtype = np.float64))\n",
    "\n",
    "    def load_imgs(self, df):\n",
    "        # iterate thought each row\n",
    "        for _, row in df.iterrows():\n",
    "            # get identity of each row\n",
    "            row_identities = row['identity']\n",
    "            # check if not identity is in self.data\n",
    "            if row_identities not in self.data:\n",
    "                # create key in self.data as new identity\n",
    "                self.data[row_identities] = list()\n",
    "            # loop imgs in each identity\n",
    "            for img_name in row['filenames']:\n",
    "                # concatenate the directoru and image name\n",
    "                path_to_image = self.train_dir+img_name\n",
    "                # open image and convert to RGB\n",
    "                img = Image.open(path_to_image).convert('RGB')\n",
    "                # check img transformations\n",
    "                if self.transform == None:\n",
    "                    # self.transform is not define, convert the img to tensor\n",
    "                    convert_tensor = transforms.ToTensor()\n",
    "                    img = convert_tensor(img)\n",
    "                else:\n",
    "                    # transforms img\n",
    "                    img = self.transform(img)\n",
    "                    \n",
    "                self.data[row_identities].append(img)\n",
    "                self.image.append(img)\n",
    "                self.identities.append(img_name)\n",
    "                \n",
    "        self.unique_img_name = np.array(list(self.data.keys()))\n",
    "\n",
    "    def rotate_imgs(self, path_to_img):\n",
    "        img = Image.open(path_to_img).convert('RGB')\n",
    "        is_rotate = random.choice([True,False])\n",
    "        angle_rotation = [90,180,270,360]\n",
    "        if is_rotate:\n",
    "            degree = random.choice(angle_rotation)\n",
    "            img = img.rotate(degree)\n",
    "        return img\n"
   ]
  },
  {
   "cell_type": "markdown",
   "id": "7e85575a",
   "metadata": {},
   "source": [
    "# Preperation of dataset"
   ]
  },
  {
   "cell_type": "code",
   "execution_count": 5,
   "id": "7799a1c1",
   "metadata": {},
   "outputs": [],
   "source": [
    "img_size = 224\n",
    "train_transform = transforms.Compose([\n",
    "    transforms.Resize((256, 256)),\n",
    "    transforms.CenterCrop(img_size),\n",
    "    transforms.RandomHorizontalFlip(p=0.5),\n",
    "    transforms.ToTensor(),\n",
    "    transforms.Normalize(mean=[0.5, 0.5, 0.5],\n",
    "                         std=[0.5, 0.5, 0.5])\n",
    "])\n",
    "\n",
    "val_transform = transforms.Compose([\n",
    "    transforms.Resize((256, 256)),\n",
    "    transforms.CenterCrop(img_size),\n",
    "    transforms.ToTensor(),\n",
    "    transforms.Normalize(mean=[0.5, 0.5, 0.5],\n",
    "                         std=[0.5, 0.5, 0.5])\n",
    "])\n",
    "\n",
    "train_batch_size = 32\n",
    "val_batch_size = 32\n",
    "\n",
    "train_siamese_dataset = FaceDataset(training_csv = \"./large_prepared_data/train/label_df.csv\", training_dir=\"./large_prepared_data/train/\", transform = train_transform)\n",
    "train_siamese_dataloader = DataLoader(train_siamese_dataset, batch_size=train_batch_size, shuffle=True, pin_memory=True)\n",
    "\n",
    "val_siamese_dataset = FaceDataset(training_csv = \"./large_prepared_data/val/label_df.csv\", training_dir=\"./large_prepared_data/val/\", transform = val_transform)\n",
    "val_siamese_dataloader = DataLoader(val_siamese_dataset, batch_size=val_batch_size, shuffle=True, pin_memory=True)"
   ]
  },
  {
   "cell_type": "code",
   "execution_count": 7,
   "id": "b64183ac",
   "metadata": {},
   "outputs": [
    {
     "data": {
      "text/plain": [
       "302"
      ]
     },
     "execution_count": 7,
     "metadata": {},
     "output_type": "execute_result"
    }
   ],
   "source": [
    "val_siamese_dataset.__len__()"
   ]
  },
  {
   "cell_type": "markdown",
   "id": "0ec1c881",
   "metadata": {},
   "source": [
    "# Siamese Network"
   ]
  },
  {
   "cell_type": "code",
   "execution_count": 8,
   "id": "89e7a3cc",
   "metadata": {},
   "outputs": [],
   "source": [
    "from torchvision.models import resnet18,resnet50\n",
    "\n",
    "resnet18 = resnet18().children()\n",
    "resnet18 = list(resnet18)[:-1]"
   ]
  },
  {
   "cell_type": "code",
   "execution_count": 10,
   "id": "13fb6db9",
   "metadata": {},
   "outputs": [],
   "source": [
    "class SiameseNetwork(nn.Module):\n",
    "    def __init__(self):\n",
    "        super().__init__()\n",
    "        self.layers = nn.Sequential(\n",
    "            *(resnet18),\n",
    "            nn.Flatten(),\n",
    "#             nn.Linear(2048, 512),\n",
    "            # nn.ReLU(),\n",
    "            # nn.Linear(1024, 512),\n",
    "            nn.PReLU(),\n",
    "            nn.Dropout(0.5),\n",
    "            nn.Linear(512, 256),\n",
    "            nn.PReLU(),\n",
    "            nn.Dropout(0.5),\n",
    "            nn.Linear(256, 128),\n",
    "            nn.PReLU()\n",
    "        )\n",
    "    def forward_once(self, input):\n",
    "        output = self.layers(input)\n",
    "        return output\n",
    "\n",
    "    def forward(self, input1, input2):\n",
    "        output1 = self.forward_once(input1)\n",
    "        output2 = self.forward_once(input2)\n",
    "        return output1, output2"
   ]
  },
  {
   "cell_type": "code",
   "execution_count": 11,
   "id": "aee11b9c",
   "metadata": {},
   "outputs": [],
   "source": [
    "siamese_model = SiameseNetwork()"
   ]
  },
  {
   "cell_type": "code",
   "execution_count": 12,
   "id": "bbba86d3",
   "metadata": {},
   "outputs": [
    {
     "data": {
      "text/plain": [
       "======================================================================\n",
       "Layer (type:depth-idx)                        Param #\n",
       "======================================================================\n",
       "SiameseNetwork                                --\n",
       "├─Sequential: 1-1                             --\n",
       "│    └─Conv2d: 2-1                            9,408\n",
       "│    └─BatchNorm2d: 2-2                       128\n",
       "│    └─ReLU: 2-3                              --\n",
       "│    └─MaxPool2d: 2-4                         --\n",
       "│    └─Sequential: 2-5                        --\n",
       "│    │    └─BasicBlock: 3-1                   73,984\n",
       "│    │    └─BasicBlock: 3-2                   73,984\n",
       "│    └─Sequential: 2-6                        --\n",
       "│    │    └─BasicBlock: 3-3                   230,144\n",
       "│    │    └─BasicBlock: 3-4                   295,424\n",
       "│    └─Sequential: 2-7                        --\n",
       "│    │    └─BasicBlock: 3-5                   919,040\n",
       "│    │    └─BasicBlock: 3-6                   1,180,672\n",
       "│    └─Sequential: 2-8                        --\n",
       "│    │    └─BasicBlock: 3-7                   3,673,088\n",
       "│    │    └─BasicBlock: 3-8                   4,720,640\n",
       "│    └─AdaptiveAvgPool2d: 2-9                 --\n",
       "│    └─Flatten: 2-10                          --\n",
       "│    └─PReLU: 2-11                            1\n",
       "│    └─Dropout: 2-12                          --\n",
       "│    └─Linear: 2-13                           131,328\n",
       "│    └─PReLU: 2-14                            1\n",
       "│    └─Dropout: 2-15                          --\n",
       "│    └─Linear: 2-16                           32,896\n",
       "│    └─PReLU: 2-17                            1\n",
       "======================================================================\n",
       "Total params: 11,340,739\n",
       "Trainable params: 11,340,739\n",
       "Non-trainable params: 0\n",
       "======================================================================"
      ]
     },
     "execution_count": 12,
     "metadata": {},
     "output_type": "execute_result"
    }
   ],
   "source": [
    "summary(siamese_model)"
   ]
  },
  {
   "cell_type": "code",
   "execution_count": 13,
   "id": "2d787fc7",
   "metadata": {},
   "outputs": [
    {
     "name": "stdout",
     "output_type": "stream",
     "text": [
      "===============================================================================================\n",
      "Layer (type:depth-idx)                        Output Shape              Param #\n",
      "===============================================================================================\n",
      "SiameseNetwork                                [32, 128]                 --\n",
      "├─Sequential: 1-1                             [32, 128]                 --\n",
      "│    └─Conv2d: 2-1                            [32, 64, 112, 112]        9,408\n",
      "│    └─BatchNorm2d: 2-2                       [32, 64, 112, 112]        128\n",
      "│    └─ReLU: 2-3                              [32, 64, 112, 112]        --\n",
      "│    └─MaxPool2d: 2-4                         [32, 64, 56, 56]          --\n",
      "│    └─Sequential: 2-5                        [32, 64, 56, 56]          --\n",
      "│    │    └─BasicBlock: 3-1                   [32, 64, 56, 56]          73,984\n",
      "│    │    └─BasicBlock: 3-2                   [32, 64, 56, 56]          73,984\n",
      "│    └─Sequential: 2-6                        [32, 128, 28, 28]         --\n",
      "│    │    └─BasicBlock: 3-3                   [32, 128, 28, 28]         230,144\n",
      "│    │    └─BasicBlock: 3-4                   [32, 128, 28, 28]         295,424\n",
      "│    └─Sequential: 2-7                        [32, 256, 14, 14]         --\n",
      "│    │    └─BasicBlock: 3-5                   [32, 256, 14, 14]         919,040\n",
      "│    │    └─BasicBlock: 3-6                   [32, 256, 14, 14]         1,180,672\n",
      "│    └─Sequential: 2-8                        [32, 512, 7, 7]           --\n",
      "│    │    └─BasicBlock: 3-7                   [32, 512, 7, 7]           3,673,088\n",
      "│    │    └─BasicBlock: 3-8                   [32, 512, 7, 7]           4,720,640\n",
      "│    └─AdaptiveAvgPool2d: 2-9                 [32, 512, 1, 1]           --\n",
      "│    └─Flatten: 2-10                          [32, 512]                 --\n",
      "│    └─PReLU: 2-11                            [32, 512]                 1\n",
      "│    └─Dropout: 2-12                          [32, 512]                 --\n",
      "│    └─Linear: 2-13                           [32, 256]                 131,328\n",
      "│    └─PReLU: 2-14                            [32, 256]                 1\n",
      "│    └─Dropout: 2-15                          [32, 256]                 --\n",
      "│    └─Linear: 2-16                           [32, 128]                 32,896\n",
      "│    └─PReLU: 2-17                            [32, 128]                 1\n",
      "├─Sequential: 1-2                             [32, 128]                 (recursive)\n",
      "│    └─Conv2d: 2-18                           [32, 64, 112, 112]        (recursive)\n",
      "│    └─BatchNorm2d: 2-19                      [32, 64, 112, 112]        (recursive)\n",
      "│    └─ReLU: 2-20                             [32, 64, 112, 112]        --\n",
      "│    └─MaxPool2d: 2-21                        [32, 64, 56, 56]          --\n",
      "│    └─Sequential: 2-22                       [32, 64, 56, 56]          (recursive)\n",
      "│    │    └─BasicBlock: 3-9                   [32, 64, 56, 56]          (recursive)\n",
      "│    │    └─BasicBlock: 3-10                  [32, 64, 56, 56]          (recursive)\n",
      "│    └─Sequential: 2-23                       [32, 128, 28, 28]         (recursive)\n",
      "│    │    └─BasicBlock: 3-11                  [32, 128, 28, 28]         (recursive)\n",
      "│    │    └─BasicBlock: 3-12                  [32, 128, 28, 28]         (recursive)\n",
      "│    └─Sequential: 2-24                       [32, 256, 14, 14]         (recursive)\n",
      "│    │    └─BasicBlock: 3-13                  [32, 256, 14, 14]         (recursive)\n",
      "│    │    └─BasicBlock: 3-14                  [32, 256, 14, 14]         (recursive)\n",
      "│    └─Sequential: 2-25                       [32, 512, 7, 7]           (recursive)\n",
      "│    │    └─BasicBlock: 3-15                  [32, 512, 7, 7]           (recursive)\n",
      "│    │    └─BasicBlock: 3-16                  [32, 512, 7, 7]           (recursive)\n",
      "│    └─AdaptiveAvgPool2d: 2-26                [32, 512, 1, 1]           --\n",
      "│    └─Flatten: 2-27                          [32, 512]                 --\n",
      "│    └─PReLU: 2-28                            [32, 512]                 (recursive)\n",
      "│    └─Dropout: 2-29                          [32, 512]                 --\n",
      "│    └─Linear: 2-30                           [32, 256]                 (recursive)\n",
      "│    └─PReLU: 2-31                            [32, 256]                 (recursive)\n",
      "│    └─Dropout: 2-32                          [32, 256]                 --\n",
      "│    └─Linear: 2-33                           [32, 128]                 (recursive)\n",
      "│    └─PReLU: 2-34                            [32, 128]                 (recursive)\n",
      "===============================================================================================\n",
      "Total params: 11,340,739\n",
      "Trainable params: 11,340,739\n",
      "Non-trainable params: 0\n",
      "Total mult-adds (G): 116.08\n",
      "===============================================================================================\n",
      "Input size (MB): 38.54\n",
      "Forward/backward pass size (MB): 1271.99\n",
      "Params size (MB): 45.36\n",
      "Estimated Total Size (MB): 1355.89\n",
      "===============================================================================================\n"
     ]
    }
   ],
   "source": [
    "print(summary(siamese_model, input_size=[(32,3,224,224),(32,3,224,224)]))"
   ]
  },
  {
   "cell_type": "code",
   "execution_count": 14,
   "id": "69562b44",
   "metadata": {},
   "outputs": [],
   "source": [
    "class ContrastiveLoss(torch.nn.Module):\n",
    "    # TODO 6: implement the contrastive loss\n",
    "    def __init__(self, margin):\n",
    "        super().__init__()\n",
    "        self.margin = margin\n",
    "\n",
    "    def forward(self, output1, output2, label):\n",
    "        distance = F.pairwise_distance(output1, output2).view((-1, 1))\n",
    "        loss_contrastive = torch.mean((distance * label) + (torch.relu(self.margin - distance) * ((label + 1) % 2)))\n",
    "        return loss_contrastive"
   ]
  },
  {
   "cell_type": "code",
   "execution_count": 15,
   "id": "cc16e92c",
   "metadata": {},
   "outputs": [],
   "source": [
    "siamese_margin = 1.2\n",
    "siamese_criterion = ContrastiveLoss(margin=siamese_margin)"
   ]
  },
  {
   "cell_type": "code",
   "execution_count": 19,
   "id": "94a3dfbe",
   "metadata": {},
   "outputs": [],
   "source": [
    "siamese_optimizer = optim.Adam(siamese_model.parameters(), lr=1e-4)\n",
    "siamese_scheduler = optim.lr_scheduler.ReduceLROnPlateau(siamese_optimizer, 'min', patience=2, factor=0.01, min_lr=1e-8, threshold=1e-1, verbose=True)"
   ]
  },
  {
   "cell_type": "code",
   "execution_count": 20,
   "id": "1bf23024",
   "metadata": {},
   "outputs": [],
   "source": [
    "def train_with_val(load_weight_path = None, save_weight_path = None, load_weight = False, num_epochs = 200):\n",
    "    # throw model to compute in the device\n",
    "    siamese_model.to(device=device)\n",
    "    total_train_loss = list()\n",
    "    total_val_loss = list()\n",
    "    best_val_loss = 0\n",
    "    best_train_loss = 0\n",
    "    previous_lr = 0\n",
    "\n",
    "    # load weight\n",
    "    if bool(load_weight_path) & load_weight:\n",
    "        siamese_model.load_state_dict(torch.load(load_weight_path))\n",
    "        print('Congratulations, Weight has been loaded!')\n",
    "\n",
    "    # iterate though each epoch\n",
    "    for epoch in tqdm(range(num_epochs)):\n",
    "        print(f'Epoch:{epoch+1}/{num_epochs}')\n",
    "        # set model to train mode\n",
    "        siamese_model.train()\n",
    "        epoch_train_loss = list()\n",
    "        train_loss = 0\n",
    "\n",
    "        # switch to train mode\n",
    "        siamese_model.train()\n",
    "        with torch.set_grad_enabled(True): \n",
    "            # loop though each item in dataloader\n",
    "            for img1, img2, label in tqdm(train_siamese_dataloader):\n",
    "                # throw img to compute in the device\n",
    "                img1 = img1.to(device)\n",
    "                img2 = img2.to(device)\n",
    "                label = label.to(device)\n",
    "                # clear gradient to prevent gradient vanish\n",
    "                siamese_optimizer.zero_grad()\n",
    "                # train model\n",
    "                output1, output2 = siamese_model(img1, img2)\n",
    "                # compute loss from criterion\n",
    "                loss = siamese_criterion(output1, output2, label)\n",
    "                # backward propagate\n",
    "                loss.backward()\n",
    "                # update parameters\n",
    "                siamese_optimizer.step()\n",
    "                # append train loss to epoch_train_loss\n",
    "                train_loss += loss.item() * img1.size(0)\n",
    "\n",
    "        # calculate loss\n",
    "        current_train_loss = train_loss / len(train_siamese_dataloader.sampler)\n",
    "        total_train_loss.append(current_train_loss)\n",
    "\n",
    "        # switch mode to eval\n",
    "        siamese_model.eval()\n",
    "        with torch.no_grad():\n",
    "            val_loss = 0\n",
    "            for img1, img2, label in val_siamese_dataloader:\n",
    "                # throw img to compute in the device\n",
    "                img1 = img1.to(device)\n",
    "                img2 = img2.to(device)\n",
    "                label = label.to(device)\n",
    "                # clear gradient to prevent gradient vanish\n",
    "                siamese_optimizer.zero_grad()\n",
    "                # compute the out in eval mode\n",
    "                output1, output2 = siamese_model(img1, img2)\n",
    "                # compute loss in eval mode\n",
    "                loss = siamese_criterion(output1, output2, label)\n",
    "                # calculate loss for each feature\n",
    "                val_loss += loss.item()* img1.size(0)\n",
    "                # calculate loss for each batch\n",
    "        current_val_loss = val_loss / len(val_siamese_dataloader.sampler)\n",
    "        # get learning rate from model\n",
    "        optim_lr = siamese_optimizer.param_groups[0]['lr']\n",
    "        # append current validation loss to list\n",
    "        total_val_loss.append(current_val_loss)\n",
    "        if (best_val_loss == 0) | (best_train_loss == 0):\n",
    "            best_val_loss = current_val_loss\n",
    "            best_train_loss = current_train_loss\n",
    "        # find the best val loss\n",
    "        if best_val_loss >= current_val_loss:\n",
    "            best_val_loss = current_val_loss\n",
    "        # find the best train loss\n",
    "        if best_train_loss >= current_train_loss:\n",
    "            best_train_loss = current_train_loss\n",
    "\n",
    "        print(f'train loss: {current_train_loss}')\n",
    "        print(f'val loss: {current_val_loss}')\n",
    "        print(f'Learning rate: {optim_lr:.8f}')\n",
    "        if (optim_lr < previous_lr) | (optim_lr > previous_lr):\n",
    "            print('LEARNING RATE HAS CHANGED!')\n",
    "        print('-------------------------------------------------------------')\n",
    "        # replace the previous lr with the current lr\n",
    "        previous_lr = optim_lr\n",
    "    print('Best Validation loss',best_val_loss)\n",
    "    print('Best Train loss', best_train_loss)\n",
    "\n",
    "    # save model weights\n",
    "    torch.save(siamese_model.state_dict(), save_weight_path)\n",
    "    # plot loss\n",
    "    plt.plot(np.arange(1,len(total_train_loss)+1), total_train_loss,label = 'Train Loss')\n",
    "    plt.plot(np.arange(1,len(total_val_loss)+1),total_val_loss, label= 'Validation loss')\n",
    "    plt.legend()\n",
    "    plt.show()"
   ]
  },
  {
   "cell_type": "code",
   "execution_count": 21,
   "id": "da97f184",
   "metadata": {
    "pycharm": {
     "is_executing": true
    }
   },
   "outputs": [
    {
     "data": {
      "application/vnd.jupyter.widget-view+json": {
       "model_id": "79db4daf4035402498a741a12bb2d97b",
       "version_major": 2,
       "version_minor": 0
      },
      "text/plain": [
       "  0%|          | 0/200 [00:00<?, ?it/s]"
      ]
     },
     "metadata": {},
     "output_type": "display_data"
    },
    {
     "name": "stdout",
     "output_type": "stream",
     "text": [
      "Epoch:1/200\n"
     ]
    },
    {
     "data": {
      "application/vnd.jupyter.widget-view+json": {
       "model_id": "5614d63fcec34c429087975e00a3659b",
       "version_major": 2,
       "version_minor": 0
      },
      "text/plain": [
       "  0%|          | 0/77 [00:00<?, ?it/s]"
      ]
     },
     "metadata": {},
     "output_type": "display_data"
    },
    {
     "name": "stdout",
     "output_type": "stream",
     "text": [
      "train loss: 0.501062879517093\n",
      "val loss: 0.48618588201849666\n",
      "Learning rate: 0.00010000\n",
      "LEARNING RATE HAS CHANGED!\n",
      "-------------------------------------------------------------\n",
      "Epoch:2/200\n"
     ]
    },
    {
     "data": {
      "application/vnd.jupyter.widget-view+json": {
       "model_id": "3ab5a465b27648e0989756860cbeeeb7",
       "version_major": 2,
       "version_minor": 0
      },
      "text/plain": [
       "  0%|          | 0/77 [00:00<?, ?it/s]"
      ]
     },
     "metadata": {},
     "output_type": "display_data"
    },
    {
     "name": "stdout",
     "output_type": "stream",
     "text": [
      "train loss: 0.49232914037773007\n",
      "val loss: 0.4957790309439925\n",
      "Learning rate: 0.00010000\n",
      "-------------------------------------------------------------\n",
      "Epoch:3/200\n"
     ]
    },
    {
     "data": {
      "application/vnd.jupyter.widget-view+json": {
       "model_id": "7807babd83e6422babd41d70b08a67fb",
       "version_major": 2,
       "version_minor": 0
      },
      "text/plain": [
       "  0%|          | 0/77 [00:00<?, ?it/s]"
      ]
     },
     "metadata": {},
     "output_type": "display_data"
    },
    {
     "name": "stdout",
     "output_type": "stream",
     "text": [
      "train loss: 0.4716623189023388\n",
      "val loss: 0.5112406687397781\n",
      "Learning rate: 0.00010000\n",
      "-------------------------------------------------------------\n",
      "Epoch:4/200\n"
     ]
    },
    {
     "data": {
      "application/vnd.jupyter.widget-view+json": {
       "model_id": "2bb429a0d8fc460dae1230283495780c",
       "version_major": 2,
       "version_minor": 0
      },
      "text/plain": [
       "  0%|          | 0/77 [00:00<?, ?it/s]"
      ]
     },
     "metadata": {},
     "output_type": "display_data"
    },
    {
     "name": "stdout",
     "output_type": "stream",
     "text": [
      "train loss: 0.49539186624653286\n",
      "val loss: 0.47192040202670443\n",
      "Learning rate: 0.00010000\n",
      "-------------------------------------------------------------\n",
      "Epoch:5/200\n"
     ]
    },
    {
     "data": {
      "application/vnd.jupyter.widget-view+json": {
       "model_id": "3fea1a1fd0db4b57862db88b9fc4a065",
       "version_major": 2,
       "version_minor": 0
      },
      "text/plain": [
       "  0%|          | 0/77 [00:00<?, ?it/s]"
      ]
     },
     "metadata": {},
     "output_type": "display_data"
    },
    {
     "name": "stdout",
     "output_type": "stream",
     "text": [
      "train loss: 0.5085984837347967\n",
      "val loss: 0.5227441892046358\n",
      "Learning rate: 0.00010000\n",
      "-------------------------------------------------------------\n",
      "Epoch:6/200\n"
     ]
    },
    {
     "data": {
      "application/vnd.jupyter.widget-view+json": {
       "model_id": "46a024cabf5e4a2fbf7e5f80418e7fa3",
       "version_major": 2,
       "version_minor": 0
      },
      "text/plain": [
       "  0%|          | 0/77 [00:00<?, ?it/s]"
      ]
     },
     "metadata": {},
     "output_type": "display_data"
    },
    {
     "name": "stdout",
     "output_type": "stream",
     "text": [
      "train loss: 0.48576687680867175\n",
      "val loss: 0.47565419601880954\n",
      "Learning rate: 0.00010000\n",
      "-------------------------------------------------------------\n",
      "Epoch:7/200\n"
     ]
    },
    {
     "data": {
      "application/vnd.jupyter.widget-view+json": {
       "model_id": "9c83b3908dfe4eed8a80134c4dc7c86a",
       "version_major": 2,
       "version_minor": 0
      },
      "text/plain": [
       "  0%|          | 0/77 [00:00<?, ?it/s]"
      ]
     },
     "metadata": {},
     "output_type": "display_data"
    },
    {
     "name": "stdout",
     "output_type": "stream",
     "text": [
      "train loss: 0.48849502967429603\n",
      "val loss: 0.5098746479920648\n",
      "Learning rate: 0.00010000\n",
      "-------------------------------------------------------------\n",
      "Epoch:8/200\n"
     ]
    },
    {
     "data": {
      "application/vnd.jupyter.widget-view+json": {
       "model_id": "fd11603eea1040d7b73264e5b8223130",
       "version_major": 2,
       "version_minor": 0
      },
      "text/plain": [
       "  0%|          | 0/77 [00:00<?, ?it/s]"
      ]
     },
     "metadata": {},
     "output_type": "display_data"
    },
    {
     "name": "stdout",
     "output_type": "stream",
     "text": [
      "train loss: 0.4961882383732825\n",
      "val loss: 0.46878809952454653\n",
      "Learning rate: 0.00010000\n",
      "-------------------------------------------------------------\n",
      "Epoch:9/200\n"
     ]
    },
    {
     "data": {
      "application/vnd.jupyter.widget-view+json": {
       "model_id": "640fd103e9174c55a51022df1f41f6d2",
       "version_major": 2,
       "version_minor": 0
      },
      "text/plain": [
       "  0%|          | 0/77 [00:00<?, ?it/s]"
      ]
     },
     "metadata": {},
     "output_type": "display_data"
    },
    {
     "name": "stdout",
     "output_type": "stream",
     "text": [
      "train loss: 0.48297029687761034\n",
      "val loss: 0.45050097814921464\n",
      "Learning rate: 0.00010000\n",
      "-------------------------------------------------------------\n",
      "Epoch:10/200\n"
     ]
    },
    {
     "data": {
      "application/vnd.jupyter.widget-view+json": {
       "model_id": "2d718dfed49448fc9254200a86501531",
       "version_major": 2,
       "version_minor": 0
      },
      "text/plain": [
       "  0%|          | 0/77 [00:00<?, ?it/s]"
      ]
     },
     "metadata": {},
     "output_type": "display_data"
    },
    {
     "name": "stdout",
     "output_type": "stream",
     "text": [
      "train loss: 0.47661759318818303\n",
      "val loss: 0.4541088952359108\n",
      "Learning rate: 0.00010000\n",
      "-------------------------------------------------------------\n",
      "Epoch:11/200\n"
     ]
    },
    {
     "data": {
      "application/vnd.jupyter.widget-view+json": {
       "model_id": "6c2af66f312b450e8b03c9cc24476749",
       "version_major": 2,
       "version_minor": 0
      },
      "text/plain": [
       "  0%|          | 0/77 [00:00<?, ?it/s]"
      ]
     },
     "metadata": {},
     "output_type": "display_data"
    },
    {
     "name": "stdout",
     "output_type": "stream",
     "text": [
      "train loss: 0.47657828767013255\n",
      "val loss: 0.44245886217050306\n",
      "Learning rate: 0.00010000\n",
      "-------------------------------------------------------------\n",
      "Epoch:12/200\n"
     ]
    },
    {
     "data": {
      "application/vnd.jupyter.widget-view+json": {
       "model_id": "b2d192aef312422a8967373d83b25780",
       "version_major": 2,
       "version_minor": 0
      },
      "text/plain": [
       "  0%|          | 0/77 [00:00<?, ?it/s]"
      ]
     },
     "metadata": {},
     "output_type": "display_data"
    },
    {
     "name": "stdout",
     "output_type": "stream",
     "text": [
      "train loss: 0.46345837194877976\n",
      "val loss: 0.4414653313586747\n",
      "Learning rate: 0.00010000\n",
      "-------------------------------------------------------------\n",
      "Epoch:13/200\n"
     ]
    },
    {
     "data": {
      "application/vnd.jupyter.widget-view+json": {
       "model_id": "2665509ab724411a91c59d2439f68077",
       "version_major": 2,
       "version_minor": 0
      },
      "text/plain": [
       "  0%|          | 0/77 [00:00<?, ?it/s]"
      ]
     },
     "metadata": {},
     "output_type": "display_data"
    },
    {
     "name": "stdout",
     "output_type": "stream",
     "text": [
      "train loss: 0.4617271856513846\n",
      "val loss: 0.4618255486187605\n",
      "Learning rate: 0.00010000\n",
      "-------------------------------------------------------------\n",
      "Epoch:14/200\n"
     ]
    },
    {
     "data": {
      "application/vnd.jupyter.widget-view+json": {
       "model_id": "1502142710514908a3afca9d07d18686",
       "version_major": 2,
       "version_minor": 0
      },
      "text/plain": [
       "  0%|          | 0/77 [00:00<?, ?it/s]"
      ]
     },
     "metadata": {},
     "output_type": "display_data"
    },
    {
     "name": "stdout",
     "output_type": "stream",
     "text": [
      "train loss: 0.4675156828375568\n",
      "val loss: 0.4674880267398444\n",
      "Learning rate: 0.00010000\n",
      "-------------------------------------------------------------\n",
      "Epoch:15/200\n"
     ]
    },
    {
     "data": {
      "application/vnd.jupyter.widget-view+json": {
       "model_id": "c67ef896786f45f3ab9ef479b7ec510a",
       "version_major": 2,
       "version_minor": 0
      },
      "text/plain": [
       "  0%|          | 0/77 [00:00<?, ?it/s]"
      ]
     },
     "metadata": {},
     "output_type": "display_data"
    },
    {
     "name": "stdout",
     "output_type": "stream",
     "text": [
      "train loss: 0.4662519351351677\n",
      "val loss: 0.4505063676929089\n",
      "Learning rate: 0.00010000\n",
      "-------------------------------------------------------------\n",
      "Epoch:16/200\n"
     ]
    },
    {
     "data": {
      "application/vnd.jupyter.widget-view+json": {
       "model_id": "f72151c1066f4e49aef256af75c361db",
       "version_major": 2,
       "version_minor": 0
      },
      "text/plain": [
       "  0%|          | 0/77 [00:00<?, ?it/s]"
      ]
     },
     "metadata": {},
     "output_type": "display_data"
    },
    {
     "name": "stdout",
     "output_type": "stream",
     "text": [
      "train loss: 0.44752503736919935\n",
      "val loss: 0.49241371090456054\n",
      "Learning rate: 0.00010000\n",
      "-------------------------------------------------------------\n",
      "Epoch:17/200\n"
     ]
    },
    {
     "data": {
      "application/vnd.jupyter.widget-view+json": {
       "model_id": "218f320b0f8c4b888849fc3acfe85551",
       "version_major": 2,
       "version_minor": 0
      },
      "text/plain": [
       "  0%|          | 0/77 [00:00<?, ?it/s]"
      ]
     },
     "metadata": {},
     "output_type": "display_data"
    },
    {
     "name": "stdout",
     "output_type": "stream",
     "text": [
      "train loss: 0.46389676557674053\n",
      "val loss: 0.4459625835814174\n",
      "Learning rate: 0.00010000\n",
      "-------------------------------------------------------------\n",
      "Epoch:18/200\n"
     ]
    },
    {
     "data": {
      "application/vnd.jupyter.widget-view+json": {
       "model_id": "09ecb9d7980f446cbbf82baa85224e0f",
       "version_major": 2,
       "version_minor": 0
      },
      "text/plain": [
       "  0%|          | 0/77 [00:00<?, ?it/s]"
      ]
     },
     "metadata": {},
     "output_type": "display_data"
    },
    {
     "name": "stdout",
     "output_type": "stream",
     "text": [
      "train loss: 0.46304442955054786\n",
      "val loss: 0.48673490761618887\n",
      "Learning rate: 0.00010000\n",
      "-------------------------------------------------------------\n",
      "Epoch:19/200\n"
     ]
    },
    {
     "data": {
      "application/vnd.jupyter.widget-view+json": {
       "model_id": "e6d5eb4c28cd45babcaa2b11379408bc",
       "version_major": 2,
       "version_minor": 0
      },
      "text/plain": [
       "  0%|          | 0/77 [00:00<?, ?it/s]"
      ]
     },
     "metadata": {},
     "output_type": "display_data"
    },
    {
     "name": "stdout",
     "output_type": "stream",
     "text": [
      "train loss: 0.4838363443434361\n",
      "val loss: 0.4835678635701685\n",
      "Learning rate: 0.00010000\n",
      "-------------------------------------------------------------\n",
      "Epoch:20/200\n"
     ]
    },
    {
     "data": {
      "application/vnd.jupyter.widget-view+json": {
       "model_id": "066e47b7f13e4d6f946042aacbcb7ac8",
       "version_major": 2,
       "version_minor": 0
      },
      "text/plain": [
       "  0%|          | 0/77 [00:00<?, ?it/s]"
      ]
     },
     "metadata": {},
     "output_type": "display_data"
    },
    {
     "name": "stdout",
     "output_type": "stream",
     "text": [
      "train loss: 0.4571353252357526\n",
      "val loss: 0.48671109001583956\n",
      "Learning rate: 0.00010000\n",
      "-------------------------------------------------------------\n",
      "Epoch:21/200\n"
     ]
    },
    {
     "data": {
      "application/vnd.jupyter.widget-view+json": {
       "model_id": "201dd365e92d40c3afceb98cea425671",
       "version_major": 2,
       "version_minor": 0
      },
      "text/plain": [
       "  0%|          | 0/77 [00:00<?, ?it/s]"
      ]
     },
     "metadata": {},
     "output_type": "display_data"
    },
    {
     "name": "stdout",
     "output_type": "stream",
     "text": [
      "train loss: 0.45152418068791805\n",
      "val loss: 0.5093218899803816\n",
      "Learning rate: 0.00010000\n",
      "-------------------------------------------------------------\n",
      "Epoch:22/200\n"
     ]
    },
    {
     "data": {
      "application/vnd.jupyter.widget-view+json": {
       "model_id": "78b913f97b424befb2b5f73a996ac85d",
       "version_major": 2,
       "version_minor": 0
      },
      "text/plain": [
       "  0%|          | 0/77 [00:00<?, ?it/s]"
      ]
     },
     "metadata": {},
     "output_type": "display_data"
    },
    {
     "name": "stdout",
     "output_type": "stream",
     "text": [
      "train loss: 0.45122962971609964\n",
      "val loss: 0.4522550088516899\n",
      "Learning rate: 0.00010000\n",
      "-------------------------------------------------------------\n",
      "Epoch:23/200\n"
     ]
    },
    {
     "data": {
      "application/vnd.jupyter.widget-view+json": {
       "model_id": "1286074c2cd9473ba8d7848b5373beb3",
       "version_major": 2,
       "version_minor": 0
      },
      "text/plain": [
       "  0%|          | 0/77 [00:00<?, ?it/s]"
      ]
     },
     "metadata": {},
     "output_type": "display_data"
    },
    {
     "name": "stdout",
     "output_type": "stream",
     "text": [
      "train loss: 0.43590483875979635\n",
      "val loss: 0.4433017222107456\n",
      "Learning rate: 0.00010000\n",
      "-------------------------------------------------------------\n",
      "Epoch:24/200\n"
     ]
    },
    {
     "data": {
      "application/vnd.jupyter.widget-view+json": {
       "model_id": "1dbd4ddcc69743c1b0a9822adbbd5fb9",
       "version_major": 2,
       "version_minor": 0
      },
      "text/plain": [
       "  0%|          | 0/77 [00:00<?, ?it/s]"
      ]
     },
     "metadata": {},
     "output_type": "display_data"
    },
    {
     "name": "stdout",
     "output_type": "stream",
     "text": [
      "train loss: 0.4366618945215517\n",
      "val loss: 0.46762125754254\n",
      "Learning rate: 0.00010000\n",
      "-------------------------------------------------------------\n",
      "Epoch:25/200\n"
     ]
    },
    {
     "data": {
      "application/vnd.jupyter.widget-view+json": {
       "model_id": "c3ec28461de14f5b90d76356566ce3cc",
       "version_major": 2,
       "version_minor": 0
      },
      "text/plain": [
       "  0%|          | 0/77 [00:00<?, ?it/s]"
      ]
     },
     "metadata": {},
     "output_type": "display_data"
    },
    {
     "name": "stdout",
     "output_type": "stream",
     "text": [
      "train loss: 0.4465740333225203\n",
      "val loss: 0.42935707464518136\n",
      "Learning rate: 0.00010000\n",
      "-------------------------------------------------------------\n",
      "Epoch:26/200\n"
     ]
    },
    {
     "data": {
      "application/vnd.jupyter.widget-view+json": {
       "model_id": "ae6760de37b1492a8aab8c5bc40059ec",
       "version_major": 2,
       "version_minor": 0
      },
      "text/plain": [
       "  0%|          | 0/77 [00:00<?, ?it/s]"
      ]
     },
     "metadata": {},
     "output_type": "display_data"
    },
    {
     "name": "stdout",
     "output_type": "stream",
     "text": [
      "train loss: 0.4389699331605214\n",
      "val loss: 0.4514375036761214\n",
      "Learning rate: 0.00010000\n",
      "-------------------------------------------------------------\n",
      "Epoch:27/200\n"
     ]
    },
    {
     "data": {
      "application/vnd.jupyter.widget-view+json": {
       "model_id": "4396eaab069a437cba2ba656049e0261",
       "version_major": 2,
       "version_minor": 0
      },
      "text/plain": [
       "  0%|          | 0/77 [00:00<?, ?it/s]"
      ]
     },
     "metadata": {},
     "output_type": "display_data"
    },
    {
     "name": "stdout",
     "output_type": "stream",
     "text": [
      "train loss: 0.43957096815904795\n",
      "val loss: 0.45992702833031435\n",
      "Learning rate: 0.00010000\n",
      "-------------------------------------------------------------\n",
      "Epoch:28/200\n"
     ]
    },
    {
     "data": {
      "application/vnd.jupyter.widget-view+json": {
       "model_id": "32b6e2057ebf47b0b68dbfe7a38f583a",
       "version_major": 2,
       "version_minor": 0
      },
      "text/plain": [
       "  0%|          | 0/77 [00:00<?, ?it/s]"
      ]
     },
     "metadata": {},
     "output_type": "display_data"
    },
    {
     "name": "stdout",
     "output_type": "stream",
     "text": [
      "train loss: 0.41133766039685793\n",
      "val loss: 0.43839752466097126\n",
      "Learning rate: 0.00010000\n",
      "-------------------------------------------------------------\n",
      "Epoch:29/200\n"
     ]
    },
    {
     "data": {
      "application/vnd.jupyter.widget-view+json": {
       "model_id": "26c2fa6b9bc44a9899640e9ee1e1cbc1",
       "version_major": 2,
       "version_minor": 0
      },
      "text/plain": [
       "  0%|          | 0/77 [00:00<?, ?it/s]"
      ]
     },
     "metadata": {},
     "output_type": "display_data"
    },
    {
     "name": "stdout",
     "output_type": "stream",
     "text": [
      "train loss: 0.4312567624850562\n",
      "val loss: 0.4379531493354959\n",
      "Learning rate: 0.00010000\n",
      "-------------------------------------------------------------\n",
      "Epoch:30/200\n"
     ]
    },
    {
     "data": {
      "application/vnd.jupyter.widget-view+json": {
       "model_id": "40a28f613e904471b57fe8c2d27ab858",
       "version_major": 2,
       "version_minor": 0
      },
      "text/plain": [
       "  0%|          | 0/77 [00:00<?, ?it/s]"
      ]
     },
     "metadata": {},
     "output_type": "display_data"
    },
    {
     "name": "stdout",
     "output_type": "stream",
     "text": [
      "train loss: 0.41012888648671536\n",
      "val loss: 0.4413441386758442\n",
      "Learning rate: 0.00010000\n",
      "-------------------------------------------------------------\n",
      "Epoch:31/200\n"
     ]
    },
    {
     "data": {
      "application/vnd.jupyter.widget-view+json": {
       "model_id": "f2054163d85e4aefaef53ca269e4e903",
       "version_major": 2,
       "version_minor": 0
      },
      "text/plain": [
       "  0%|          | 0/77 [00:00<?, ?it/s]"
      ]
     },
     "metadata": {},
     "output_type": "display_data"
    },
    {
     "name": "stdout",
     "output_type": "stream",
     "text": [
      "train loss: 0.41151985564332233\n",
      "val loss: 0.431110114978614\n",
      "Learning rate: 0.00010000\n",
      "-------------------------------------------------------------\n",
      "Epoch:32/200\n"
     ]
    },
    {
     "data": {
      "application/vnd.jupyter.widget-view+json": {
       "model_id": "cb050139bd0a48b4936982477094f48c",
       "version_major": 2,
       "version_minor": 0
      },
      "text/plain": [
       "  0%|          | 0/77 [00:00<?, ?it/s]"
      ]
     },
     "metadata": {},
     "output_type": "display_data"
    },
    {
     "name": "stdout",
     "output_type": "stream",
     "text": [
      "train loss: 0.42095361127072534\n",
      "val loss: 0.45915901896371103\n",
      "Learning rate: 0.00010000\n",
      "-------------------------------------------------------------\n",
      "Epoch:33/200\n"
     ]
    },
    {
     "data": {
      "application/vnd.jupyter.widget-view+json": {
       "model_id": "eae54fdd6c2c47d7b87ad71229208d2d",
       "version_major": 2,
       "version_minor": 0
      },
      "text/plain": [
       "  0%|          | 0/77 [00:00<?, ?it/s]"
      ]
     },
     "metadata": {},
     "output_type": "display_data"
    },
    {
     "name": "stdout",
     "output_type": "stream",
     "text": [
      "train loss: 0.43917368406112434\n",
      "val loss: 0.4737058136525829\n",
      "Learning rate: 0.00010000\n",
      "-------------------------------------------------------------\n",
      "Epoch:34/200\n"
     ]
    },
    {
     "data": {
      "application/vnd.jupyter.widget-view+json": {
       "model_id": "96f1ec037ccf463aabfaa779210fa646",
       "version_major": 2,
       "version_minor": 0
      },
      "text/plain": [
       "  0%|          | 0/77 [00:00<?, ?it/s]"
      ]
     },
     "metadata": {},
     "output_type": "display_data"
    },
    {
     "name": "stdout",
     "output_type": "stream",
     "text": [
      "train loss: 0.42078116546390726\n",
      "val loss: 0.46663594838472344\n",
      "Learning rate: 0.00010000\n",
      "-------------------------------------------------------------\n",
      "Epoch:35/200\n"
     ]
    },
    {
     "data": {
      "application/vnd.jupyter.widget-view+json": {
       "model_id": "83db2f06e92946fa816ff3195a284d29",
       "version_major": 2,
       "version_minor": 0
      },
      "text/plain": [
       "  0%|          | 0/77 [00:00<?, ?it/s]"
      ]
     },
     "metadata": {},
     "output_type": "display_data"
    },
    {
     "name": "stdout",
     "output_type": "stream",
     "text": [
      "train loss: 0.417323113563308\n",
      "val loss: 0.4457459535576181\n",
      "Learning rate: 0.00010000\n",
      "-------------------------------------------------------------\n",
      "Epoch:36/200\n"
     ]
    },
    {
     "data": {
      "application/vnd.jupyter.widget-view+json": {
       "model_id": "b9951606b3b04982a4a362e40a38cc16",
       "version_major": 2,
       "version_minor": 0
      },
      "text/plain": [
       "  0%|          | 0/77 [00:00<?, ?it/s]"
      ]
     },
     "metadata": {},
     "output_type": "display_data"
    },
    {
     "name": "stdout",
     "output_type": "stream",
     "text": [
      "train loss: 0.4232157282653653\n",
      "val loss: 0.4629709027315928\n",
      "Learning rate: 0.00010000\n",
      "-------------------------------------------------------------\n",
      "Epoch:37/200\n"
     ]
    },
    {
     "data": {
      "application/vnd.jupyter.widget-view+json": {
       "model_id": "fc36404bfac3466f97d87a7af8445a80",
       "version_major": 2,
       "version_minor": 0
      },
      "text/plain": [
       "  0%|          | 0/77 [00:00<?, ?it/s]"
      ]
     },
     "metadata": {},
     "output_type": "display_data"
    },
    {
     "name": "stdout",
     "output_type": "stream",
     "text": [
      "train loss: 0.41599047864793015\n",
      "val loss: 0.4243829242734004\n",
      "Learning rate: 0.00010000\n",
      "-------------------------------------------------------------\n",
      "Epoch:38/200\n"
     ]
    },
    {
     "data": {
      "application/vnd.jupyter.widget-view+json": {
       "model_id": "39bc1fe823cd44d18dd53d2be9cb43d8",
       "version_major": 2,
       "version_minor": 0
      },
      "text/plain": [
       "  0%|          | 0/77 [00:00<?, ?it/s]"
      ]
     },
     "metadata": {},
     "output_type": "display_data"
    },
    {
     "name": "stdout",
     "output_type": "stream",
     "text": [
      "train loss: 0.43109313944159594\n",
      "val loss: 0.4614941139693144\n",
      "Learning rate: 0.00010000\n",
      "-------------------------------------------------------------\n",
      "Epoch:39/200\n"
     ]
    },
    {
     "data": {
      "application/vnd.jupyter.widget-view+json": {
       "model_id": "73c95219b5d241929f91da9b11a676bf",
       "version_major": 2,
       "version_minor": 0
      },
      "text/plain": [
       "  0%|          | 0/77 [00:00<?, ?it/s]"
      ]
     },
     "metadata": {},
     "output_type": "display_data"
    },
    {
     "name": "stdout",
     "output_type": "stream",
     "text": [
      "train loss: 0.4252045079010101\n",
      "val loss: 0.4642218752542128\n",
      "Learning rate: 0.00010000\n",
      "-------------------------------------------------------------\n",
      "Epoch:40/200\n"
     ]
    },
    {
     "data": {
      "application/vnd.jupyter.widget-view+json": {
       "model_id": "0d44e68a0cb24e3fbf34df15e4697c77",
       "version_major": 2,
       "version_minor": 0
      },
      "text/plain": [
       "  0%|          | 0/77 [00:00<?, ?it/s]"
      ]
     },
     "metadata": {},
     "output_type": "display_data"
    },
    {
     "name": "stdout",
     "output_type": "stream",
     "text": [
      "train loss: 0.4195617864784274\n",
      "val loss: 0.4541269908720837\n",
      "Learning rate: 0.00010000\n",
      "-------------------------------------------------------------\n",
      "Epoch:41/200\n"
     ]
    },
    {
     "data": {
      "application/vnd.jupyter.widget-view+json": {
       "model_id": "4d37009bcf5a4d26855c58f67aaa97c7",
       "version_major": 2,
       "version_minor": 0
      },
      "text/plain": [
       "  0%|          | 0/77 [00:00<?, ?it/s]"
      ]
     },
     "metadata": {},
     "output_type": "display_data"
    },
    {
     "name": "stdout",
     "output_type": "stream",
     "text": [
      "train loss: 0.42587257156137076\n",
      "val loss: 0.42527808470571327\n",
      "Learning rate: 0.00010000\n",
      "-------------------------------------------------------------\n",
      "Epoch:42/200\n"
     ]
    },
    {
     "data": {
      "application/vnd.jupyter.widget-view+json": {
       "model_id": "03664995615948748404b0bcfe8fea7f",
       "version_major": 2,
       "version_minor": 0
      },
      "text/plain": [
       "  0%|          | 0/77 [00:00<?, ?it/s]"
      ]
     },
     "metadata": {},
     "output_type": "display_data"
    },
    {
     "name": "stdout",
     "output_type": "stream",
     "text": [
      "train loss: 0.41183212674098585\n",
      "val loss: 0.45754332868505687\n",
      "Learning rate: 0.00010000\n",
      "-------------------------------------------------------------\n",
      "Epoch:43/200\n"
     ]
    },
    {
     "data": {
      "application/vnd.jupyter.widget-view+json": {
       "model_id": "b4abdff976d84d478024ac9c88acbd6b",
       "version_major": 2,
       "version_minor": 0
      },
      "text/plain": [
       "  0%|          | 0/77 [00:00<?, ?it/s]"
      ]
     },
     "metadata": {},
     "output_type": "display_data"
    },
    {
     "name": "stdout",
     "output_type": "stream",
     "text": [
      "train loss: 0.4377740927729029\n",
      "val loss: 0.44983233078089946\n",
      "Learning rate: 0.00010000\n",
      "-------------------------------------------------------------\n",
      "Epoch:44/200\n"
     ]
    },
    {
     "data": {
      "application/vnd.jupyter.widget-view+json": {
       "model_id": "6743f45f3deb48d4a7e28ad35d150c36",
       "version_major": 2,
       "version_minor": 0
      },
      "text/plain": [
       "  0%|          | 0/77 [00:00<?, ?it/s]"
      ]
     },
     "metadata": {},
     "output_type": "display_data"
    },
    {
     "name": "stdout",
     "output_type": "stream",
     "text": [
      "train loss: 0.4180730508215863\n",
      "val loss: 0.4591747494676576\n",
      "Learning rate: 0.00010000\n",
      "-------------------------------------------------------------\n",
      "Epoch:45/200\n"
     ]
    },
    {
     "data": {
      "application/vnd.jupyter.widget-view+json": {
       "model_id": "3a1f9cd23a9247e5800fb440e30f7db6",
       "version_major": 2,
       "version_minor": 0
      },
      "text/plain": [
       "  0%|          | 0/77 [00:00<?, ?it/s]"
      ]
     },
     "metadata": {},
     "output_type": "display_data"
    },
    {
     "name": "stdout",
     "output_type": "stream",
     "text": [
      "train loss: 0.4080757515753564\n",
      "val loss: 0.4293687005661465\n",
      "Learning rate: 0.00010000\n",
      "-------------------------------------------------------------\n",
      "Epoch:46/200\n"
     ]
    },
    {
     "data": {
      "application/vnd.jupyter.widget-view+json": {
       "model_id": "95cb3b298a534c9a99898084e1d1f031",
       "version_major": 2,
       "version_minor": 0
      },
      "text/plain": [
       "  0%|          | 0/77 [00:00<?, ?it/s]"
      ]
     },
     "metadata": {},
     "output_type": "display_data"
    },
    {
     "name": "stdout",
     "output_type": "stream",
     "text": [
      "train loss: 0.4185511591345133\n",
      "val loss: 0.46843722758086903\n",
      "Learning rate: 0.00010000\n",
      "-------------------------------------------------------------\n",
      "Epoch:47/200\n"
     ]
    },
    {
     "data": {
      "application/vnd.jupyter.widget-view+json": {
       "model_id": "5ce145da074c48c3a8306809100f778e",
       "version_major": 2,
       "version_minor": 0
      },
      "text/plain": [
       "  0%|          | 0/77 [00:00<?, ?it/s]"
      ]
     },
     "metadata": {},
     "output_type": "display_data"
    },
    {
     "name": "stdout",
     "output_type": "stream",
     "text": [
      "train loss: 0.4100565922853883\n",
      "val loss: 0.4398543430594049\n",
      "Learning rate: 0.00010000\n",
      "-------------------------------------------------------------\n",
      "Epoch:48/200\n"
     ]
    },
    {
     "data": {
      "application/vnd.jupyter.widget-view+json": {
       "model_id": "fa617c204e5f4794b4fb8e5084d59863",
       "version_major": 2,
       "version_minor": 0
      },
      "text/plain": [
       "  0%|          | 0/77 [00:00<?, ?it/s]"
      ]
     },
     "metadata": {},
     "output_type": "display_data"
    },
    {
     "name": "stdout",
     "output_type": "stream",
     "text": [
      "train loss: 0.401253547152271\n",
      "val loss: 0.47583614193698676\n",
      "Learning rate: 0.00010000\n",
      "-------------------------------------------------------------\n",
      "Epoch:49/200\n"
     ]
    },
    {
     "data": {
      "application/vnd.jupyter.widget-view+json": {
       "model_id": "1eb9cef285f34530b1cb2c0695b96f2c",
       "version_major": 2,
       "version_minor": 0
      },
      "text/plain": [
       "  0%|          | 0/77 [00:00<?, ?it/s]"
      ]
     },
     "metadata": {},
     "output_type": "display_data"
    },
    {
     "name": "stdout",
     "output_type": "stream",
     "text": [
      "train loss: 0.3874739230734734\n",
      "val loss: 0.43456881988981727\n",
      "Learning rate: 0.00010000\n",
      "-------------------------------------------------------------\n",
      "Epoch:50/200\n"
     ]
    },
    {
     "data": {
      "application/vnd.jupyter.widget-view+json": {
       "model_id": "cd3d955c332d459aa143e063aec52992",
       "version_major": 2,
       "version_minor": 0
      },
      "text/plain": [
       "  0%|          | 0/77 [00:00<?, ?it/s]"
      ]
     },
     "metadata": {},
     "output_type": "display_data"
    },
    {
     "name": "stdout",
     "output_type": "stream",
     "text": [
      "train loss: 0.39587865800461\n",
      "val loss: 0.46173118301189275\n",
      "Learning rate: 0.00010000\n",
      "-------------------------------------------------------------\n",
      "Epoch:51/200\n"
     ]
    },
    {
     "data": {
      "application/vnd.jupyter.widget-view+json": {
       "model_id": "c9b27947668c43f692614e415486141f",
       "version_major": 2,
       "version_minor": 0
      },
      "text/plain": [
       "  0%|          | 0/77 [00:00<?, ?it/s]"
      ]
     },
     "metadata": {},
     "output_type": "display_data"
    },
    {
     "name": "stdout",
     "output_type": "stream",
     "text": [
      "train loss: 0.37572743135066494\n",
      "val loss: 0.4821912057324627\n",
      "Learning rate: 0.00010000\n",
      "-------------------------------------------------------------\n",
      "Epoch:52/200\n"
     ]
    },
    {
     "data": {
      "application/vnd.jupyter.widget-view+json": {
       "model_id": "39762a15e2494c1d956a19bea0da18d3",
       "version_major": 2,
       "version_minor": 0
      },
      "text/plain": [
       "  0%|          | 0/77 [00:00<?, ?it/s]"
      ]
     },
     "metadata": {},
     "output_type": "display_data"
    },
    {
     "name": "stdout",
     "output_type": "stream",
     "text": [
      "train loss: 0.389426590518326\n",
      "val loss: 0.4263773867856582\n",
      "Learning rate: 0.00010000\n",
      "-------------------------------------------------------------\n",
      "Epoch:53/200\n"
     ]
    },
    {
     "data": {
      "application/vnd.jupyter.widget-view+json": {
       "model_id": "b8bb327f47064efb985e0552587e783b",
       "version_major": 2,
       "version_minor": 0
      },
      "text/plain": [
       "  0%|          | 0/77 [00:00<?, ?it/s]"
      ]
     },
     "metadata": {},
     "output_type": "display_data"
    },
    {
     "name": "stdout",
     "output_type": "stream",
     "text": [
      "train loss: 0.39577186213963084\n",
      "val loss: 0.4547360961044836\n",
      "Learning rate: 0.00010000\n",
      "-------------------------------------------------------------\n",
      "Epoch:54/200\n"
     ]
    },
    {
     "data": {
      "application/vnd.jupyter.widget-view+json": {
       "model_id": "88e49d18130e4443a2736c17ed7d823e",
       "version_major": 2,
       "version_minor": 0
      },
      "text/plain": [
       "  0%|          | 0/77 [00:00<?, ?it/s]"
      ]
     },
     "metadata": {},
     "output_type": "display_data"
    },
    {
     "name": "stdout",
     "output_type": "stream",
     "text": [
      "train loss: 0.38623009493050514\n",
      "val loss: 0.43030551403054706\n",
      "Learning rate: 0.00010000\n",
      "-------------------------------------------------------------\n",
      "Epoch:55/200\n"
     ]
    },
    {
     "data": {
      "application/vnd.jupyter.widget-view+json": {
       "model_id": "4a97ff12b03546e1a768b6ddaad75b73",
       "version_major": 2,
       "version_minor": 0
      },
      "text/plain": [
       "  0%|          | 0/77 [00:00<?, ?it/s]"
      ]
     },
     "metadata": {},
     "output_type": "display_data"
    },
    {
     "name": "stdout",
     "output_type": "stream",
     "text": [
      "train loss: 0.3940852518857015\n",
      "val loss: 0.45035802222177734\n",
      "Learning rate: 0.00010000\n",
      "-------------------------------------------------------------\n",
      "Epoch:56/200\n"
     ]
    },
    {
     "data": {
      "application/vnd.jupyter.widget-view+json": {
       "model_id": "176e44f716d148b29ea45258a93f0efe",
       "version_major": 2,
       "version_minor": 0
      },
      "text/plain": [
       "  0%|          | 0/77 [00:00<?, ?it/s]"
      ]
     },
     "metadata": {},
     "output_type": "display_data"
    },
    {
     "name": "stdout",
     "output_type": "stream",
     "text": [
      "train loss: 0.3821821444883973\n",
      "val loss: 0.42706355037836863\n",
      "Learning rate: 0.00010000\n",
      "-------------------------------------------------------------\n",
      "Epoch:57/200\n"
     ]
    },
    {
     "data": {
      "application/vnd.jupyter.widget-view+json": {
       "model_id": "e4638305104148bd9ca45311b0f7fdce",
       "version_major": 2,
       "version_minor": 0
      },
      "text/plain": [
       "  0%|          | 0/77 [00:00<?, ?it/s]"
      ]
     },
     "metadata": {},
     "output_type": "display_data"
    },
    {
     "name": "stdout",
     "output_type": "stream",
     "text": [
      "train loss: 0.3922283189290909\n",
      "val loss: 0.42497510663295374\n",
      "Learning rate: 0.00010000\n",
      "-------------------------------------------------------------\n",
      "Epoch:58/200\n"
     ]
    },
    {
     "data": {
      "application/vnd.jupyter.widget-view+json": {
       "model_id": "87d4407fc922473a828c28cda4938e2b",
       "version_major": 2,
       "version_minor": 0
      },
      "text/plain": [
       "  0%|          | 0/77 [00:00<?, ?it/s]"
      ]
     },
     "metadata": {},
     "output_type": "display_data"
    },
    {
     "name": "stdout",
     "output_type": "stream",
     "text": [
      "train loss: 0.38966669050452646\n",
      "val loss: 0.46187792670957756\n",
      "Learning rate: 0.00010000\n",
      "-------------------------------------------------------------\n",
      "Epoch:59/200\n"
     ]
    },
    {
     "data": {
      "application/vnd.jupyter.widget-view+json": {
       "model_id": "c2f4e1ee33cb4e64a51e66092845f437",
       "version_major": 2,
       "version_minor": 0
      },
      "text/plain": [
       "  0%|          | 0/77 [00:00<?, ?it/s]"
      ]
     },
     "metadata": {},
     "output_type": "display_data"
    },
    {
     "name": "stdout",
     "output_type": "stream",
     "text": [
      "train loss: 0.3888874436810888\n",
      "val loss: 0.4450433542273495\n",
      "Learning rate: 0.00010000\n",
      "-------------------------------------------------------------\n",
      "Epoch:60/200\n"
     ]
    },
    {
     "data": {
      "application/vnd.jupyter.widget-view+json": {
       "model_id": "d56a4d1c31d24557a527350890d4a41e",
       "version_major": 2,
       "version_minor": 0
      },
      "text/plain": [
       "  0%|          | 0/77 [00:00<?, ?it/s]"
      ]
     },
     "metadata": {},
     "output_type": "display_data"
    },
    {
     "name": "stdout",
     "output_type": "stream",
     "text": [
      "train loss: 0.39598023346500966\n",
      "val loss: 0.4322108748613314\n",
      "Learning rate: 0.00010000\n",
      "-------------------------------------------------------------\n",
      "Epoch:61/200\n"
     ]
    },
    {
     "data": {
      "application/vnd.jupyter.widget-view+json": {
       "model_id": "fff5ba04d70e4f97b220cb12d78bec31",
       "version_major": 2,
       "version_minor": 0
      },
      "text/plain": [
       "  0%|          | 0/77 [00:00<?, ?it/s]"
      ]
     },
     "metadata": {},
     "output_type": "display_data"
    },
    {
     "name": "stdout",
     "output_type": "stream",
     "text": [
      "train loss: 0.3810188525495955\n",
      "val loss: 0.4601635156825358\n",
      "Learning rate: 0.00010000\n",
      "-------------------------------------------------------------\n",
      "Epoch:62/200\n"
     ]
    },
    {
     "data": {
      "application/vnd.jupyter.widget-view+json": {
       "model_id": "eb5afe8168d24b3d8f3cb99828bfe645",
       "version_major": 2,
       "version_minor": 0
      },
      "text/plain": [
       "  0%|          | 0/77 [00:00<?, ?it/s]"
      ]
     },
     "metadata": {},
     "output_type": "display_data"
    },
    {
     "name": "stdout",
     "output_type": "stream",
     "text": [
      "train loss: 0.38708493771448393\n",
      "val loss: 0.4570643896582407\n",
      "Learning rate: 0.00010000\n",
      "-------------------------------------------------------------\n",
      "Epoch:63/200\n"
     ]
    },
    {
     "data": {
      "application/vnd.jupyter.widget-view+json": {
       "model_id": "864eb408ae8149b6a417a365e4a658ef",
       "version_major": 2,
       "version_minor": 0
      },
      "text/plain": [
       "  0%|          | 0/77 [00:00<?, ?it/s]"
      ]
     },
     "metadata": {},
     "output_type": "display_data"
    },
    {
     "name": "stdout",
     "output_type": "stream",
     "text": [
      "train loss: 0.387602642457741\n",
      "val loss: 0.48041919384164034\n",
      "Learning rate: 0.00010000\n",
      "-------------------------------------------------------------\n",
      "Epoch:64/200\n"
     ]
    },
    {
     "data": {
      "application/vnd.jupyter.widget-view+json": {
       "model_id": "235defddfad946f0be67319b32a0a749",
       "version_major": 2,
       "version_minor": 0
      },
      "text/plain": [
       "  0%|          | 0/77 [00:00<?, ?it/s]"
      ]
     },
     "metadata": {},
     "output_type": "display_data"
    },
    {
     "name": "stdout",
     "output_type": "stream",
     "text": [
      "train loss: 0.376045254151312\n",
      "val loss: 0.48564745986291413\n",
      "Learning rate: 0.00010000\n",
      "-------------------------------------------------------------\n",
      "Epoch:65/200\n"
     ]
    },
    {
     "data": {
      "application/vnd.jupyter.widget-view+json": {
       "model_id": "3ccebd5283b341fb98a2f07ddf03b8b0",
       "version_major": 2,
       "version_minor": 0
      },
      "text/plain": [
       "  0%|          | 0/77 [00:00<?, ?it/s]"
      ]
     },
     "metadata": {},
     "output_type": "display_data"
    },
    {
     "name": "stdout",
     "output_type": "stream",
     "text": [
      "train loss: 0.37966113728174683\n",
      "val loss: 0.4735834167253331\n",
      "Learning rate: 0.00010000\n",
      "-------------------------------------------------------------\n",
      "Epoch:66/200\n"
     ]
    },
    {
     "data": {
      "application/vnd.jupyter.widget-view+json": {
       "model_id": "f7d99988b0ab430db48b781289ef6aad",
       "version_major": 2,
       "version_minor": 0
      },
      "text/plain": [
       "  0%|          | 0/77 [00:00<?, ?it/s]"
      ]
     },
     "metadata": {},
     "output_type": "display_data"
    },
    {
     "name": "stdout",
     "output_type": "stream",
     "text": [
      "train loss: 0.37000482513261407\n",
      "val loss: 0.43627751502748086\n",
      "Learning rate: 0.00010000\n",
      "-------------------------------------------------------------\n",
      "Epoch:67/200\n"
     ]
    },
    {
     "data": {
      "application/vnd.jupyter.widget-view+json": {
       "model_id": "cf2b8e5d245b4b73b9209879209d142b",
       "version_major": 2,
       "version_minor": 0
      },
      "text/plain": [
       "  0%|          | 0/77 [00:00<?, ?it/s]"
      ]
     },
     "metadata": {},
     "output_type": "display_data"
    },
    {
     "name": "stdout",
     "output_type": "stream",
     "text": [
      "train loss: 0.3718272634233048\n",
      "val loss: 0.41849233140777303\n",
      "Learning rate: 0.00010000\n",
      "-------------------------------------------------------------\n",
      "Epoch:68/200\n"
     ]
    },
    {
     "data": {
      "application/vnd.jupyter.widget-view+json": {
       "model_id": "88148166837a4d4491da38c813431f3a",
       "version_major": 2,
       "version_minor": 0
      },
      "text/plain": [
       "  0%|          | 0/77 [00:00<?, ?it/s]"
      ]
     },
     "metadata": {},
     "output_type": "display_data"
    },
    {
     "name": "stdout",
     "output_type": "stream",
     "text": [
      "train loss: 0.36637363653913047\n",
      "val loss: 0.40189588966814876\n",
      "Learning rate: 0.00010000\n",
      "-------------------------------------------------------------\n",
      "Epoch:69/200\n"
     ]
    },
    {
     "data": {
      "application/vnd.jupyter.widget-view+json": {
       "model_id": "1d2b7c000be04292b6264b36a88f692e",
       "version_major": 2,
       "version_minor": 0
      },
      "text/plain": [
       "  0%|          | 0/77 [00:00<?, ?it/s]"
      ]
     },
     "metadata": {},
     "output_type": "display_data"
    },
    {
     "name": "stdout",
     "output_type": "stream",
     "text": [
      "train loss: 0.36661014723413654\n",
      "val loss: 0.45073436725605587\n",
      "Learning rate: 0.00010000\n",
      "-------------------------------------------------------------\n",
      "Epoch:70/200\n"
     ]
    },
    {
     "data": {
      "application/vnd.jupyter.widget-view+json": {
       "model_id": "b6be6ebfc62d4fd8b00a08b418f4336d",
       "version_major": 2,
       "version_minor": 0
      },
      "text/plain": [
       "  0%|          | 0/77 [00:00<?, ?it/s]"
      ]
     },
     "metadata": {},
     "output_type": "display_data"
    },
    {
     "name": "stdout",
     "output_type": "stream",
     "text": [
      "train loss: 0.3700870030240234\n",
      "val loss: 0.4632566428887087\n",
      "Learning rate: 0.00010000\n",
      "-------------------------------------------------------------\n",
      "Epoch:71/200\n"
     ]
    },
    {
     "data": {
      "application/vnd.jupyter.widget-view+json": {
       "model_id": "ecdf053377654d3cbbdf2ad45ed6f9f4",
       "version_major": 2,
       "version_minor": 0
      },
      "text/plain": [
       "  0%|          | 0/77 [00:00<?, ?it/s]"
      ]
     },
     "metadata": {},
     "output_type": "display_data"
    },
    {
     "name": "stdout",
     "output_type": "stream",
     "text": [
      "train loss: 0.37345894069871743\n",
      "val loss: 0.4731832655942351\n",
      "Learning rate: 0.00010000\n",
      "-------------------------------------------------------------\n",
      "Epoch:72/200\n"
     ]
    },
    {
     "data": {
      "application/vnd.jupyter.widget-view+json": {
       "model_id": "778c28f87588469c9563c7d42b69bfb5",
       "version_major": 2,
       "version_minor": 0
      },
      "text/plain": [
       "  0%|          | 0/77 [00:00<?, ?it/s]"
      ]
     },
     "metadata": {},
     "output_type": "display_data"
    },
    {
     "name": "stdout",
     "output_type": "stream",
     "text": [
      "train loss: 0.38423654074021435\n",
      "val loss: 0.4297868298911736\n",
      "Learning rate: 0.00010000\n",
      "-------------------------------------------------------------\n",
      "Epoch:73/200\n"
     ]
    },
    {
     "data": {
      "application/vnd.jupyter.widget-view+json": {
       "model_id": "65aa6d4fba014e618365e52c66e8a64b",
       "version_major": 2,
       "version_minor": 0
      },
      "text/plain": [
       "  0%|          | 0/77 [00:00<?, ?it/s]"
      ]
     },
     "metadata": {},
     "output_type": "display_data"
    },
    {
     "name": "stdout",
     "output_type": "stream",
     "text": [
      "train loss: 0.37835111028076873\n",
      "val loss: 0.452931392192378\n",
      "Learning rate: 0.00010000\n",
      "-------------------------------------------------------------\n",
      "Epoch:74/200\n"
     ]
    },
    {
     "data": {
      "application/vnd.jupyter.widget-view+json": {
       "model_id": "ccbace452916452da6f77e25983b7c44",
       "version_major": 2,
       "version_minor": 0
      },
      "text/plain": [
       "  0%|          | 0/77 [00:00<?, ?it/s]"
      ]
     },
     "metadata": {},
     "output_type": "display_data"
    },
    {
     "name": "stdout",
     "output_type": "stream",
     "text": [
      "train loss: 0.37719276986128863\n",
      "val loss: 0.4243352980424638\n",
      "Learning rate: 0.00010000\n",
      "-------------------------------------------------------------\n",
      "Epoch:75/200\n"
     ]
    },
    {
     "data": {
      "application/vnd.jupyter.widget-view+json": {
       "model_id": "e8e5e3e509384015a22332e89bd8a285",
       "version_major": 2,
       "version_minor": 0
      },
      "text/plain": [
       "  0%|          | 0/77 [00:00<?, ?it/s]"
      ]
     },
     "metadata": {},
     "output_type": "display_data"
    },
    {
     "name": "stdout",
     "output_type": "stream",
     "text": [
      "train loss: 0.365458891064204\n",
      "val loss: 0.42160770168376854\n",
      "Learning rate: 0.00010000\n",
      "-------------------------------------------------------------\n",
      "Epoch:76/200\n"
     ]
    },
    {
     "data": {
      "application/vnd.jupyter.widget-view+json": {
       "model_id": "c4c5da979261405d9bb3873fa8df51f6",
       "version_major": 2,
       "version_minor": 0
      },
      "text/plain": [
       "  0%|          | 0/77 [00:00<?, ?it/s]"
      ]
     },
     "metadata": {},
     "output_type": "display_data"
    },
    {
     "name": "stdout",
     "output_type": "stream",
     "text": [
      "train loss: 0.37835645052151146\n",
      "val loss: 0.4737121254712226\n",
      "Learning rate: 0.00010000\n",
      "-------------------------------------------------------------\n",
      "Epoch:77/200\n"
     ]
    },
    {
     "data": {
      "application/vnd.jupyter.widget-view+json": {
       "model_id": "09a113d849ae4bb3b1e9fcc2a2e7cce6",
       "version_major": 2,
       "version_minor": 0
      },
      "text/plain": [
       "  0%|          | 0/77 [00:00<?, ?it/s]"
      ]
     },
     "metadata": {},
     "output_type": "display_data"
    },
    {
     "name": "stdout",
     "output_type": "stream",
     "text": [
      "train loss: 0.36071813856031615\n",
      "val loss: 0.45554594769503376\n",
      "Learning rate: 0.00010000\n",
      "-------------------------------------------------------------\n",
      "Epoch:78/200\n"
     ]
    },
    {
     "data": {
      "application/vnd.jupyter.widget-view+json": {
       "model_id": "11de723a56994905b50a6c1505a0abef",
       "version_major": 2,
       "version_minor": 0
      },
      "text/plain": [
       "  0%|          | 0/77 [00:00<?, ?it/s]"
      ]
     },
     "metadata": {},
     "output_type": "display_data"
    },
    {
     "name": "stdout",
     "output_type": "stream",
     "text": [
      "train loss: 0.34150287253281114\n",
      "val loss: 0.5056748029680318\n",
      "Learning rate: 0.00010000\n",
      "-------------------------------------------------------------\n",
      "Epoch:79/200\n"
     ]
    },
    {
     "data": {
      "application/vnd.jupyter.widget-view+json": {
       "model_id": "614bca66dffe45edb00f750dae6bf64e",
       "version_major": 2,
       "version_minor": 0
      },
      "text/plain": [
       "  0%|          | 0/77 [00:00<?, ?it/s]"
      ]
     },
     "metadata": {},
     "output_type": "display_data"
    },
    {
     "name": "stdout",
     "output_type": "stream",
     "text": [
      "train loss: 0.37549672149947905\n",
      "val loss: 0.46850922927977395\n",
      "Learning rate: 0.00010000\n",
      "-------------------------------------------------------------\n",
      "Epoch:80/200\n"
     ]
    },
    {
     "data": {
      "application/vnd.jupyter.widget-view+json": {
       "model_id": "6b534d6540d94282a2470ba6a8c19005",
       "version_major": 2,
       "version_minor": 0
      },
      "text/plain": [
       "  0%|          | 0/77 [00:00<?, ?it/s]"
      ]
     },
     "metadata": {},
     "output_type": "display_data"
    },
    {
     "name": "stdout",
     "output_type": "stream",
     "text": [
      "train loss: 0.3944687055611268\n",
      "val loss: 0.4716967923484977\n",
      "Learning rate: 0.00010000\n",
      "-------------------------------------------------------------\n",
      "Epoch:81/200\n"
     ]
    },
    {
     "data": {
      "application/vnd.jupyter.widget-view+json": {
       "model_id": "4d95f707c790485c92a9e78a02322eaf",
       "version_major": 2,
       "version_minor": 0
      },
      "text/plain": [
       "  0%|          | 0/77 [00:00<?, ?it/s]"
      ]
     },
     "metadata": {},
     "output_type": "display_data"
    },
    {
     "name": "stdout",
     "output_type": "stream",
     "text": [
      "train loss: 0.36689644081430084\n",
      "val loss: 0.4333499444861409\n",
      "Learning rate: 0.00010000\n",
      "-------------------------------------------------------------\n",
      "Epoch:82/200\n"
     ]
    },
    {
     "data": {
      "application/vnd.jupyter.widget-view+json": {
       "model_id": "3edb271c8d274dadbd8bcc9c14b7b54f",
       "version_major": 2,
       "version_minor": 0
      },
      "text/plain": [
       "  0%|          | 0/77 [00:00<?, ?it/s]"
      ]
     },
     "metadata": {},
     "output_type": "display_data"
    },
    {
     "name": "stdout",
     "output_type": "stream",
     "text": [
      "train loss: 0.38119461788610387\n",
      "val loss: 0.4112282103800295\n",
      "Learning rate: 0.00010000\n",
      "-------------------------------------------------------------\n",
      "Epoch:83/200\n"
     ]
    },
    {
     "data": {
      "application/vnd.jupyter.widget-view+json": {
       "model_id": "e53c80807e754262bc5879a99174c0f6",
       "version_major": 2,
       "version_minor": 0
      },
      "text/plain": [
       "  0%|          | 0/77 [00:00<?, ?it/s]"
      ]
     },
     "metadata": {},
     "output_type": "display_data"
    },
    {
     "name": "stdout",
     "output_type": "stream",
     "text": [
      "train loss: 0.3611830798844048\n",
      "val loss: 0.4078136043906804\n",
      "Learning rate: 0.00010000\n",
      "-------------------------------------------------------------\n",
      "Epoch:84/200\n"
     ]
    },
    {
     "data": {
      "application/vnd.jupyter.widget-view+json": {
       "model_id": "cbac8691fd104ffa8385be027aa1c54c",
       "version_major": 2,
       "version_minor": 0
      },
      "text/plain": [
       "  0%|          | 0/77 [00:00<?, ?it/s]"
      ]
     },
     "metadata": {},
     "output_type": "display_data"
    },
    {
     "name": "stdout",
     "output_type": "stream",
     "text": [
      "train loss: 0.381851085901138\n",
      "val loss: 0.4477004993977549\n",
      "Learning rate: 0.00010000\n",
      "-------------------------------------------------------------\n",
      "Epoch:85/200\n"
     ]
    },
    {
     "data": {
      "application/vnd.jupyter.widget-view+json": {
       "model_id": "dd56eb9f03b640f9b42dbcdd239b5611",
       "version_major": 2,
       "version_minor": 0
      },
      "text/plain": [
       "  0%|          | 0/77 [00:00<?, ?it/s]"
      ]
     },
     "metadata": {},
     "output_type": "display_data"
    },
    {
     "name": "stdout",
     "output_type": "stream",
     "text": [
      "train loss: 0.36176965696320273\n",
      "val loss: 0.4578455123149895\n",
      "Learning rate: 0.00010000\n",
      "-------------------------------------------------------------\n",
      "Epoch:86/200\n"
     ]
    },
    {
     "data": {
      "application/vnd.jupyter.widget-view+json": {
       "model_id": "06c1b7ddd0a14923972da96d34d389f0",
       "version_major": 2,
       "version_minor": 0
      },
      "text/plain": [
       "  0%|          | 0/77 [00:00<?, ?it/s]"
      ]
     },
     "metadata": {},
     "output_type": "display_data"
    },
    {
     "name": "stdout",
     "output_type": "stream",
     "text": [
      "train loss: 0.37721611498424773\n",
      "val loss: 0.42063502155302945\n",
      "Learning rate: 0.00010000\n",
      "-------------------------------------------------------------\n",
      "Epoch:87/200\n"
     ]
    },
    {
     "data": {
      "application/vnd.jupyter.widget-view+json": {
       "model_id": "5c05d48648ab445fbd7c6da82eb545b7",
       "version_major": 2,
       "version_minor": 0
      },
      "text/plain": [
       "  0%|          | 0/77 [00:00<?, ?it/s]"
      ]
     },
     "metadata": {},
     "output_type": "display_data"
    },
    {
     "name": "stdout",
     "output_type": "stream",
     "text": [
      "train loss: 0.36685175571430023\n",
      "val loss: 0.5230860983126409\n",
      "Learning rate: 0.00010000\n",
      "-------------------------------------------------------------\n",
      "Epoch:88/200\n"
     ]
    },
    {
     "data": {
      "application/vnd.jupyter.widget-view+json": {
       "model_id": "664a3017b53f4310afd6030573703e8c",
       "version_major": 2,
       "version_minor": 0
      },
      "text/plain": [
       "  0%|          | 0/77 [00:00<?, ?it/s]"
      ]
     },
     "metadata": {},
     "output_type": "display_data"
    },
    {
     "name": "stdout",
     "output_type": "stream",
     "text": [
      "train loss: 0.354365414585268\n",
      "val loss: 0.4164735969704952\n",
      "Learning rate: 0.00010000\n",
      "-------------------------------------------------------------\n",
      "Epoch:89/200\n"
     ]
    },
    {
     "data": {
      "application/vnd.jupyter.widget-view+json": {
       "model_id": "ba0e30d4c5fb4a368c32c44f12d64c0a",
       "version_major": 2,
       "version_minor": 0
      },
      "text/plain": [
       "  0%|          | 0/77 [00:00<?, ?it/s]"
      ]
     },
     "metadata": {},
     "output_type": "display_data"
    },
    {
     "name": "stdout",
     "output_type": "stream",
     "text": [
      "train loss: 0.3805245046983846\n",
      "val loss: 0.49002147203817076\n",
      "Learning rate: 0.00010000\n",
      "-------------------------------------------------------------\n",
      "Epoch:90/200\n"
     ]
    },
    {
     "data": {
      "application/vnd.jupyter.widget-view+json": {
       "model_id": "0975c5d50e1c458ab41ba29cd29e0a6e",
       "version_major": 2,
       "version_minor": 0
      },
      "text/plain": [
       "  0%|          | 0/77 [00:00<?, ?it/s]"
      ]
     },
     "metadata": {},
     "output_type": "display_data"
    },
    {
     "name": "stdout",
     "output_type": "stream",
     "text": [
      "train loss: 0.3633073546611981\n",
      "val loss: 0.47007014352399606\n",
      "Learning rate: 0.00010000\n",
      "-------------------------------------------------------------\n",
      "Epoch:91/200\n"
     ]
    },
    {
     "data": {
      "application/vnd.jupyter.widget-view+json": {
       "model_id": "14f0c9a3f60a426abd0c5acb6a4e9b15",
       "version_major": 2,
       "version_minor": 0
      },
      "text/plain": [
       "  0%|          | 0/77 [00:00<?, ?it/s]"
      ]
     },
     "metadata": {},
     "output_type": "display_data"
    },
    {
     "name": "stdout",
     "output_type": "stream",
     "text": [
      "train loss: 0.3766571875497148\n",
      "val loss: 0.442687305053989\n",
      "Learning rate: 0.00010000\n",
      "-------------------------------------------------------------\n",
      "Epoch:92/200\n"
     ]
    },
    {
     "data": {
      "application/vnd.jupyter.widget-view+json": {
       "model_id": "c4dd27fcd3ad4c4480457ca7e21e320c",
       "version_major": 2,
       "version_minor": 0
      },
      "text/plain": [
       "  0%|          | 0/77 [00:00<?, ?it/s]"
      ]
     },
     "metadata": {},
     "output_type": "display_data"
    },
    {
     "name": "stdout",
     "output_type": "stream",
     "text": [
      "train loss: 0.3730504807413726\n",
      "val loss: 0.4387340663858251\n",
      "Learning rate: 0.00010000\n",
      "-------------------------------------------------------------\n",
      "Epoch:93/200\n"
     ]
    },
    {
     "data": {
      "application/vnd.jupyter.widget-view+json": {
       "model_id": "ec917ef011954e648937084ec1cee6e4",
       "version_major": 2,
       "version_minor": 0
      },
      "text/plain": [
       "  0%|          | 0/77 [00:00<?, ?it/s]"
      ]
     },
     "metadata": {},
     "output_type": "display_data"
    },
    {
     "name": "stdout",
     "output_type": "stream",
     "text": [
      "train loss: 0.35663066040877506\n",
      "val loss: 0.46750674898495637\n",
      "Learning rate: 0.00010000\n",
      "-------------------------------------------------------------\n",
      "Epoch:94/200\n"
     ]
    },
    {
     "data": {
      "application/vnd.jupyter.widget-view+json": {
       "model_id": "9c45951d157847e088ef3015b23fc1c6",
       "version_major": 2,
       "version_minor": 0
      },
      "text/plain": [
       "  0%|          | 0/77 [00:00<?, ?it/s]"
      ]
     },
     "metadata": {},
     "output_type": "display_data"
    },
    {
     "name": "stdout",
     "output_type": "stream",
     "text": [
      "train loss: 0.34841656466444965\n",
      "val loss: 0.40287908374768255\n",
      "Learning rate: 0.00010000\n",
      "-------------------------------------------------------------\n",
      "Epoch:95/200\n"
     ]
    },
    {
     "data": {
      "application/vnd.jupyter.widget-view+json": {
       "model_id": "aac9be2dbf9e4a629a0e192abf6adc7b",
       "version_major": 2,
       "version_minor": 0
      },
      "text/plain": [
       "  0%|          | 0/77 [00:00<?, ?it/s]"
      ]
     },
     "metadata": {},
     "output_type": "display_data"
    },
    {
     "name": "stdout",
     "output_type": "stream",
     "text": [
      "train loss: 0.3469196677521575\n",
      "val loss: 0.4433478487490535\n",
      "Learning rate: 0.00010000\n",
      "-------------------------------------------------------------\n",
      "Epoch:96/200\n"
     ]
    },
    {
     "data": {
      "application/vnd.jupyter.widget-view+json": {
       "model_id": "d0ad86297b114ee8a4512b26536a7c82",
       "version_major": 2,
       "version_minor": 0
      },
      "text/plain": [
       "  0%|          | 0/77 [00:00<?, ?it/s]"
      ]
     },
     "metadata": {},
     "output_type": "display_data"
    },
    {
     "name": "stdout",
     "output_type": "stream",
     "text": [
      "train loss: 0.36075612405387714\n",
      "val loss: 0.47923937791554466\n",
      "Learning rate: 0.00010000\n",
      "-------------------------------------------------------------\n",
      "Epoch:97/200\n"
     ]
    },
    {
     "data": {
      "application/vnd.jupyter.widget-view+json": {
       "model_id": "c50a56ea6741446e83df4f27b8ee3ea5",
       "version_major": 2,
       "version_minor": 0
      },
      "text/plain": [
       "  0%|          | 0/77 [00:00<?, ?it/s]"
      ]
     },
     "metadata": {},
     "output_type": "display_data"
    },
    {
     "name": "stdout",
     "output_type": "stream",
     "text": [
      "train loss: 0.36454316630760625\n",
      "val loss: 0.4588103540309563\n",
      "Learning rate: 0.00010000\n",
      "-------------------------------------------------------------\n",
      "Epoch:98/200\n"
     ]
    },
    {
     "data": {
      "application/vnd.jupyter.widget-view+json": {
       "model_id": "7446b26b1abb4a50a03f0026ecb97b73",
       "version_major": 2,
       "version_minor": 0
      },
      "text/plain": [
       "  0%|          | 0/77 [00:00<?, ?it/s]"
      ]
     },
     "metadata": {},
     "output_type": "display_data"
    },
    {
     "name": "stdout",
     "output_type": "stream",
     "text": [
      "train loss: 0.35747583818218426\n",
      "val loss: 0.4757008914117214\n",
      "Learning rate: 0.00010000\n",
      "-------------------------------------------------------------\n",
      "Epoch:99/200\n"
     ]
    },
    {
     "data": {
      "application/vnd.jupyter.widget-view+json": {
       "model_id": "661d5736e2d045ac9b48cf0d30439bf1",
       "version_major": 2,
       "version_minor": 0
      },
      "text/plain": [
       "  0%|          | 0/77 [00:00<?, ?it/s]"
      ]
     },
     "metadata": {},
     "output_type": "display_data"
    },
    {
     "name": "stdout",
     "output_type": "stream",
     "text": [
      "train loss: 0.36174948390848644\n",
      "val loss: 0.4614407445526904\n",
      "Learning rate: 0.00010000\n",
      "-------------------------------------------------------------\n",
      "Epoch:100/200\n"
     ]
    },
    {
     "data": {
      "application/vnd.jupyter.widget-view+json": {
       "model_id": "8c28b97c98a948bea6334ff6a4e089f8",
       "version_major": 2,
       "version_minor": 0
      },
      "text/plain": [
       "  0%|          | 0/77 [00:00<?, ?it/s]"
      ]
     },
     "metadata": {},
     "output_type": "display_data"
    },
    {
     "name": "stdout",
     "output_type": "stream",
     "text": [
      "train loss: 0.37336817749907897\n",
      "val loss: 0.4551006374519861\n",
      "Learning rate: 0.00010000\n",
      "-------------------------------------------------------------\n",
      "Epoch:101/200\n"
     ]
    },
    {
     "data": {
      "application/vnd.jupyter.widget-view+json": {
       "model_id": "61a5f1e76dc841f49a0bcd059d4f1ba0",
       "version_major": 2,
       "version_minor": 0
      },
      "text/plain": [
       "  0%|          | 0/77 [00:00<?, ?it/s]"
      ]
     },
     "metadata": {},
     "output_type": "display_data"
    },
    {
     "name": "stdout",
     "output_type": "stream",
     "text": [
      "train loss: 0.352493831755123\n",
      "val loss: 0.4888041603847504\n",
      "Learning rate: 0.00010000\n",
      "-------------------------------------------------------------\n",
      "Epoch:102/200\n"
     ]
    },
    {
     "data": {
      "application/vnd.jupyter.widget-view+json": {
       "model_id": "23f976b9d4ca4ef6a4ae5f4729df7097",
       "version_major": 2,
       "version_minor": 0
      },
      "text/plain": [
       "  0%|          | 0/77 [00:00<?, ?it/s]"
      ]
     },
     "metadata": {},
     "output_type": "display_data"
    },
    {
     "name": "stdout",
     "output_type": "stream",
     "text": [
      "train loss: 0.3596290533513106\n",
      "val loss: 0.44070606236770093\n",
      "Learning rate: 0.00010000\n",
      "-------------------------------------------------------------\n",
      "Epoch:103/200\n"
     ]
    },
    {
     "data": {
      "application/vnd.jupyter.widget-view+json": {
       "model_id": "6269e75e8356495da289a61661136f08",
       "version_major": 2,
       "version_minor": 0
      },
      "text/plain": [
       "  0%|          | 0/77 [00:00<?, ?it/s]"
      ]
     },
     "metadata": {},
     "output_type": "display_data"
    },
    {
     "name": "stdout",
     "output_type": "stream",
     "text": [
      "train loss: 0.3501026284924921\n",
      "val loss: 0.38863485361702294\n",
      "Learning rate: 0.00010000\n",
      "-------------------------------------------------------------\n",
      "Epoch:104/200\n"
     ]
    },
    {
     "data": {
      "application/vnd.jupyter.widget-view+json": {
       "model_id": "76c8f0ed0be94b159901977f6ff58db4",
       "version_major": 2,
       "version_minor": 0
      },
      "text/plain": [
       "  0%|          | 0/77 [00:00<?, ?it/s]"
      ]
     },
     "metadata": {},
     "output_type": "display_data"
    },
    {
     "name": "stdout",
     "output_type": "stream",
     "text": [
      "train loss: 0.33896771356295147\n",
      "val loss: 0.43956709078984146\n",
      "Learning rate: 0.00010000\n",
      "-------------------------------------------------------------\n",
      "Epoch:105/200\n"
     ]
    },
    {
     "data": {
      "application/vnd.jupyter.widget-view+json": {
       "model_id": "169a313228b74191afa21e145cd1e0d0",
       "version_major": 2,
       "version_minor": 0
      },
      "text/plain": [
       "  0%|          | 0/77 [00:00<?, ?it/s]"
      ]
     },
     "metadata": {},
     "output_type": "display_data"
    },
    {
     "name": "stdout",
     "output_type": "stream",
     "text": [
      "train loss: 0.37309566825873064\n",
      "val loss: 0.4542423241898195\n",
      "Learning rate: 0.00010000\n",
      "-------------------------------------------------------------\n",
      "Epoch:106/200\n"
     ]
    },
    {
     "data": {
      "application/vnd.jupyter.widget-view+json": {
       "model_id": "7760c00792b04107b9d848b255882d71",
       "version_major": 2,
       "version_minor": 0
      },
      "text/plain": [
       "  0%|          | 0/77 [00:00<?, ?it/s]"
      ]
     },
     "metadata": {},
     "output_type": "display_data"
    },
    {
     "name": "stdout",
     "output_type": "stream",
     "text": [
      "train loss: 0.3560910789280732\n",
      "val loss: 0.4062023145290838\n",
      "Learning rate: 0.00010000\n",
      "-------------------------------------------------------------\n",
      "Epoch:107/200\n"
     ]
    },
    {
     "data": {
      "application/vnd.jupyter.widget-view+json": {
       "model_id": "a7d2a76629ae45128ff9089e7b6b8c80",
       "version_major": 2,
       "version_minor": 0
      },
      "text/plain": [
       "  0%|          | 0/77 [00:00<?, ?it/s]"
      ]
     },
     "metadata": {},
     "output_type": "display_data"
    },
    {
     "name": "stdout",
     "output_type": "stream",
     "text": [
      "train loss: 0.36056770201374677\n",
      "val loss: 0.45342871312565475\n",
      "Learning rate: 0.00010000\n",
      "-------------------------------------------------------------\n",
      "Epoch:108/200\n"
     ]
    },
    {
     "data": {
      "application/vnd.jupyter.widget-view+json": {
       "model_id": "98064d2393ac40dd892fd9041b4d6905",
       "version_major": 2,
       "version_minor": 0
      },
      "text/plain": [
       "  0%|          | 0/77 [00:00<?, ?it/s]"
      ]
     },
     "metadata": {},
     "output_type": "display_data"
    },
    {
     "name": "stdout",
     "output_type": "stream",
     "text": [
      "train loss: 0.3459177117435227\n",
      "val loss: 0.464195948372447\n",
      "Learning rate: 0.00010000\n",
      "-------------------------------------------------------------\n",
      "Epoch:109/200\n"
     ]
    },
    {
     "data": {
      "application/vnd.jupyter.widget-view+json": {
       "model_id": "56c6b9af5c214ad591a9d7fa4d53742a",
       "version_major": 2,
       "version_minor": 0
      },
      "text/plain": [
       "  0%|          | 0/77 [00:00<?, ?it/s]"
      ]
     },
     "metadata": {},
     "output_type": "display_data"
    },
    {
     "name": "stdout",
     "output_type": "stream",
     "text": [
      "train loss: 0.35816410905557244\n",
      "val loss: 0.48775425274426193\n",
      "Learning rate: 0.00010000\n",
      "-------------------------------------------------------------\n",
      "Epoch:110/200\n"
     ]
    },
    {
     "data": {
      "application/vnd.jupyter.widget-view+json": {
       "model_id": "c4488b651a2044f083bbcf51f75874bf",
       "version_major": 2,
       "version_minor": 0
      },
      "text/plain": [
       "  0%|          | 0/77 [00:00<?, ?it/s]"
      ]
     },
     "metadata": {},
     "output_type": "display_data"
    },
    {
     "name": "stdout",
     "output_type": "stream",
     "text": [
      "train loss: 0.35766897942886156\n",
      "val loss: 0.389859037930593\n",
      "Learning rate: 0.00010000\n",
      "-------------------------------------------------------------\n",
      "Epoch:111/200\n"
     ]
    },
    {
     "data": {
      "application/vnd.jupyter.widget-view+json": {
       "model_id": "71debfd882714cd59c090f759b7be8df",
       "version_major": 2,
       "version_minor": 0
      },
      "text/plain": [
       "  0%|          | 0/77 [00:00<?, ?it/s]"
      ]
     },
     "metadata": {},
     "output_type": "display_data"
    },
    {
     "name": "stdout",
     "output_type": "stream",
     "text": [
      "train loss: 0.3505089267329131\n",
      "val loss: 0.45062706042002093\n",
      "Learning rate: 0.00010000\n",
      "-------------------------------------------------------------\n",
      "Epoch:112/200\n"
     ]
    },
    {
     "data": {
      "application/vnd.jupyter.widget-view+json": {
       "model_id": "57f42225986b413f9cd01f0acb53020d",
       "version_major": 2,
       "version_minor": 0
      },
      "text/plain": [
       "  0%|          | 0/77 [00:00<?, ?it/s]"
      ]
     },
     "metadata": {},
     "output_type": "display_data"
    },
    {
     "name": "stdout",
     "output_type": "stream",
     "text": [
      "train loss: 0.3482347750236917\n",
      "val loss: 0.44963582893212894\n",
      "Learning rate: 0.00010000\n",
      "-------------------------------------------------------------\n",
      "Epoch:113/200\n"
     ]
    },
    {
     "data": {
      "application/vnd.jupyter.widget-view+json": {
       "model_id": "23e7e97227714ff789ff256e5a8a042d",
       "version_major": 2,
       "version_minor": 0
      },
      "text/plain": [
       "  0%|          | 0/77 [00:00<?, ?it/s]"
      ]
     },
     "metadata": {},
     "output_type": "display_data"
    },
    {
     "name": "stdout",
     "output_type": "stream",
     "text": [
      "train loss: 0.33583292625882727\n",
      "val loss: 0.424149532361027\n",
      "Learning rate: 0.00010000\n",
      "-------------------------------------------------------------\n",
      "Epoch:114/200\n"
     ]
    },
    {
     "data": {
      "application/vnd.jupyter.widget-view+json": {
       "model_id": "5e40c6dcd8554bbfa856fe88da362155",
       "version_major": 2,
       "version_minor": 0
      },
      "text/plain": [
       "  0%|          | 0/77 [00:00<?, ?it/s]"
      ]
     },
     "metadata": {},
     "output_type": "display_data"
    },
    {
     "name": "stdout",
     "output_type": "stream",
     "text": [
      "train loss: 0.32363367119739006\n",
      "val loss: 0.44154489633871247\n",
      "Learning rate: 0.00010000\n",
      "-------------------------------------------------------------\n",
      "Epoch:115/200\n"
     ]
    },
    {
     "data": {
      "application/vnd.jupyter.widget-view+json": {
       "model_id": "58dd05952df740e9a27bb71975186d5e",
       "version_major": 2,
       "version_minor": 0
      },
      "text/plain": [
       "  0%|          | 0/77 [00:00<?, ?it/s]"
      ]
     },
     "metadata": {},
     "output_type": "display_data"
    },
    {
     "name": "stdout",
     "output_type": "stream",
     "text": [
      "train loss: 0.3334918174196562\n",
      "val loss: 0.4144496699212665\n",
      "Learning rate: 0.00010000\n",
      "-------------------------------------------------------------\n",
      "Epoch:116/200\n"
     ]
    },
    {
     "data": {
      "application/vnd.jupyter.widget-view+json": {
       "model_id": "c6610cefab0946febe8fac143683007e",
       "version_major": 2,
       "version_minor": 0
      },
      "text/plain": [
       "  0%|          | 0/77 [00:00<?, ?it/s]"
      ]
     },
     "metadata": {},
     "output_type": "display_data"
    },
    {
     "name": "stdout",
     "output_type": "stream",
     "text": [
      "train loss: 0.34332282400978786\n",
      "val loss: 0.442682505846995\n",
      "Learning rate: 0.00010000\n",
      "-------------------------------------------------------------\n",
      "Epoch:117/200\n"
     ]
    },
    {
     "data": {
      "application/vnd.jupyter.widget-view+json": {
       "model_id": "ec95baff310f46acb399d74c350c66d8",
       "version_major": 2,
       "version_minor": 0
      },
      "text/plain": [
       "  0%|          | 0/77 [00:00<?, ?it/s]"
      ]
     },
     "metadata": {},
     "output_type": "display_data"
    },
    {
     "name": "stdout",
     "output_type": "stream",
     "text": [
      "train loss: 0.33461252950281056\n",
      "val loss: 0.47789955710597487\n",
      "Learning rate: 0.00010000\n",
      "-------------------------------------------------------------\n",
      "Epoch:118/200\n"
     ]
    },
    {
     "data": {
      "application/vnd.jupyter.widget-view+json": {
       "model_id": "3e65b65cb46a487cb624ffc8eff132fb",
       "version_major": 2,
       "version_minor": 0
      },
      "text/plain": [
       "  0%|          | 0/77 [00:00<?, ?it/s]"
      ]
     },
     "metadata": {},
     "output_type": "display_data"
    },
    {
     "name": "stdout",
     "output_type": "stream",
     "text": [
      "train loss: 0.32424667185111244\n",
      "val loss: 0.4931840780487944\n",
      "Learning rate: 0.00010000\n",
      "-------------------------------------------------------------\n",
      "Epoch:119/200\n"
     ]
    },
    {
     "data": {
      "application/vnd.jupyter.widget-view+json": {
       "model_id": "7c38a214a4ae42a696976faf05c902c2",
       "version_major": 2,
       "version_minor": 0
      },
      "text/plain": [
       "  0%|          | 0/77 [00:00<?, ?it/s]"
      ]
     },
     "metadata": {},
     "output_type": "display_data"
    },
    {
     "name": "stdout",
     "output_type": "stream",
     "text": [
      "train loss: 0.36212878804099297\n",
      "val loss: 0.44494082164326765\n",
      "Learning rate: 0.00010000\n",
      "-------------------------------------------------------------\n",
      "Epoch:120/200\n"
     ]
    },
    {
     "data": {
      "application/vnd.jupyter.widget-view+json": {
       "model_id": "aa1a01d587704de285c7b96cc6a704f0",
       "version_major": 2,
       "version_minor": 0
      },
      "text/plain": [
       "  0%|          | 0/77 [00:00<?, ?it/s]"
      ]
     },
     "metadata": {},
     "output_type": "display_data"
    },
    {
     "name": "stdout",
     "output_type": "stream",
     "text": [
      "train loss: 0.35179756526668887\n",
      "val loss: 0.4270451162837288\n",
      "Learning rate: 0.00010000\n",
      "-------------------------------------------------------------\n",
      "Epoch:121/200\n"
     ]
    },
    {
     "data": {
      "application/vnd.jupyter.widget-view+json": {
       "model_id": "38425073b9a44c2e8b4b01878d22f5eb",
       "version_major": 2,
       "version_minor": 0
      },
      "text/plain": [
       "  0%|          | 0/77 [00:00<?, ?it/s]"
      ]
     },
     "metadata": {},
     "output_type": "display_data"
    },
    {
     "name": "stdout",
     "output_type": "stream",
     "text": [
      "train loss: 0.3194966800180044\n",
      "val loss: 0.5024762273589165\n",
      "Learning rate: 0.00010000\n",
      "-------------------------------------------------------------\n",
      "Epoch:122/200\n"
     ]
    },
    {
     "data": {
      "application/vnd.jupyter.widget-view+json": {
       "model_id": "6a4feb7c27c74acbab26142f11aeab51",
       "version_major": 2,
       "version_minor": 0
      },
      "text/plain": [
       "  0%|          | 0/77 [00:00<?, ?it/s]"
      ]
     },
     "metadata": {},
     "output_type": "display_data"
    },
    {
     "name": "stdout",
     "output_type": "stream",
     "text": [
      "train loss: 0.3549579535601412\n",
      "val loss: 0.4390817591317217\n",
      "Learning rate: 0.00010000\n",
      "-------------------------------------------------------------\n",
      "Epoch:123/200\n"
     ]
    },
    {
     "data": {
      "application/vnd.jupyter.widget-view+json": {
       "model_id": "2e9293c0927a447d8fc25bc53d2da516",
       "version_major": 2,
       "version_minor": 0
      },
      "text/plain": [
       "  0%|          | 0/77 [00:00<?, ?it/s]"
      ]
     },
     "metadata": {},
     "output_type": "display_data"
    },
    {
     "name": "stdout",
     "output_type": "stream",
     "text": [
      "train loss: 0.3389782365981405\n",
      "val loss: 0.45602262820427875\n",
      "Learning rate: 0.00010000\n",
      "-------------------------------------------------------------\n",
      "Epoch:124/200\n"
     ]
    },
    {
     "data": {
      "application/vnd.jupyter.widget-view+json": {
       "model_id": "13a0f50014ba4d4fa97142e7b209988a",
       "version_major": 2,
       "version_minor": 0
      },
      "text/plain": [
       "  0%|          | 0/77 [00:00<?, ?it/s]"
      ]
     },
     "metadata": {},
     "output_type": "display_data"
    },
    {
     "name": "stdout",
     "output_type": "stream",
     "text": [
      "train loss: 0.34964311700429024\n",
      "val loss: 0.4162686181176432\n",
      "Learning rate: 0.00010000\n",
      "-------------------------------------------------------------\n",
      "Epoch:125/200\n"
     ]
    },
    {
     "data": {
      "application/vnd.jupyter.widget-view+json": {
       "model_id": "646e3e4f63d24f7b9138ce3583f8d749",
       "version_major": 2,
       "version_minor": 0
      },
      "text/plain": [
       "  0%|          | 0/77 [00:00<?, ?it/s]"
      ]
     },
     "metadata": {},
     "output_type": "display_data"
    },
    {
     "name": "stdout",
     "output_type": "stream",
     "text": [
      "train loss: 0.3320058976963652\n",
      "val loss: 0.4343948856509593\n",
      "Learning rate: 0.00010000\n",
      "-------------------------------------------------------------\n",
      "Epoch:126/200\n"
     ]
    },
    {
     "data": {
      "application/vnd.jupyter.widget-view+json": {
       "model_id": "002d6526d5574ffc98104f89af01cd70",
       "version_major": 2,
       "version_minor": 0
      },
      "text/plain": [
       "  0%|          | 0/77 [00:00<?, ?it/s]"
      ]
     },
     "metadata": {},
     "output_type": "display_data"
    },
    {
     "name": "stdout",
     "output_type": "stream",
     "text": [
      "train loss: 0.3255154405229054\n",
      "val loss: 0.42747575167263163\n",
      "Learning rate: 0.00010000\n",
      "-------------------------------------------------------------\n",
      "Epoch:127/200\n"
     ]
    },
    {
     "data": {
      "application/vnd.jupyter.widget-view+json": {
       "model_id": "99f0fbbcb9cf47cc85c3ae572d77f908",
       "version_major": 2,
       "version_minor": 0
      },
      "text/plain": [
       "  0%|          | 0/77 [00:00<?, ?it/s]"
      ]
     },
     "metadata": {},
     "output_type": "display_data"
    },
    {
     "name": "stdout",
     "output_type": "stream",
     "text": [
      "train loss: 0.333944036299554\n",
      "val loss: 0.44815270866757717\n",
      "Learning rate: 0.00010000\n",
      "-------------------------------------------------------------\n",
      "Epoch:128/200\n"
     ]
    },
    {
     "data": {
      "application/vnd.jupyter.widget-view+json": {
       "model_id": "9c4a5e13c33048dcbde939dbc8f36675",
       "version_major": 2,
       "version_minor": 0
      },
      "text/plain": [
       "  0%|          | 0/77 [00:00<?, ?it/s]"
      ]
     },
     "metadata": {},
     "output_type": "display_data"
    },
    {
     "name": "stdout",
     "output_type": "stream",
     "text": [
      "train loss: 0.35380271212848047\n",
      "val loss: 0.4237159068600987\n",
      "Learning rate: 0.00010000\n",
      "-------------------------------------------------------------\n",
      "Epoch:129/200\n"
     ]
    },
    {
     "data": {
      "application/vnd.jupyter.widget-view+json": {
       "model_id": "2e50bcd163d54929b43854e120b0e078",
       "version_major": 2,
       "version_minor": 0
      },
      "text/plain": [
       "  0%|          | 0/77 [00:00<?, ?it/s]"
      ]
     },
     "metadata": {},
     "output_type": "display_data"
    },
    {
     "name": "stdout",
     "output_type": "stream",
     "text": [
      "train loss: 0.3755421836697927\n",
      "val loss: 0.4526861468725144\n",
      "Learning rate: 0.00010000\n",
      "-------------------------------------------------------------\n",
      "Epoch:130/200\n"
     ]
    },
    {
     "data": {
      "application/vnd.jupyter.widget-view+json": {
       "model_id": "7537376f75484feb864999e2ec5e87bb",
       "version_major": 2,
       "version_minor": 0
      },
      "text/plain": [
       "  0%|          | 0/77 [00:00<?, ?it/s]"
      ]
     },
     "metadata": {},
     "output_type": "display_data"
    },
    {
     "name": "stdout",
     "output_type": "stream",
     "text": [
      "train loss: 0.3335189698697154\n",
      "val loss: 0.441004419215966\n",
      "Learning rate: 0.00010000\n",
      "-------------------------------------------------------------\n",
      "Epoch:131/200\n"
     ]
    },
    {
     "data": {
      "application/vnd.jupyter.widget-view+json": {
       "model_id": "a30964adc43d49c2b1b0fc49d258ec67",
       "version_major": 2,
       "version_minor": 0
      },
      "text/plain": [
       "  0%|          | 0/77 [00:00<?, ?it/s]"
      ]
     },
     "metadata": {},
     "output_type": "display_data"
    },
    {
     "name": "stdout",
     "output_type": "stream",
     "text": [
      "train loss: 0.338853841525688\n",
      "val loss: 0.40436294956746843\n",
      "Learning rate: 0.00010000\n",
      "-------------------------------------------------------------\n",
      "Epoch:132/200\n"
     ]
    },
    {
     "data": {
      "application/vnd.jupyter.widget-view+json": {
       "model_id": "afcae841999f438bb1b0e63356d43dfa",
       "version_major": 2,
       "version_minor": 0
      },
      "text/plain": [
       "  0%|          | 0/77 [00:00<?, ?it/s]"
      ]
     },
     "metadata": {},
     "output_type": "display_data"
    },
    {
     "name": "stdout",
     "output_type": "stream",
     "text": [
      "train loss: 0.3432882323912756\n",
      "val loss: 0.43922232997375127\n",
      "Learning rate: 0.00010000\n",
      "-------------------------------------------------------------\n",
      "Epoch:133/200\n"
     ]
    },
    {
     "data": {
      "application/vnd.jupyter.widget-view+json": {
       "model_id": "bba89fa211d946269181636b95b5295e",
       "version_major": 2,
       "version_minor": 0
      },
      "text/plain": [
       "  0%|          | 0/77 [00:00<?, ?it/s]"
      ]
     },
     "metadata": {},
     "output_type": "display_data"
    },
    {
     "name": "stdout",
     "output_type": "stream",
     "text": [
      "train loss: 0.36387466074960034\n",
      "val loss: 0.512203889253082\n",
      "Learning rate: 0.00010000\n",
      "-------------------------------------------------------------\n",
      "Epoch:134/200\n"
     ]
    },
    {
     "data": {
      "application/vnd.jupyter.widget-view+json": {
       "model_id": "b1d9ecda5f4b49a9b9b89ccbfc9c2db7",
       "version_major": 2,
       "version_minor": 0
      },
      "text/plain": [
       "  0%|          | 0/77 [00:00<?, ?it/s]"
      ]
     },
     "metadata": {},
     "output_type": "display_data"
    },
    {
     "name": "stdout",
     "output_type": "stream",
     "text": [
      "train loss: 0.39489689387889765\n",
      "val loss: 0.3917021072248578\n",
      "Learning rate: 0.00010000\n",
      "-------------------------------------------------------------\n",
      "Epoch:135/200\n"
     ]
    },
    {
     "data": {
      "application/vnd.jupyter.widget-view+json": {
       "model_id": "bf3ca7a8536c4aee9cd5d802bbe9c499",
       "version_major": 2,
       "version_minor": 0
      },
      "text/plain": [
       "  0%|          | 0/77 [00:00<?, ?it/s]"
      ]
     },
     "metadata": {},
     "output_type": "display_data"
    },
    {
     "name": "stdout",
     "output_type": "stream",
     "text": [
      "train loss: 0.37615869335516583\n",
      "val loss: 0.40945664102875395\n",
      "Learning rate: 0.00010000\n",
      "-------------------------------------------------------------\n",
      "Epoch:136/200\n"
     ]
    },
    {
     "data": {
      "application/vnd.jupyter.widget-view+json": {
       "model_id": "ff4643c015f94333bd0f71f589346662",
       "version_major": 2,
       "version_minor": 0
      },
      "text/plain": [
       "  0%|          | 0/77 [00:00<?, ?it/s]"
      ]
     },
     "metadata": {},
     "output_type": "display_data"
    },
    {
     "name": "stdout",
     "output_type": "stream",
     "text": [
      "train loss: 0.3599614484478515\n",
      "val loss: 0.44293137480846345\n",
      "Learning rate: 0.00010000\n",
      "-------------------------------------------------------------\n",
      "Epoch:137/200\n"
     ]
    },
    {
     "data": {
      "application/vnd.jupyter.widget-view+json": {
       "model_id": "6f89b1518aae493eb3a01d8bb7469849",
       "version_major": 2,
       "version_minor": 0
      },
      "text/plain": [
       "  0%|          | 0/77 [00:00<?, ?it/s]"
      ]
     },
     "metadata": {},
     "output_type": "display_data"
    },
    {
     "name": "stdout",
     "output_type": "stream",
     "text": [
      "train loss: 0.3705006774885913\n",
      "val loss: 0.46112286254336876\n",
      "Learning rate: 0.00010000\n",
      "-------------------------------------------------------------\n",
      "Epoch:138/200\n"
     ]
    },
    {
     "data": {
      "application/vnd.jupyter.widget-view+json": {
       "model_id": "6abf22730711464f89753dfb713c6116",
       "version_major": 2,
       "version_minor": 0
      },
      "text/plain": [
       "  0%|          | 0/77 [00:00<?, ?it/s]"
      ]
     },
     "metadata": {},
     "output_type": "display_data"
    },
    {
     "name": "stdout",
     "output_type": "stream",
     "text": [
      "train loss: 0.36518300662488434\n",
      "val loss: 0.4825026498969092\n",
      "Learning rate: 0.00010000\n",
      "-------------------------------------------------------------\n",
      "Epoch:139/200\n"
     ]
    },
    {
     "data": {
      "application/vnd.jupyter.widget-view+json": {
       "model_id": "b395fdf86bd040a4a5f9365074118406",
       "version_major": 2,
       "version_minor": 0
      },
      "text/plain": [
       "  0%|          | 0/77 [00:00<?, ?it/s]"
      ]
     },
     "metadata": {},
     "output_type": "display_data"
    },
    {
     "name": "stdout",
     "output_type": "stream",
     "text": [
      "train loss: 0.32364547317532066\n",
      "val loss: 0.4541728956939418\n",
      "Learning rate: 0.00010000\n",
      "-------------------------------------------------------------\n",
      "Epoch:140/200\n"
     ]
    },
    {
     "data": {
      "application/vnd.jupyter.widget-view+json": {
       "model_id": "beb218e6564e44f69e406130645da8ab",
       "version_major": 2,
       "version_minor": 0
      },
      "text/plain": [
       "  0%|          | 0/77 [00:00<?, ?it/s]"
      ]
     },
     "metadata": {},
     "output_type": "display_data"
    },
    {
     "name": "stdout",
     "output_type": "stream",
     "text": [
      "train loss: 0.3701137996904047\n",
      "val loss: 0.4639244444630901\n",
      "Learning rate: 0.00010000\n",
      "-------------------------------------------------------------\n",
      "Epoch:141/200\n"
     ]
    },
    {
     "data": {
      "application/vnd.jupyter.widget-view+json": {
       "model_id": "db959fdba549499594fcd41b07b27e81",
       "version_major": 2,
       "version_minor": 0
      },
      "text/plain": [
       "  0%|          | 0/77 [00:00<?, ?it/s]"
      ]
     },
     "metadata": {},
     "output_type": "display_data"
    },
    {
     "name": "stdout",
     "output_type": "stream",
     "text": [
      "train loss: 0.3563065138692323\n",
      "val loss: 0.4387226251925578\n",
      "Learning rate: 0.00010000\n",
      "-------------------------------------------------------------\n",
      "Epoch:142/200\n"
     ]
    },
    {
     "data": {
      "application/vnd.jupyter.widget-view+json": {
       "model_id": "b47c5376c06a4e068d4ebfd54e307344",
       "version_major": 2,
       "version_minor": 0
      },
      "text/plain": [
       "  0%|          | 0/77 [00:00<?, ?it/s]"
      ]
     },
     "metadata": {},
     "output_type": "display_data"
    },
    {
     "name": "stdout",
     "output_type": "stream",
     "text": [
      "train loss: 0.36392672640449336\n",
      "val loss: 0.397861557698979\n",
      "Learning rate: 0.00010000\n",
      "-------------------------------------------------------------\n",
      "Epoch:143/200\n"
     ]
    },
    {
     "data": {
      "application/vnd.jupyter.widget-view+json": {
       "model_id": "e0b07bb34b61400f8dec96429ebc9083",
       "version_major": 2,
       "version_minor": 0
      },
      "text/plain": [
       "  0%|          | 0/77 [00:00<?, ?it/s]"
      ]
     },
     "metadata": {},
     "output_type": "display_data"
    },
    {
     "name": "stdout",
     "output_type": "stream",
     "text": [
      "train loss: 0.34003544128815466\n",
      "val loss: 0.5192679617453628\n",
      "Learning rate: 0.00010000\n",
      "-------------------------------------------------------------\n",
      "Epoch:144/200\n"
     ]
    },
    {
     "data": {
      "application/vnd.jupyter.widget-view+json": {
       "model_id": "6a7265d5882d40b1ab7985a7eee6ed28",
       "version_major": 2,
       "version_minor": 0
      },
      "text/plain": [
       "  0%|          | 0/77 [00:00<?, ?it/s]"
      ]
     },
     "metadata": {},
     "output_type": "display_data"
    },
    {
     "name": "stdout",
     "output_type": "stream",
     "text": [
      "train loss: 0.3474093553736362\n",
      "val loss: 0.4358480612310621\n",
      "Learning rate: 0.00010000\n",
      "-------------------------------------------------------------\n",
      "Epoch:145/200\n"
     ]
    },
    {
     "data": {
      "application/vnd.jupyter.widget-view+json": {
       "model_id": "7fabddabace54cda9062f4cbe5f73bf0",
       "version_major": 2,
       "version_minor": 0
      },
      "text/plain": [
       "  0%|          | 0/77 [00:00<?, ?it/s]"
      ]
     },
     "metadata": {},
     "output_type": "display_data"
    },
    {
     "name": "stdout",
     "output_type": "stream",
     "text": [
      "train loss: 0.341083946688487\n",
      "val loss: 0.4211152291253235\n",
      "Learning rate: 0.00010000\n",
      "-------------------------------------------------------------\n",
      "Epoch:146/200\n"
     ]
    },
    {
     "data": {
      "application/vnd.jupyter.widget-view+json": {
       "model_id": "b1bf5206ece947949c96c8e4dfa6ef01",
       "version_major": 2,
       "version_minor": 0
      },
      "text/plain": [
       "  0%|          | 0/77 [00:00<?, ?it/s]"
      ]
     },
     "metadata": {},
     "output_type": "display_data"
    },
    {
     "name": "stdout",
     "output_type": "stream",
     "text": [
      "train loss: 0.3392590748715105\n",
      "val loss: 0.384868472613917\n",
      "Learning rate: 0.00010000\n",
      "-------------------------------------------------------------\n",
      "Epoch:147/200\n"
     ]
    },
    {
     "data": {
      "application/vnd.jupyter.widget-view+json": {
       "model_id": "470ccc43a73b4068b58c8c88c592ca8d",
       "version_major": 2,
       "version_minor": 0
      },
      "text/plain": [
       "  0%|          | 0/77 [00:00<?, ?it/s]"
      ]
     },
     "metadata": {},
     "output_type": "display_data"
    },
    {
     "name": "stdout",
     "output_type": "stream",
     "text": [
      "train loss: 0.35367418324614985\n",
      "val loss: 0.4293926022695308\n",
      "Learning rate: 0.00010000\n",
      "-------------------------------------------------------------\n",
      "Epoch:148/200\n"
     ]
    },
    {
     "data": {
      "application/vnd.jupyter.widget-view+json": {
       "model_id": "ebb865e81bad487382abc7c9c9e3814c",
       "version_major": 2,
       "version_minor": 0
      },
      "text/plain": [
       "  0%|          | 0/77 [00:00<?, ?it/s]"
      ]
     },
     "metadata": {},
     "output_type": "display_data"
    },
    {
     "name": "stdout",
     "output_type": "stream",
     "text": [
      "train loss: 0.33520663052804966\n",
      "val loss: 0.4955689865819295\n",
      "Learning rate: 0.00010000\n",
      "-------------------------------------------------------------\n",
      "Epoch:149/200\n"
     ]
    },
    {
     "data": {
      "application/vnd.jupyter.widget-view+json": {
       "model_id": "ceee87912a474bbb896978767ad85da1",
       "version_major": 2,
       "version_minor": 0
      },
      "text/plain": [
       "  0%|          | 0/77 [00:00<?, ?it/s]"
      ]
     },
     "metadata": {},
     "output_type": "display_data"
    },
    {
     "name": "stdout",
     "output_type": "stream",
     "text": [
      "train loss: 0.3574192346042133\n",
      "val loss: 0.36358341368581\n",
      "Learning rate: 0.00010000\n",
      "-------------------------------------------------------------\n",
      "Epoch:150/200\n"
     ]
    },
    {
     "data": {
      "application/vnd.jupyter.widget-view+json": {
       "model_id": "6118a3df070f452ab2acfc2169cd6936",
       "version_major": 2,
       "version_minor": 0
      },
      "text/plain": [
       "  0%|          | 0/77 [00:00<?, ?it/s]"
      ]
     },
     "metadata": {},
     "output_type": "display_data"
    },
    {
     "name": "stdout",
     "output_type": "stream",
     "text": [
      "train loss: 0.33683895422633375\n",
      "val loss: 0.48052967929810175\n",
      "Learning rate: 0.00010000\n",
      "-------------------------------------------------------------\n",
      "Epoch:151/200\n"
     ]
    },
    {
     "data": {
      "application/vnd.jupyter.widget-view+json": {
       "model_id": "2de3180e5f0e4532a16e9739ecaa9564",
       "version_major": 2,
       "version_minor": 0
      },
      "text/plain": [
       "  0%|          | 0/77 [00:00<?, ?it/s]"
      ]
     },
     "metadata": {},
     "output_type": "display_data"
    },
    {
     "name": "stdout",
     "output_type": "stream",
     "text": [
      "train loss: 0.3553963846413254\n",
      "val loss: 0.40600734396871574\n",
      "Learning rate: 0.00010000\n",
      "-------------------------------------------------------------\n",
      "Epoch:152/200\n"
     ]
    },
    {
     "data": {
      "application/vnd.jupyter.widget-view+json": {
       "model_id": "850e98472bf947a5b12810c7f4ba63fa",
       "version_major": 2,
       "version_minor": 0
      },
      "text/plain": [
       "  0%|          | 0/77 [00:00<?, ?it/s]"
      ]
     },
     "metadata": {},
     "output_type": "display_data"
    },
    {
     "name": "stdout",
     "output_type": "stream",
     "text": [
      "train loss: 0.33009655166396323\n",
      "val loss: 0.4121074435130887\n",
      "Learning rate: 0.00010000\n",
      "-------------------------------------------------------------\n",
      "Epoch:153/200\n"
     ]
    },
    {
     "data": {
      "application/vnd.jupyter.widget-view+json": {
       "model_id": "6cc7015c74224d00b98644bbf1817e8a",
       "version_major": 2,
       "version_minor": 0
      },
      "text/plain": [
       "  0%|          | 0/77 [00:00<?, ?it/s]"
      ]
     },
     "metadata": {},
     "output_type": "display_data"
    },
    {
     "name": "stdout",
     "output_type": "stream",
     "text": [
      "train loss: 0.3398333360347801\n",
      "val loss: 0.42135663009022684\n",
      "Learning rate: 0.00010000\n",
      "-------------------------------------------------------------\n",
      "Epoch:154/200\n"
     ]
    },
    {
     "data": {
      "application/vnd.jupyter.widget-view+json": {
       "model_id": "53a973f23a074f20a24f6f6a9fab9f09",
       "version_major": 2,
       "version_minor": 0
      },
      "text/plain": [
       "  0%|          | 0/77 [00:00<?, ?it/s]"
      ]
     },
     "metadata": {},
     "output_type": "display_data"
    },
    {
     "name": "stdout",
     "output_type": "stream",
     "text": [
      "train loss: 0.34120686353634644\n",
      "val loss: 0.3651691942104903\n",
      "Learning rate: 0.00010000\n",
      "-------------------------------------------------------------\n",
      "Epoch:155/200\n"
     ]
    },
    {
     "data": {
      "application/vnd.jupyter.widget-view+json": {
       "model_id": "ff927f250f6d49ffadf678b0b95ded85",
       "version_major": 2,
       "version_minor": 0
      },
      "text/plain": [
       "  0%|          | 0/77 [00:00<?, ?it/s]"
      ]
     },
     "metadata": {},
     "output_type": "display_data"
    },
    {
     "name": "stdout",
     "output_type": "stream",
     "text": [
      "train loss: 0.33059628509416283\n",
      "val loss: 0.47040834664650466\n",
      "Learning rate: 0.00010000\n",
      "-------------------------------------------------------------\n",
      "Epoch:156/200\n"
     ]
    },
    {
     "data": {
      "application/vnd.jupyter.widget-view+json": {
       "model_id": "fbff93a56e744b7db3947fe68d5caa31",
       "version_major": 2,
       "version_minor": 0
      },
      "text/plain": [
       "  0%|          | 0/77 [00:00<?, ?it/s]"
      ]
     },
     "metadata": {},
     "output_type": "display_data"
    },
    {
     "name": "stdout",
     "output_type": "stream",
     "text": [
      "train loss: 0.299927478161061\n",
      "val loss: 0.43253987568132046\n",
      "Learning rate: 0.00010000\n",
      "-------------------------------------------------------------\n",
      "Epoch:157/200\n"
     ]
    },
    {
     "data": {
      "application/vnd.jupyter.widget-view+json": {
       "model_id": "e1a102c72cb54cd6af41eaa99f4a5a55",
       "version_major": 2,
       "version_minor": 0
      },
      "text/plain": [
       "  0%|          | 0/77 [00:00<?, ?it/s]"
      ]
     },
     "metadata": {},
     "output_type": "display_data"
    },
    {
     "name": "stdout",
     "output_type": "stream",
     "text": [
      "train loss: 0.32866029236107125\n",
      "val loss: 0.4729269734686526\n",
      "Learning rate: 0.00010000\n",
      "-------------------------------------------------------------\n",
      "Epoch:158/200\n"
     ]
    },
    {
     "data": {
      "application/vnd.jupyter.widget-view+json": {
       "model_id": "c43013db79ad46e9af7ffbab81038079",
       "version_major": 2,
       "version_minor": 0
      },
      "text/plain": [
       "  0%|          | 0/77 [00:00<?, ?it/s]"
      ]
     },
     "metadata": {},
     "output_type": "display_data"
    },
    {
     "name": "stdout",
     "output_type": "stream",
     "text": [
      "train loss: 0.3259393081264054\n",
      "val loss: 0.44300674511049276\n",
      "Learning rate: 0.00010000\n",
      "-------------------------------------------------------------\n",
      "Epoch:159/200\n"
     ]
    },
    {
     "data": {
      "application/vnd.jupyter.widget-view+json": {
       "model_id": "45eb3286edf349b7948bd33198c99417",
       "version_major": 2,
       "version_minor": 0
      },
      "text/plain": [
       "  0%|          | 0/77 [00:00<?, ?it/s]"
      ]
     },
     "metadata": {},
     "output_type": "display_data"
    },
    {
     "name": "stdout",
     "output_type": "stream",
     "text": [
      "train loss: 0.31316220821072666\n",
      "val loss: 0.46904203252650656\n",
      "Learning rate: 0.00010000\n",
      "-------------------------------------------------------------\n",
      "Epoch:160/200\n"
     ]
    },
    {
     "data": {
      "application/vnd.jupyter.widget-view+json": {
       "model_id": "1fa4d4cd013d44dd974c499c267650bc",
       "version_major": 2,
       "version_minor": 0
      },
      "text/plain": [
       "  0%|          | 0/77 [00:00<?, ?it/s]"
      ]
     },
     "metadata": {},
     "output_type": "display_data"
    },
    {
     "name": "stdout",
     "output_type": "stream",
     "text": [
      "train loss: 0.3301576692408985\n",
      "val loss: 0.41291913171697775\n",
      "Learning rate: 0.00010000\n",
      "-------------------------------------------------------------\n",
      "Epoch:161/200\n"
     ]
    },
    {
     "data": {
      "application/vnd.jupyter.widget-view+json": {
       "model_id": "b1a177f43a0d44af8a049309727fe279",
       "version_major": 2,
       "version_minor": 0
      },
      "text/plain": [
       "  0%|          | 0/77 [00:00<?, ?it/s]"
      ]
     },
     "metadata": {},
     "output_type": "display_data"
    },
    {
     "name": "stdout",
     "output_type": "stream",
     "text": [
      "train loss: 0.3255955104045838\n",
      "val loss: 0.4341593111895772\n",
      "Learning rate: 0.00010000\n",
      "-------------------------------------------------------------\n",
      "Epoch:162/200\n"
     ]
    },
    {
     "data": {
      "application/vnd.jupyter.widget-view+json": {
       "model_id": "1cf98fa675d24bbd91ae5697d65ad293",
       "version_major": 2,
       "version_minor": 0
      },
      "text/plain": [
       "  0%|          | 0/77 [00:00<?, ?it/s]"
      ]
     },
     "metadata": {},
     "output_type": "display_data"
    },
    {
     "name": "stdout",
     "output_type": "stream",
     "text": [
      "train loss: 0.33521883010819314\n",
      "val loss: 0.4617862414181206\n",
      "Learning rate: 0.00010000\n",
      "-------------------------------------------------------------\n",
      "Epoch:163/200\n"
     ]
    },
    {
     "data": {
      "application/vnd.jupyter.widget-view+json": {
       "model_id": "cfb5e84f868944069024860ac71ea47a",
       "version_major": 2,
       "version_minor": 0
      },
      "text/plain": [
       "  0%|          | 0/77 [00:00<?, ?it/s]"
      ]
     },
     "metadata": {},
     "output_type": "display_data"
    },
    {
     "name": "stdout",
     "output_type": "stream",
     "text": [
      "train loss: 0.3313034240058642\n",
      "val loss: 0.4456615553127443\n",
      "Learning rate: 0.00010000\n",
      "-------------------------------------------------------------\n",
      "Epoch:164/200\n"
     ]
    },
    {
     "data": {
      "application/vnd.jupyter.widget-view+json": {
       "model_id": "2f3a8286fe794598bf9c1cce47e0e657",
       "version_major": 2,
       "version_minor": 0
      },
      "text/plain": [
       "  0%|          | 0/77 [00:00<?, ?it/s]"
      ]
     },
     "metadata": {},
     "output_type": "display_data"
    },
    {
     "name": "stdout",
     "output_type": "stream",
     "text": [
      "train loss: 0.325999961620473\n",
      "val loss: 0.42982427908014836\n",
      "Learning rate: 0.00010000\n",
      "-------------------------------------------------------------\n",
      "Epoch:165/200\n"
     ]
    },
    {
     "data": {
      "application/vnd.jupyter.widget-view+json": {
       "model_id": "c05d448b8962490d955f019cf96122cb",
       "version_major": 2,
       "version_minor": 0
      },
      "text/plain": [
       "  0%|          | 0/77 [00:00<?, ?it/s]"
      ]
     },
     "metadata": {},
     "output_type": "display_data"
    },
    {
     "name": "stdout",
     "output_type": "stream",
     "text": [
      "train loss: 0.3228090686175697\n",
      "val loss: 0.4251133835656123\n",
      "Learning rate: 0.00010000\n",
      "-------------------------------------------------------------\n",
      "Epoch:166/200\n"
     ]
    },
    {
     "data": {
      "application/vnd.jupyter.widget-view+json": {
       "model_id": "ab93453ce76541c79eff0719f0d83727",
       "version_major": 2,
       "version_minor": 0
      },
      "text/plain": [
       "  0%|          | 0/77 [00:00<?, ?it/s]"
      ]
     },
     "metadata": {},
     "output_type": "display_data"
    },
    {
     "name": "stdout",
     "output_type": "stream",
     "text": [
      "train loss: 0.3315755442519925\n",
      "val loss: 0.418023827246525\n",
      "Learning rate: 0.00010000\n",
      "-------------------------------------------------------------\n",
      "Epoch:167/200\n"
     ]
    },
    {
     "data": {
      "application/vnd.jupyter.widget-view+json": {
       "model_id": "d6b4c249cf0841b1b34d99319651529b",
       "version_major": 2,
       "version_minor": 0
      },
      "text/plain": [
       "  0%|          | 0/77 [00:00<?, ?it/s]"
      ]
     },
     "metadata": {},
     "output_type": "display_data"
    },
    {
     "name": "stdout",
     "output_type": "stream",
     "text": [
      "train loss: 0.3086061210173385\n",
      "val loss: 0.3979340530454917\n",
      "Learning rate: 0.00010000\n",
      "-------------------------------------------------------------\n",
      "Epoch:168/200\n"
     ]
    },
    {
     "data": {
      "application/vnd.jupyter.widget-view+json": {
       "model_id": "5e0541433cf6409b932aa3c5bf3014d4",
       "version_major": 2,
       "version_minor": 0
      },
      "text/plain": [
       "  0%|          | 0/77 [00:00<?, ?it/s]"
      ]
     },
     "metadata": {},
     "output_type": "display_data"
    },
    {
     "name": "stdout",
     "output_type": "stream",
     "text": [
      "train loss: 0.30772167413344403\n",
      "val loss: 0.48793100254857225\n",
      "Learning rate: 0.00010000\n",
      "-------------------------------------------------------------\n",
      "Epoch:169/200\n"
     ]
    },
    {
     "data": {
      "application/vnd.jupyter.widget-view+json": {
       "model_id": "46bf3d9db59f4b08a74b67bd5cf818bc",
       "version_major": 2,
       "version_minor": 0
      },
      "text/plain": [
       "  0%|          | 0/77 [00:00<?, ?it/s]"
      ]
     },
     "metadata": {},
     "output_type": "display_data"
    },
    {
     "name": "stdout",
     "output_type": "stream",
     "text": [
      "train loss: 0.33368586965899216\n",
      "val loss: 0.4675576038408803\n",
      "Learning rate: 0.00010000\n",
      "-------------------------------------------------------------\n",
      "Epoch:170/200\n"
     ]
    },
    {
     "data": {
      "application/vnd.jupyter.widget-view+json": {
       "model_id": "7c769c7acd6d455bbe55b7c91e6feb82",
       "version_major": 2,
       "version_minor": 0
      },
      "text/plain": [
       "  0%|          | 0/77 [00:00<?, ?it/s]"
      ]
     },
     "metadata": {},
     "output_type": "display_data"
    },
    {
     "name": "stdout",
     "output_type": "stream",
     "text": [
      "train loss: 0.3110882697299456\n",
      "val loss: 0.4544697077790321\n",
      "Learning rate: 0.00010000\n",
      "-------------------------------------------------------------\n",
      "Epoch:171/200\n"
     ]
    },
    {
     "data": {
      "application/vnd.jupyter.widget-view+json": {
       "model_id": "9d9fa7f08ee54de2b01fd86b392737f5",
       "version_major": 2,
       "version_minor": 0
      },
      "text/plain": [
       "  0%|          | 0/77 [00:00<?, ?it/s]"
      ]
     },
     "metadata": {},
     "output_type": "display_data"
    },
    {
     "name": "stdout",
     "output_type": "stream",
     "text": [
      "train loss: 0.33346775469501183\n",
      "val loss: 0.4177382921893936\n",
      "Learning rate: 0.00010000\n",
      "-------------------------------------------------------------\n",
      "Epoch:172/200\n"
     ]
    },
    {
     "data": {
      "application/vnd.jupyter.widget-view+json": {
       "model_id": "6df0b920116c4bc0b36592b8748ff52f",
       "version_major": 2,
       "version_minor": 0
      },
      "text/plain": [
       "  0%|          | 0/77 [00:00<?, ?it/s]"
      ]
     },
     "metadata": {},
     "output_type": "display_data"
    },
    {
     "name": "stdout",
     "output_type": "stream",
     "text": [
      "train loss: 0.3584632552447356\n",
      "val loss: 0.46287664587445204\n",
      "Learning rate: 0.00010000\n",
      "-------------------------------------------------------------\n",
      "Epoch:173/200\n"
     ]
    },
    {
     "data": {
      "application/vnd.jupyter.widget-view+json": {
       "model_id": "b269ad7154654f9ba208273fa1036aae",
       "version_major": 2,
       "version_minor": 0
      },
      "text/plain": [
       "  0%|          | 0/77 [00:00<?, ?it/s]"
      ]
     },
     "metadata": {},
     "output_type": "display_data"
    },
    {
     "name": "stdout",
     "output_type": "stream",
     "text": [
      "train loss: 0.36850942062482706\n",
      "val loss: 0.44839072776122574\n",
      "Learning rate: 0.00010000\n",
      "-------------------------------------------------------------\n",
      "Epoch:174/200\n"
     ]
    },
    {
     "data": {
      "application/vnd.jupyter.widget-view+json": {
       "model_id": "5429721d203742128efaa94c960ed082",
       "version_major": 2,
       "version_minor": 0
      },
      "text/plain": [
       "  0%|          | 0/77 [00:00<?, ?it/s]"
      ]
     },
     "metadata": {},
     "output_type": "display_data"
    },
    {
     "name": "stdout",
     "output_type": "stream",
     "text": [
      "train loss: 0.35404025458814903\n",
      "val loss: 0.47863437687520005\n",
      "Learning rate: 0.00010000\n",
      "-------------------------------------------------------------\n",
      "Epoch:175/200\n"
     ]
    },
    {
     "data": {
      "application/vnd.jupyter.widget-view+json": {
       "model_id": "d68154ef7f9940acbb63846c3cc15562",
       "version_major": 2,
       "version_minor": 0
      },
      "text/plain": [
       "  0%|          | 0/77 [00:00<?, ?it/s]"
      ]
     },
     "metadata": {},
     "output_type": "display_data"
    },
    {
     "name": "stdout",
     "output_type": "stream",
     "text": [
      "train loss: 0.3381799572287988\n",
      "val loss: 0.39372363880583305\n",
      "Learning rate: 0.00010000\n",
      "-------------------------------------------------------------\n",
      "Epoch:176/200\n"
     ]
    },
    {
     "data": {
      "application/vnd.jupyter.widget-view+json": {
       "model_id": "fbdb955312924900885603c3a1d92578",
       "version_major": 2,
       "version_minor": 0
      },
      "text/plain": [
       "  0%|          | 0/77 [00:00<?, ?it/s]"
      ]
     },
     "metadata": {},
     "output_type": "display_data"
    },
    {
     "name": "stdout",
     "output_type": "stream",
     "text": [
      "train loss: 0.34817025324394757\n",
      "val loss: 0.43367942939041904\n",
      "Learning rate: 0.00010000\n",
      "-------------------------------------------------------------\n",
      "Epoch:177/200\n"
     ]
    },
    {
     "data": {
      "application/vnd.jupyter.widget-view+json": {
       "model_id": "66abf38f1d8a418aadefdbb769e2fecd",
       "version_major": 2,
       "version_minor": 0
      },
      "text/plain": [
       "  0%|          | 0/77 [00:00<?, ?it/s]"
      ]
     },
     "metadata": {},
     "output_type": "display_data"
    },
    {
     "name": "stdout",
     "output_type": "stream",
     "text": [
      "train loss: 0.3677466062346026\n",
      "val loss: 0.4791561450732457\n",
      "Learning rate: 0.00010000\n",
      "-------------------------------------------------------------\n",
      "Epoch:178/200\n"
     ]
    },
    {
     "data": {
      "application/vnd.jupyter.widget-view+json": {
       "model_id": "17e18ff8f7dc4481b061d103dfbfcdf0",
       "version_major": 2,
       "version_minor": 0
      },
      "text/plain": [
       "  0%|          | 0/77 [00:00<?, ?it/s]"
      ]
     },
     "metadata": {},
     "output_type": "display_data"
    },
    {
     "name": "stdout",
     "output_type": "stream",
     "text": [
      "train loss: 0.33503412286508577\n",
      "val loss: 0.4006174587272069\n",
      "Learning rate: 0.00010000\n",
      "-------------------------------------------------------------\n",
      "Epoch:179/200\n"
     ]
    },
    {
     "data": {
      "application/vnd.jupyter.widget-view+json": {
       "model_id": "de548f2723c742f792ee96240acb1a7f",
       "version_major": 2,
       "version_minor": 0
      },
      "text/plain": [
       "  0%|          | 0/77 [00:00<?, ?it/s]"
      ]
     },
     "metadata": {},
     "output_type": "display_data"
    },
    {
     "name": "stdout",
     "output_type": "stream",
     "text": [
      "train loss: 0.32750565517422203\n",
      "val loss: 0.4453634942857622\n",
      "Learning rate: 0.00010000\n",
      "-------------------------------------------------------------\n",
      "Epoch:180/200\n"
     ]
    },
    {
     "data": {
      "application/vnd.jupyter.widget-view+json": {
       "model_id": "76d093d2ae954cdc808c2db9328c7376",
       "version_major": 2,
       "version_minor": 0
      },
      "text/plain": [
       "  0%|          | 0/77 [00:00<?, ?it/s]"
      ]
     },
     "metadata": {},
     "output_type": "display_data"
    },
    {
     "name": "stdout",
     "output_type": "stream",
     "text": [
      "train loss: 0.3303552987729056\n",
      "val loss: 0.45939936477112037\n",
      "Learning rate: 0.00010000\n",
      "-------------------------------------------------------------\n",
      "Epoch:181/200\n"
     ]
    },
    {
     "data": {
      "application/vnd.jupyter.widget-view+json": {
       "model_id": "5eb98ad4097f41b69b388c5ddb3dea7e",
       "version_major": 2,
       "version_minor": 0
      },
      "text/plain": [
       "  0%|          | 0/77 [00:00<?, ?it/s]"
      ]
     },
     "metadata": {},
     "output_type": "display_data"
    },
    {
     "name": "stdout",
     "output_type": "stream",
     "text": [
      "train loss: 0.33507709083074677\n",
      "val loss: 0.48279784468137005\n",
      "Learning rate: 0.00010000\n",
      "-------------------------------------------------------------\n",
      "Epoch:182/200\n"
     ]
    },
    {
     "data": {
      "application/vnd.jupyter.widget-view+json": {
       "model_id": "c1885b17d9d64ac381476609973768f6",
       "version_major": 2,
       "version_minor": 0
      },
      "text/plain": [
       "  0%|          | 0/77 [00:00<?, ?it/s]"
      ]
     },
     "metadata": {},
     "output_type": "display_data"
    },
    {
     "name": "stdout",
     "output_type": "stream",
     "text": [
      "train loss: 0.3511459727791421\n",
      "val loss: 0.4019335315059539\n",
      "Learning rate: 0.00010000\n",
      "-------------------------------------------------------------\n",
      "Epoch:183/200\n"
     ]
    },
    {
     "data": {
      "application/vnd.jupyter.widget-view+json": {
       "model_id": "c17e428a275347f8ab7634d2cdcd2b49",
       "version_major": 2,
       "version_minor": 0
      },
      "text/plain": [
       "  0%|          | 0/77 [00:00<?, ?it/s]"
      ]
     },
     "metadata": {},
     "output_type": "display_data"
    },
    {
     "name": "stdout",
     "output_type": "stream",
     "text": [
      "train loss: 0.3613414975332605\n",
      "val loss: 0.3622235488340248\n",
      "Learning rate: 0.00010000\n",
      "-------------------------------------------------------------\n",
      "Epoch:184/200\n"
     ]
    },
    {
     "data": {
      "application/vnd.jupyter.widget-view+json": {
       "model_id": "82734c587a9947289e0f0de9edd61cca",
       "version_major": 2,
       "version_minor": 0
      },
      "text/plain": [
       "  0%|          | 0/77 [00:00<?, ?it/s]"
      ]
     },
     "metadata": {},
     "output_type": "display_data"
    },
    {
     "name": "stdout",
     "output_type": "stream",
     "text": [
      "train loss: 0.35161619411307643\n",
      "val loss: 0.42538056588717826\n",
      "Learning rate: 0.00010000\n",
      "-------------------------------------------------------------\n",
      "Epoch:185/200\n"
     ]
    },
    {
     "data": {
      "application/vnd.jupyter.widget-view+json": {
       "model_id": "40d1252b0695424db61c662b8dbda911",
       "version_major": 2,
       "version_minor": 0
      },
      "text/plain": [
       "  0%|          | 0/77 [00:00<?, ?it/s]"
      ]
     },
     "metadata": {},
     "output_type": "display_data"
    },
    {
     "name": "stdout",
     "output_type": "stream",
     "text": [
      "train loss: 0.3559854932791779\n",
      "val loss: 0.44508314615876654\n",
      "Learning rate: 0.00010000\n",
      "-------------------------------------------------------------\n",
      "Epoch:186/200\n"
     ]
    },
    {
     "data": {
      "application/vnd.jupyter.widget-view+json": {
       "model_id": "f5a13fd3b1e44ec3a3b5374717adc831",
       "version_major": 2,
       "version_minor": 0
      },
      "text/plain": [
       "  0%|          | 0/77 [00:00<?, ?it/s]"
      ]
     },
     "metadata": {},
     "output_type": "display_data"
    },
    {
     "name": "stdout",
     "output_type": "stream",
     "text": [
      "train loss: 0.35227160054007767\n",
      "val loss: 0.490124540107773\n",
      "Learning rate: 0.00010000\n",
      "-------------------------------------------------------------\n",
      "Epoch:187/200\n"
     ]
    },
    {
     "data": {
      "application/vnd.jupyter.widget-view+json": {
       "model_id": "d07a23a62010418287f84c992126cdb1",
       "version_major": 2,
       "version_minor": 0
      },
      "text/plain": [
       "  0%|          | 0/77 [00:00<?, ?it/s]"
      ]
     },
     "metadata": {},
     "output_type": "display_data"
    },
    {
     "name": "stdout",
     "output_type": "stream",
     "text": [
      "train loss: 0.33714556851652805\n",
      "val loss: 0.4026212433157387\n",
      "Learning rate: 0.00010000\n",
      "-------------------------------------------------------------\n",
      "Epoch:188/200\n"
     ]
    },
    {
     "data": {
      "application/vnd.jupyter.widget-view+json": {
       "model_id": "dca7312e67bb48ed9bc325aa058f5d45",
       "version_major": 2,
       "version_minor": 0
      },
      "text/plain": [
       "  0%|          | 0/77 [00:00<?, ?it/s]"
      ]
     },
     "metadata": {},
     "output_type": "display_data"
    },
    {
     "name": "stdout",
     "output_type": "stream",
     "text": [
      "train loss: 0.3487145896073291\n",
      "val loss: 0.4672266389686849\n",
      "Learning rate: 0.00010000\n",
      "-------------------------------------------------------------\n",
      "Epoch:189/200\n"
     ]
    },
    {
     "data": {
      "application/vnd.jupyter.widget-view+json": {
       "model_id": "75ee86aeb04e4f4a83c55dffaffc2c72",
       "version_major": 2,
       "version_minor": 0
      },
      "text/plain": [
       "  0%|          | 0/77 [00:00<?, ?it/s]"
      ]
     },
     "metadata": {},
     "output_type": "display_data"
    },
    {
     "name": "stdout",
     "output_type": "stream",
     "text": [
      "train loss: 0.3495466080453109\n",
      "val loss: 0.4487036789101116\n",
      "Learning rate: 0.00010000\n",
      "-------------------------------------------------------------\n",
      "Epoch:190/200\n"
     ]
    },
    {
     "data": {
      "application/vnd.jupyter.widget-view+json": {
       "model_id": "67dceac76e6345ab8c182ec620c87a9f",
       "version_major": 2,
       "version_minor": 0
      },
      "text/plain": [
       "  0%|          | 0/77 [00:00<?, ?it/s]"
      ]
     },
     "metadata": {},
     "output_type": "display_data"
    },
    {
     "name": "stdout",
     "output_type": "stream",
     "text": [
      "train loss: 0.3410835866881362\n",
      "val loss: 0.4640867681074745\n",
      "Learning rate: 0.00010000\n",
      "-------------------------------------------------------------\n",
      "Epoch:191/200\n"
     ]
    },
    {
     "data": {
      "application/vnd.jupyter.widget-view+json": {
       "model_id": "f636231c622849c98f37f9c3945ec532",
       "version_major": 2,
       "version_minor": 0
      },
      "text/plain": [
       "  0%|          | 0/77 [00:00<?, ?it/s]"
      ]
     },
     "metadata": {},
     "output_type": "display_data"
    },
    {
     "name": "stdout",
     "output_type": "stream",
     "text": [
      "train loss: 0.3314016453292148\n",
      "val loss: 0.44395376212916793\n",
      "Learning rate: 0.00010000\n",
      "-------------------------------------------------------------\n",
      "Epoch:192/200\n"
     ]
    },
    {
     "data": {
      "application/vnd.jupyter.widget-view+json": {
       "model_id": "948ae7c511d142ed9c0a827d94238fa3",
       "version_major": 2,
       "version_minor": 0
      },
      "text/plain": [
       "  0%|          | 0/77 [00:00<?, ?it/s]"
      ]
     },
     "metadata": {},
     "output_type": "display_data"
    },
    {
     "name": "stdout",
     "output_type": "stream",
     "text": [
      "train loss: 0.3406623762169541\n",
      "val loss: 0.4457577215160814\n",
      "Learning rate: 0.00010000\n",
      "-------------------------------------------------------------\n",
      "Epoch:193/200\n"
     ]
    },
    {
     "data": {
      "application/vnd.jupyter.widget-view+json": {
       "model_id": "ec853151f3624a629d34cb2bedc14b11",
       "version_major": 2,
       "version_minor": 0
      },
      "text/plain": [
       "  0%|          | 0/77 [00:00<?, ?it/s]"
      ]
     },
     "metadata": {},
     "output_type": "display_data"
    },
    {
     "name": "stdout",
     "output_type": "stream",
     "text": [
      "train loss: 0.3170891591300184\n",
      "val loss: 0.4566924130389007\n",
      "Learning rate: 0.00010000\n",
      "-------------------------------------------------------------\n",
      "Epoch:194/200\n"
     ]
    },
    {
     "data": {
      "application/vnd.jupyter.widget-view+json": {
       "model_id": "37563f8c0a7e460eaa6a31b446fc7dff",
       "version_major": 2,
       "version_minor": 0
      },
      "text/plain": [
       "  0%|          | 0/77 [00:00<?, ?it/s]"
      ]
     },
     "metadata": {},
     "output_type": "display_data"
    },
    {
     "name": "stdout",
     "output_type": "stream",
     "text": [
      "train loss: 0.3239163960636167\n",
      "val loss: 0.45343933999346886\n",
      "Learning rate: 0.00010000\n",
      "-------------------------------------------------------------\n",
      "Epoch:195/200\n"
     ]
    },
    {
     "data": {
      "application/vnd.jupyter.widget-view+json": {
       "model_id": "7565b735a2774ccabf1ba39fcca42d27",
       "version_major": 2,
       "version_minor": 0
      },
      "text/plain": [
       "  0%|          | 0/77 [00:00<?, ?it/s]"
      ]
     },
     "metadata": {},
     "output_type": "display_data"
    },
    {
     "name": "stdout",
     "output_type": "stream",
     "text": [
      "train loss: 0.3505949200826383\n",
      "val loss: 0.4982649626333011\n",
      "Learning rate: 0.00010000\n",
      "-------------------------------------------------------------\n",
      "Epoch:196/200\n"
     ]
    },
    {
     "data": {
      "application/vnd.jupyter.widget-view+json": {
       "model_id": "bd62b0d1446f494fb79874abe8c55884",
       "version_major": 2,
       "version_minor": 0
      },
      "text/plain": [
       "  0%|          | 0/77 [00:00<?, ?it/s]"
      ]
     },
     "metadata": {},
     "output_type": "display_data"
    },
    {
     "name": "stdout",
     "output_type": "stream",
     "text": [
      "train loss: 0.34319084000372607\n",
      "val loss: 0.47961739131129216\n",
      "Learning rate: 0.00010000\n",
      "-------------------------------------------------------------\n",
      "Epoch:197/200\n"
     ]
    },
    {
     "data": {
      "application/vnd.jupyter.widget-view+json": {
       "model_id": "1ab979092a7f4297b0a3fbfe839918d4",
       "version_major": 2,
       "version_minor": 0
      },
      "text/plain": [
       "  0%|          | 0/77 [00:00<?, ?it/s]"
      ]
     },
     "metadata": {},
     "output_type": "display_data"
    },
    {
     "name": "stdout",
     "output_type": "stream",
     "text": [
      "train loss: 0.3233750100552584\n",
      "val loss: 0.4035148997412135\n",
      "Learning rate: 0.00010000\n",
      "-------------------------------------------------------------\n",
      "Epoch:198/200\n"
     ]
    },
    {
     "data": {
      "application/vnd.jupyter.widget-view+json": {
       "model_id": "8809308aba0c452fbdafe4aeb1422bbc",
       "version_major": 2,
       "version_minor": 0
      },
      "text/plain": [
       "  0%|          | 0/77 [00:00<?, ?it/s]"
      ]
     },
     "metadata": {},
     "output_type": "display_data"
    },
    {
     "name": "stdout",
     "output_type": "stream",
     "text": [
      "train loss: 0.34011729394819096\n",
      "val loss: 0.4072432903630643\n",
      "Learning rate: 0.00010000\n",
      "-------------------------------------------------------------\n",
      "Epoch:199/200\n"
     ]
    },
    {
     "data": {
      "application/vnd.jupyter.widget-view+json": {
       "model_id": "079441b127804f1ca0b3ec3c70788770",
       "version_major": 2,
       "version_minor": 0
      },
      "text/plain": [
       "  0%|          | 0/77 [00:00<?, ?it/s]"
      ]
     },
     "metadata": {},
     "output_type": "display_data"
    },
    {
     "name": "stdout",
     "output_type": "stream",
     "text": [
      "train loss: 0.3294749375620859\n",
      "val loss: 0.42044055578361506\n",
      "Learning rate: 0.00010000\n",
      "-------------------------------------------------------------\n",
      "Epoch:200/200\n"
     ]
    },
    {
     "data": {
      "application/vnd.jupyter.widget-view+json": {
       "model_id": "9301923dbb474b7b8d493e8c3bb04a6f",
       "version_major": 2,
       "version_minor": 0
      },
      "text/plain": [
       "  0%|          | 0/77 [00:00<?, ?it/s]"
      ]
     },
     "metadata": {},
     "output_type": "display_data"
    },
    {
     "name": "stdout",
     "output_type": "stream",
     "text": [
      "train loss: 0.32965963226484873\n",
      "val loss: 0.4333277323852394\n",
      "Learning rate: 0.00010000\n",
      "-------------------------------------------------------------\n",
      "Best Validation loss 0.3622235488340248\n",
      "Best Train loss 0.299927478161061\n"
     ]
    },
    {
     "data": {
      "image/png": "[encoded data removed]",
      "text/plain": [
       "<Figure size 432x288 with 1 Axes>"
      ]
     },
     "metadata": {
      "needs_background": "light"
     },
     "output_type": "display_data"
    }
   ],
   "source": [
    "load_weight_path = './weights/siamese_model_resnet18.pth'\n",
    "save_weight_path = './weights/siamese_model_resnet18_400_x.pth'\n",
    "load_weight = False\n",
    "# set epochs rounds\n",
    "num_epochs = 200\n",
    "train_with_val(load_weight_path, save_weight_path, load_weight, num_epochs)"
   ]
  },
  {
   "cell_type": "code",
   "execution_count": null,
   "id": "6ccfcead",
   "metadata": {},
   "outputs": [],
   "source": []
  }
 ],
 "metadata": {
  "kernelspec": {
   "display_name": "Python 3 (ipykernel)",
   "language": "python",
   "name": "python3"
  },
  "language_info": {
   "codemirror_mode": {
    "name": "ipython",
    "version": 3
   },
   "file_extension": ".py",
   "mimetype": "text/x-python",
   "name": "python",
   "nbconvert_exporter": "python",
   "pygments_lexer": "ipython3",
   "version": "3.9.0"
  }
 },
 "nbformat": 4,
 "nbformat_minor": 5
}
